{
 "cells": [
  {
   "cell_type": "markdown",
   "metadata": {},
   "source": [
    "In this notebook, we will play with the models."
   ]
  },
  {
   "cell_type": "code",
   "execution_count": 1,
   "metadata": {},
   "outputs": [
    {
     "name": "stderr",
     "output_type": "stream",
     "text": [
      "c:\\Users\\ASUS\\AppData\\Local\\Programs\\Python\\Python312\\Lib\\site-packages\\tqdm\\auto.py:21: TqdmWarning: IProgress not found. Please update jupyter and ipywidgets. See https://ipywidgets.readthedocs.io/en/stable/user_install.html\n",
      "  from .autonotebook import tqdm as notebook_tqdm\n"
     ]
    }
   ],
   "source": [
    "from torchvision.models import resnet18\n",
    "import model_utils\n",
    "import plotter\n",
    "import data\n",
    "import matplotlib.pyplot as plt\n",
    "import torch.nn as nn\n",
    "import torch\n",
    "from torch.utils.data import DataLoader"
   ]
  },
  {
   "cell_type": "code",
   "execution_count": 2,
   "metadata": {},
   "outputs": [
    {
     "data": {
      "text/plain": [
       "tuple"
      ]
     },
     "execution_count": 2,
     "metadata": {},
     "output_type": "execute_result"
    }
   ],
   "source": [
    "train_data = data.CIFAKEDataset(root_dir=\"data/CIFAKE\", split=\"train\")\n",
    "test_data = data.CIFAKEDataset(root_dir=\"data/CIFAKE\", split=\"test\")\n",
    "type(train_data[10])"
   ]
  },
  {
   "cell_type": "code",
   "execution_count": 3,
   "metadata": {},
   "outputs": [
    {
     "name": "stdout",
     "output_type": "stream",
     "text": [
      "using cuda device\n"
     ]
    }
   ],
   "source": [
    "# import model to finetune\n",
    "model = model_utils.FTModel(model=resnet18(weights='IMAGENET1K_V1'))\n",
    "device = model_utils.get_device()\n",
    "print(f\"using {device} device\")\n",
    "model.model.to(device)\n",
    "\n",
    "LEARNING_RATE = 3e-4\n",
    "EPOCHS = 10\n",
    "BATCH_SIZE = 128\n",
    "\n",
    "train_dataloader = DataLoader(train_data, batch_size=BATCH_SIZE, pin_memory=True, shuffle=True)\n",
    "test_dataloader = DataLoader(test_data, batch_size=BATCH_SIZE, pin_memory=True)\n",
    "\n",
    "loss_fn = nn.CrossEntropyLoss()\n",
    "optimizer = torch.optim.SGD(model.model.fc.parameters(), lr=LEARNING_RATE)\n",
    "\n",
    "dataloaders = (train_dataloader, test_dataloader)"
   ]
  },
  {
   "cell_type": "code",
   "execution_count": 4,
   "metadata": {},
   "outputs": [
    {
     "name": "stdout",
     "output_type": "stream",
     "text": [
      "Epoch 1/10\n",
      "-------------------------------\n",
      "training loss: 0.787494  [ 5120/100000]\n",
      "training loss: 0.703738  [10240/100000]\n",
      "training loss: 0.736755  [15360/100000]\n",
      "training loss: 0.710391  [20480/100000]\n",
      "training loss: 0.708825  [25600/100000]\n",
      "training loss: 0.771173  [30720/100000]\n",
      "training loss: 0.661116  [35840/100000]\n",
      "training loss: 0.686812  [40960/100000]\n",
      "training loss: 0.639077  [46080/100000]\n",
      "training loss: 0.643570  [51200/100000]\n",
      "training loss: 0.657821  [56320/100000]\n",
      "training loss: 0.602883  [61440/100000]\n",
      "training loss: 0.665271  [66560/100000]\n",
      "training loss: 0.591375  [71680/100000]\n",
      "training loss: 0.673362  [76800/100000]\n",
      "training loss: 0.678904  [81920/100000]\n",
      "training loss: 0.721372  [87040/100000]\n",
      "training loss: 0.574846  [92160/100000]\n",
      "training loss: 0.643709  [97280/100000]\n",
      "Validation Error: \n",
      " Accuracy: 67.4%, Avg loss: 0.004811 \n",
      "\n",
      "new best model found\n",
      "best model saved\n",
      "Epoch 2/10\n",
      "-------------------------------\n",
      "training loss: 0.634138  [ 5120/100000]\n",
      "training loss: 0.571826  [10240/100000]\n",
      "training loss: 0.633550  [15360/100000]\n",
      "training loss: 0.568258  [20480/100000]\n",
      "training loss: 0.615644  [25600/100000]\n",
      "training loss: 0.554224  [30720/100000]\n",
      "training loss: 0.609239  [35840/100000]\n",
      "training loss: 0.565186  [40960/100000]\n",
      "training loss: 0.573419  [46080/100000]\n",
      "training loss: 0.613860  [51200/100000]\n",
      "training loss: 0.512132  [56320/100000]\n",
      "training loss: 0.513056  [61440/100000]\n",
      "training loss: 0.596229  [66560/100000]\n",
      "training loss: 0.600899  [71680/100000]\n",
      "training loss: 0.572998  [76800/100000]\n",
      "training loss: 0.529237  [81920/100000]\n",
      "training loss: 0.562048  [87040/100000]\n",
      "training loss: 0.530997  [92160/100000]\n",
      "training loss: 0.649200  [97280/100000]\n",
      "Validation Error: \n",
      " Accuracy: 71.5%, Avg loss: 0.004439 \n",
      "\n",
      "new best model found\n",
      "best model saved\n",
      "Epoch 3/10\n",
      "-------------------------------\n",
      "training loss: 0.606357  [ 5120/100000]\n",
      "training loss: 0.558238  [10240/100000]\n",
      "training loss: 0.567426  [15360/100000]\n",
      "training loss: 0.543350  [20480/100000]\n",
      "training loss: 0.543136  [25600/100000]\n",
      "training loss: 0.502418  [30720/100000]\n",
      "training loss: 0.548216  [35840/100000]\n",
      "training loss: 0.518165  [40960/100000]\n",
      "training loss: 0.571305  [46080/100000]\n",
      "training loss: 0.632313  [51200/100000]\n",
      "training loss: 0.606143  [56320/100000]\n",
      "training loss: 0.473591  [61440/100000]\n",
      "training loss: 0.566880  [66560/100000]\n",
      "training loss: 0.478730  [71680/100000]\n",
      "training loss: 0.572942  [76800/100000]\n",
      "training loss: 0.493233  [81920/100000]\n",
      "training loss: 0.549156  [87040/100000]\n",
      "training loss: 0.564569  [92160/100000]\n",
      "training loss: 0.574100  [97280/100000]\n",
      "Validation Error: \n",
      " Accuracy: 73.0%, Avg loss: 0.004300 \n",
      "\n",
      "new best model found\n",
      "best model saved\n",
      "Epoch 4/10\n",
      "-------------------------------\n",
      "training loss: 0.542850  [ 5120/100000]\n",
      "training loss: 0.557804  [10240/100000]\n",
      "training loss: 0.438111  [15360/100000]\n",
      "training loss: 0.598948  [20480/100000]\n",
      "training loss: 0.548555  [25600/100000]\n",
      "training loss: 0.483282  [30720/100000]\n",
      "training loss: 0.514857  [35840/100000]\n",
      "training loss: 0.534681  [40960/100000]\n",
      "training loss: 0.545311  [46080/100000]\n",
      "training loss: 0.536966  [51200/100000]\n",
      "training loss: 0.608410  [56320/100000]\n",
      "training loss: 0.556019  [61440/100000]\n",
      "training loss: 0.527474  [66560/100000]\n",
      "training loss: 0.492616  [71680/100000]\n",
      "training loss: 0.536031  [76800/100000]\n",
      "training loss: 0.531823  [81920/100000]\n",
      "training loss: 0.456263  [87040/100000]\n",
      "training loss: 0.551685  [92160/100000]\n",
      "training loss: 0.471285  [97280/100000]\n",
      "Validation Error: \n",
      " Accuracy: 73.8%, Avg loss: 0.004193 \n",
      "\n",
      "new best model found\n",
      "best model saved\n",
      "Epoch 5/10\n",
      "-------------------------------\n",
      "training loss: 0.549856  [ 5120/100000]\n",
      "training loss: 0.537765  [10240/100000]\n",
      "training loss: 0.543811  [15360/100000]\n",
      "training loss: 0.539616  [20480/100000]\n",
      "training loss: 0.483154  [25600/100000]\n",
      "training loss: 0.495294  [30720/100000]\n",
      "training loss: 0.477132  [35840/100000]\n",
      "training loss: 0.508509  [40960/100000]\n",
      "training loss: 0.506462  [46080/100000]\n",
      "training loss: 0.561245  [51200/100000]\n",
      "training loss: 0.573810  [56320/100000]\n",
      "training loss: 0.495424  [61440/100000]\n",
      "training loss: 0.515750  [66560/100000]\n",
      "training loss: 0.553900  [71680/100000]\n",
      "training loss: 0.555073  [76800/100000]\n",
      "training loss: 0.491104  [81920/100000]\n",
      "training loss: 0.504760  [87040/100000]\n",
      "training loss: 0.547251  [92160/100000]\n",
      "training loss: 0.513206  [97280/100000]\n",
      "Validation Error: \n",
      " Accuracy: 74.4%, Avg loss: 0.004150 \n",
      "\n",
      "new best model found\n",
      "best model saved\n",
      "Epoch 6/10\n",
      "-------------------------------\n",
      "training loss: 0.532152  [ 5120/100000]\n",
      "training loss: 0.574547  [10240/100000]\n",
      "training loss: 0.531232  [15360/100000]\n",
      "training loss: 0.530724  [20480/100000]\n",
      "training loss: 0.555870  [25600/100000]\n",
      "training loss: 0.568245  [30720/100000]\n",
      "training loss: 0.558695  [35840/100000]\n",
      "training loss: 0.600322  [40960/100000]\n",
      "training loss: 0.500579  [46080/100000]\n",
      "training loss: 0.503528  [51200/100000]\n",
      "training loss: 0.533669  [56320/100000]\n",
      "training loss: 0.470059  [61440/100000]\n",
      "training loss: 0.514558  [66560/100000]\n",
      "training loss: 0.467284  [71680/100000]\n",
      "training loss: 0.493833  [76800/100000]\n",
      "training loss: 0.539772  [81920/100000]\n",
      "training loss: 0.504248  [87040/100000]\n",
      "training loss: 0.516750  [92160/100000]\n",
      "training loss: 0.494355  [97280/100000]\n",
      "Validation Error: \n",
      " Accuracy: 75.0%, Avg loss: 0.004067 \n",
      "\n",
      "new best model found\n",
      "best model saved\n",
      "Epoch 7/10\n",
      "-------------------------------\n",
      "training loss: 0.508314  [ 5120/100000]\n",
      "training loss: 0.523809  [10240/100000]\n",
      "training loss: 0.524613  [15360/100000]\n",
      "training loss: 0.503992  [20480/100000]\n",
      "training loss: 0.505556  [25600/100000]\n",
      "training loss: 0.511140  [30720/100000]\n",
      "training loss: 0.512691  [35840/100000]\n",
      "training loss: 0.443588  [40960/100000]\n",
      "training loss: 0.604561  [46080/100000]\n",
      "training loss: 0.530752  [51200/100000]\n",
      "training loss: 0.499055  [56320/100000]\n",
      "training loss: 0.519173  [61440/100000]\n",
      "training loss: 0.488536  [66560/100000]\n",
      "training loss: 0.458407  [71680/100000]\n",
      "training loss: 0.556039  [76800/100000]\n",
      "training loss: 0.503637  [81920/100000]\n",
      "training loss: 0.545460  [87040/100000]\n",
      "training loss: 0.454444  [92160/100000]\n",
      "training loss: 0.489028  [97280/100000]\n",
      "Validation Error: \n",
      " Accuracy: 75.1%, Avg loss: 0.004044 \n",
      "\n",
      "new best model found\n",
      "best model saved\n",
      "Epoch 8/10\n",
      "-------------------------------\n",
      "training loss: 0.521417  [ 5120/100000]\n",
      "training loss: 0.547616  [10240/100000]\n",
      "training loss: 0.497799  [15360/100000]\n",
      "training loss: 0.561002  [20480/100000]\n",
      "training loss: 0.497346  [25600/100000]\n",
      "training loss: 0.527223  [30720/100000]\n",
      "training loss: 0.498265  [35840/100000]\n",
      "training loss: 0.492081  [40960/100000]\n",
      "training loss: 0.506437  [46080/100000]\n",
      "training loss: 0.443349  [51200/100000]\n",
      "training loss: 0.515801  [56320/100000]\n",
      "training loss: 0.444040  [61440/100000]\n",
      "training loss: 0.452754  [66560/100000]\n",
      "training loss: 0.458958  [71680/100000]\n",
      "training loss: 0.446060  [76800/100000]\n",
      "training loss: 0.581408  [81920/100000]\n",
      "training loss: 0.471647  [87040/100000]\n",
      "training loss: 0.512152  [92160/100000]\n",
      "training loss: 0.612569  [97280/100000]\n",
      "Validation Error: \n",
      " Accuracy: 75.2%, Avg loss: 0.004013 \n",
      "\n",
      "new best model found\n",
      "best model saved\n",
      "Epoch 9/10\n",
      "-------------------------------\n",
      "training loss: 0.526900  [ 5120/100000]\n",
      "training loss: 0.485783  [10240/100000]\n",
      "training loss: 0.508851  [15360/100000]\n",
      "training loss: 0.559458  [20480/100000]\n",
      "training loss: 0.453524  [25600/100000]\n",
      "training loss: 0.579554  [30720/100000]\n",
      "training loss: 0.483267  [35840/100000]\n",
      "training loss: 0.489456  [40960/100000]\n",
      "training loss: 0.524659  [46080/100000]\n",
      "training loss: 0.533498  [51200/100000]\n",
      "training loss: 0.479859  [56320/100000]\n",
      "training loss: 0.514045  [61440/100000]\n",
      "training loss: 0.511863  [66560/100000]\n",
      "training loss: 0.476058  [71680/100000]\n",
      "training loss: 0.560989  [76800/100000]\n",
      "training loss: 0.461827  [81920/100000]\n",
      "training loss: 0.473682  [87040/100000]\n",
      "training loss: 0.488849  [92160/100000]\n",
      "training loss: 0.476141  [97280/100000]\n",
      "Validation Error: \n",
      " Accuracy: 75.3%, Avg loss: 0.004011 \n",
      "\n",
      "new best model found\n",
      "best model saved\n",
      "Epoch 10/10\n",
      "-------------------------------\n",
      "training loss: 0.545637  [ 5120/100000]\n",
      "training loss: 0.515748  [10240/100000]\n",
      "training loss: 0.488352  [15360/100000]\n",
      "training loss: 0.451684  [20480/100000]\n",
      "training loss: 0.525709  [25600/100000]\n",
      "training loss: 0.447994  [30720/100000]\n",
      "training loss: 0.506853  [35840/100000]\n",
      "training loss: 0.517893  [40960/100000]\n",
      "training loss: 0.518480  [46080/100000]\n",
      "training loss: 0.483759  [51200/100000]\n",
      "training loss: 0.510336  [56320/100000]\n",
      "training loss: 0.473266  [61440/100000]\n",
      "training loss: 0.533502  [66560/100000]\n",
      "training loss: 0.510239  [71680/100000]\n",
      "training loss: 0.509037  [76800/100000]\n",
      "training loss: 0.533689  [81920/100000]\n",
      "training loss: 0.471649  [87040/100000]\n",
      "training loss: 0.540697  [92160/100000]\n",
      "training loss: 0.539354  [97280/100000]\n",
      "Validation Error: \n",
      " Accuracy: 75.7%, Avg loss: 0.003974 \n",
      "\n",
      "new best model found\n",
      "best model saved\n"
     ]
    }
   ],
   "source": [
    "# N.B.: the loss displayed is the testing loss! (not train unless specified)\n",
    "\n",
    "losses = model_utils.train(dataloaders, loss_fn, optimizer, model.model, \"FTResNet\", BATCH_SIZE, EPOCHS, loss_thresh=2.5, force_train=False)"
   ]
  },
  {
   "cell_type": "code",
   "execution_count": 5,
   "metadata": {},
   "outputs": [
    {
     "name": "stdout",
     "output_type": "stream",
     "text": [
      "Test Error: \n",
      " Accuracy: 75.7%, Avg loss: 0.003974 \n",
      "\n"
     ]
    },
    {
     "data": {
      "text/plain": [
       "0.003974110315740109"
      ]
     },
     "execution_count": 5,
     "metadata": {},
     "output_type": "execute_result"
    }
   ],
   "source": [
    "model_utils.test(test_dataloader, model.model, loss_fn, device)"
   ]
  },
  {
   "cell_type": "code",
   "execution_count": 8,
   "metadata": {},
   "outputs": [
    {
     "data": {
      "image/png": "[encoded data removed]",
      "text/plain": [
       "<Figure size 640x480 with 1 Axes>"
      ]
     },
     "metadata": {},
     "output_type": "display_data"
    }
   ],
   "source": [
    "if losses != []: plotter.plot_losses(losses)"
   ]
  }
 ],
 "metadata": {
  "kernelspec": {
   "display_name": "Python 3",
   "language": "python",
   "name": "python3"
  },
  "language_info": {
   "codemirror_mode": {
    "name": "ipython",
    "version": 3
   },
   "file_extension": ".py",
   "mimetype": "text/x-python",
   "name": "python",
   "nbconvert_exporter": "python",
   "pygments_lexer": "ipython3",
   "version": "3.12.2"
  }
 },
 "nbformat": 4,
 "nbformat_minor": 2
}
