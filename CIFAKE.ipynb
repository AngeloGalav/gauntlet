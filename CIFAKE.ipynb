{
 "cells": [
  {
   "cell_type": "markdown",
   "metadata": {},
   "source": [
    "# CIFAKE-based model\n",
    "In this notebook, we will perform various experiments while training a model on the CIFAKE dataset.\n",
    "\n",
    "CIFAKE contains around 120k images, which can either be real or AI generated. The images have a 32x32 resolution, so it will be interesting to see if our models can capture the patterns correctly even if the resolution is so low."
   ]
  },
  {
   "cell_type": "code",
   "execution_count": null,
   "metadata": {},
   "outputs": [
    {
     "ename": "TypeError",
     "evalue": "function() argument 'code' must be code, not str",
     "output_type": "error",
     "traceback": [
      "\u001b[1;31m---------------------------------------------------------------------------\u001b[0m",
      "\u001b[1;31mTypeError\u001b[0m                                 Traceback (most recent call last)",
      "Cell \u001b[1;32mIn[94], line 13\u001b[0m\n\u001b[0;32m     11\u001b[0m \u001b[38;5;66;03m# removes tqdm for lime\u001b[39;00m\n\u001b[0;32m     12\u001b[0m \u001b[38;5;28;01mimport\u001b[39;00m \u001b[38;5;21;01mtqdm\u001b[39;00m\n\u001b[1;32m---> 13\u001b[0m \u001b[38;5;28;43;01mclass\u001b[39;49;00m\u001b[43m \u001b[49m\u001b[38;5;21;43;01m_TQDM\u001b[39;49;00m\u001b[43m(\u001b[49m\u001b[43mtqdm\u001b[49m\u001b[38;5;241;43m.\u001b[39;49m\u001b[43mtqdm\u001b[49m\u001b[43m)\u001b[49m\u001b[43m:\u001b[49m\n\u001b[0;32m     14\u001b[0m \u001b[43m    \u001b[49m\u001b[38;5;28;43;01mdef\u001b[39;49;00m\u001b[43m \u001b[49m\u001b[38;5;21;43m__init__\u001b[39;49m\u001b[43m(\u001b[49m\u001b[38;5;28;43mself\u001b[39;49m\u001b[43m,\u001b[49m\u001b[43m \u001b[49m\u001b[38;5;241;43m*\u001b[39;49m\u001b[43margv\u001b[49m\u001b[43m,\u001b[49m\u001b[43m \u001b[49m\u001b[38;5;241;43m*\u001b[39;49m\u001b[38;5;241;43m*\u001b[39;49m\u001b[43mkwargs\u001b[49m\u001b[43m)\u001b[49m\u001b[43m:\u001b[49m\n\u001b[0;32m     15\u001b[0m \u001b[43m        \u001b[49m\u001b[43mkwargs\u001b[49m\u001b[43m[\u001b[49m\u001b[38;5;124;43m'\u001b[39;49m\u001b[38;5;124;43mdisable\u001b[39;49m\u001b[38;5;124;43m'\u001b[39;49m\u001b[43m]\u001b[49m\u001b[43m \u001b[49m\u001b[38;5;241;43m=\u001b[39;49m\u001b[43m \u001b[49m\u001b[38;5;28;43;01mTrue\u001b[39;49;00m\n",
      "\u001b[1;31mTypeError\u001b[0m: function() argument 'code' must be code, not str"
     ]
    }
   ],
   "source": [
    "import torch\n",
    "from torchvision.models import resnet18, resnet50\n",
    "import model_utils\n",
    "import plotter\n",
    "import data_utils\n",
    "import matplotlib.pyplot as plt\n",
    "import torch.nn as nn\n",
    "from torch.utils.data import DataLoader\n",
    "import importlib\n",
    "import torchvision.transforms as transforms\n",
    "\n",
    "import xai\n",
    "\n",
    "model_utils.fix_random(42)\n",
    "TRAINING_MODE=True "
   ]
  },
  {
   "cell_type": "code",
   "execution_count": 73,
   "metadata": {},
   "outputs": [
    {
     "name": "stdout",
     "output_type": "stream",
     "text": [
      "using cuda device\n"
     ]
    }
   ],
   "source": [
    "# import model to finetune\n",
    "ft_resnet18 = resnet18(weights='IMAGENET1K_V1')\n",
    "model_utils.prepare_for_ft(ft_resnet18, num_classes=2)\n",
    "device = model_utils.get_device()\n",
    "print(f\"using {device} device\")\n",
    "ft_resnet18.to(device)\n",
    "\n",
    "transform_cifake = transforms.Compose([\n",
    "    transforms.Lambda(lambda image: image.convert('RGB')), # Convert to RGB\n",
    "    transforms.ToTensor(),\n",
    "    transforms.Normalize(mean=[0.485, 0.456, 0.406],\n",
    "                         std=[0.229, 0.224, 0.225])        # normalize pixel values\n",
    "])\n",
    "\n",
    "LEARNING_RATE = 3e-4\n",
    "EPOCHS = 10\n",
    "BATCH_SIZE = 128\n",
    "DATASET_NAME = \"CIFAKE\""
   ]
  },
  {
   "cell_type": "code",
   "execution_count": null,
   "metadata": {},
   "outputs": [],
   "source": [
    "train_data = data_utils.CIFAKEDataset(root_dir=\"data/CIFAKE\", split=\"train\", transform=transform_cifake)\n",
    "test_data = data_utils.CIFAKEDataset(root_dir=\"data/CIFAKE\", split=\"test\", transform=transform_cifake)\n",
    "\n",
    "val_data, test_data = data_utils.train_test_split(0.5, dataset=test_data, isRandom=True)\n",
    "\n",
    "train_dataloader = DataLoader(train_data, batch_size=BATCH_SIZE, pin_memory=True, shuffle=True)\n",
    "test_dataloader = DataLoader(test_data, batch_size=BATCH_SIZE, pin_memory=True)\n",
    "dataloaders = (train_dataloader, test_dataloader)"
   ]
  },
  {
   "cell_type": "code",
   "execution_count": null,
   "metadata": {},
   "outputs": [],
   "source": [
    "print"
   ]
  },
  {
   "cell_type": "code",
   "execution_count": 4,
   "metadata": {},
   "outputs": [],
   "source": [
    "loss_fn = nn.BCEWithLogitsLoss()\n",
    "optimizer = torch.optim.SGD(ft_resnet18.fc.parameters(), lr=LEARNING_RATE)\n",
    "\n",
    "model_name = \"CIFAKE_FTResNet18\""
   ]
  },
  {
   "cell_type": "code",
   "execution_count": 5,
   "metadata": {},
   "outputs": [
    {
     "name": "stdout",
     "output_type": "stream",
     "text": [
      "Epoch 1/10\n",
      "-------------------------------\n",
      "Training loss: 0.747349, train accuracy: 52.17%  [ 5120/100000]\n",
      "Training loss: 0.711687, train accuracy: 52.45%  [10240/100000]\n",
      "Training loss: 0.722306, train accuracy: 52.96%  [15360/100000]\n",
      "Training loss: 0.713297, train accuracy: 53.60%  [20480/100000]\n",
      "Training loss: 0.693075, train accuracy: 53.96%  [25600/100000]\n",
      "Training loss: 0.684764, train accuracy: 54.10%  [30720/100000]\n",
      "Training loss: 0.717629, train accuracy: 54.51%  [35840/100000]\n",
      "Training loss: 0.697097, train accuracy: 54.71%  [40960/100000]\n",
      "Training loss: 0.679153, train accuracy: 55.20%  [46080/100000]\n",
      "Training loss: 0.682286, train accuracy: 55.41%  [51200/100000]\n",
      "Training loss: 0.699185, train accuracy: 55.73%  [56320/100000]\n",
      "Training loss: 0.687993, train accuracy: 55.85%  [61440/100000]\n",
      "Training loss: 0.685966, train accuracy: 56.12%  [66560/100000]\n",
      "Training loss: 0.700772, train accuracy: 56.40%  [71680/100000]\n",
      "Training loss: 0.650662, train accuracy: 56.74%  [76800/100000]\n",
      "Training loss: 0.678746, train accuracy: 57.02%  [81920/100000]\n",
      "Training loss: 0.652243, train accuracy: 57.30%  [87040/100000]\n",
      "Training loss: 0.689715, train accuracy: 57.56%  [92160/100000]\n",
      "Training loss: 0.714921, train accuracy: 57.77%  [97280/100000]\n",
      "Validation Error:\n",
      "Accuracy: 68.3%, Avg loss: 0.639857\n",
      "New best model found! (based on lowest loss)\n",
      "...and saved.\n",
      "\n",
      "\n",
      "Epoch 2/10\n",
      "-------------------------------\n",
      "Training loss: 0.680842, train accuracy: 62.99%  [ 5120/100000]\n",
      "Training loss: 0.700803, train accuracy: 63.32%  [10240/100000]\n",
      "Training loss: 0.661991, train accuracy: 62.90%  [15360/100000]\n",
      "Training loss: 0.668519, train accuracy: 63.20%  [20480/100000]\n",
      "Training loss: 0.704376, train accuracy: 63.34%  [25600/100000]\n",
      "Training loss: 0.634192, train accuracy: 63.45%  [30720/100000]\n",
      "Training loss: 0.643969, train accuracy: 63.55%  [35840/100000]\n",
      "Training loss: 0.628731, train accuracy: 63.76%  [40960/100000]\n",
      "Training loss: 0.645799, train accuracy: 64.06%  [46080/100000]\n",
      "Training loss: 0.675436, train accuracy: 64.28%  [51200/100000]\n",
      "Training loss: 0.604374, train accuracy: 64.43%  [56320/100000]\n",
      "Training loss: 0.677555, train accuracy: 64.62%  [61440/100000]\n",
      "Training loss: 0.629530, train accuracy: 64.71%  [66560/100000]\n",
      "Training loss: 0.664820, train accuracy: 64.87%  [71680/100000]\n",
      "Training loss: 0.651194, train accuracy: 65.11%  [76800/100000]\n",
      "Training loss: 0.639726, train accuracy: 65.23%  [81920/100000]\n",
      "Training loss: 0.600343, train accuracy: 65.32%  [87040/100000]\n",
      "Training loss: 0.637478, train accuracy: 65.41%  [92160/100000]\n",
      "Training loss: 0.667445, train accuracy: 65.58%  [97280/100000]\n",
      "Validation Error:\n",
      "Accuracy: 69.4%, Avg loss: 0.624090\n",
      "New best model found! (based on lowest loss)\n",
      "...and saved.\n",
      "\n",
      "\n",
      "Epoch 3/10\n",
      "-------------------------------\n",
      "Training loss: 0.613457, train accuracy: 68.38%  [ 5120/100000]\n",
      "Training loss: 0.625441, train accuracy: 68.29%  [10240/100000]\n",
      "Training loss: 0.633574, train accuracy: 68.07%  [15360/100000]\n",
      "Training loss: 0.636193, train accuracy: 68.24%  [20480/100000]\n",
      "Training loss: 0.608657, train accuracy: 68.40%  [25600/100000]\n",
      "Training loss: 0.630816, train accuracy: 68.45%  [30720/100000]\n",
      "Training loss: 0.606507, train accuracy: 68.54%  [35840/100000]\n",
      "Training loss: 0.607221, train accuracy: 68.57%  [40960/100000]\n",
      "Training loss: 0.597917, train accuracy: 68.61%  [46080/100000]\n",
      "Training loss: 0.584841, train accuracy: 68.62%  [51200/100000]\n",
      "Training loss: 0.596085, train accuracy: 68.64%  [56320/100000]\n",
      "Training loss: 0.607051, train accuracy: 68.75%  [61440/100000]\n",
      "Training loss: 0.596976, train accuracy: 68.88%  [66560/100000]\n",
      "Training loss: 0.576082, train accuracy: 68.94%  [71680/100000]\n",
      "Training loss: 0.573549, train accuracy: 68.93%  [76800/100000]\n",
      "Training loss: 0.610664, train accuracy: 69.03%  [81920/100000]\n",
      "Training loss: 0.582804, train accuracy: 69.13%  [87040/100000]\n",
      "Training loss: 0.601355, train accuracy: 69.13%  [92160/100000]\n",
      "Training loss: 0.632535, train accuracy: 69.15%  [97280/100000]\n",
      "Validation Error:\n",
      "Accuracy: 70.4%, Avg loss: 0.603588\n",
      "New best model found! (based on lowest loss)\n",
      "...and saved.\n",
      "\n",
      "\n",
      "Epoch 4/10\n",
      "-------------------------------\n",
      "Training loss: 0.572954, train accuracy: 70.82%  [ 5120/100000]\n",
      "Training loss: 0.604884, train accuracy: 70.30%  [10240/100000]\n",
      "Training loss: 0.610551, train accuracy: 70.40%  [15360/100000]\n",
      "Training loss: 0.583822, train accuracy: 70.66%  [20480/100000]\n",
      "Training loss: 0.584658, train accuracy: 70.84%  [25600/100000]\n",
      "Training loss: 0.613425, train accuracy: 70.97%  [30720/100000]\n",
      "Training loss: 0.582670, train accuracy: 70.99%  [35840/100000]\n",
      "Training loss: 0.652556, train accuracy: 70.97%  [40960/100000]\n",
      "Training loss: 0.609936, train accuracy: 71.04%  [46080/100000]\n",
      "Training loss: 0.603847, train accuracy: 71.07%  [51200/100000]\n",
      "Training loss: 0.564983, train accuracy: 71.15%  [56320/100000]\n",
      "Training loss: 0.593714, train accuracy: 71.14%  [61440/100000]\n",
      "Training loss: 0.611546, train accuracy: 71.18%  [66560/100000]\n",
      "Training loss: 0.591728, train accuracy: 71.20%  [71680/100000]\n",
      "Training loss: 0.565404, train accuracy: 71.19%  [76800/100000]\n",
      "Training loss: 0.621787, train accuracy: 71.21%  [81920/100000]\n",
      "Training loss: 0.619251, train accuracy: 71.25%  [87040/100000]\n",
      "Training loss: 0.573712, train accuracy: 71.27%  [92160/100000]\n",
      "Training loss: 0.618883, train accuracy: 71.27%  [97280/100000]\n",
      "Validation Error:\n",
      "Accuracy: 72.3%, Avg loss: 0.587976\n",
      "New best model found! (based on lowest loss)\n",
      "...and saved.\n",
      "\n",
      "\n",
      "Epoch 5/10\n",
      "-------------------------------\n",
      "Training loss: 0.553061, train accuracy: 72.25%  [ 5120/100000]\n",
      "Training loss: 0.591827, train accuracy: 72.31%  [10240/100000]\n",
      "Training loss: 0.607242, train accuracy: 71.95%  [15360/100000]\n",
      "Training loss: 0.596776, train accuracy: 72.23%  [20480/100000]\n",
      "Training loss: 0.587694, train accuracy: 72.30%  [25600/100000]\n",
      "Training loss: 0.622779, train accuracy: 72.35%  [30720/100000]\n",
      "Training loss: 0.591762, train accuracy: 72.17%  [35840/100000]\n",
      "Training loss: 0.574255, train accuracy: 72.13%  [40960/100000]\n",
      "Training loss: 0.590401, train accuracy: 72.07%  [46080/100000]\n",
      "Training loss: 0.577884, train accuracy: 72.05%  [51200/100000]\n",
      "Training loss: 0.548821, train accuracy: 72.00%  [56320/100000]\n",
      "Training loss: 0.573628, train accuracy: 72.03%  [61440/100000]\n",
      "Training loss: 0.603408, train accuracy: 72.03%  [66560/100000]\n",
      "Training loss: 0.593635, train accuracy: 72.02%  [71680/100000]\n",
      "Training loss: 0.585356, train accuracy: 72.04%  [76800/100000]\n",
      "Training loss: 0.629936, train accuracy: 72.03%  [81920/100000]\n",
      "Training loss: 0.589942, train accuracy: 72.09%  [87040/100000]\n",
      "Training loss: 0.550126, train accuracy: 72.05%  [92160/100000]\n",
      "Training loss: 0.550698, train accuracy: 72.09%  [97280/100000]\n",
      "Validation Error:\n",
      "Accuracy: 71.7%, Avg loss: 0.583856\n",
      "New best model found! (based on lowest loss)\n",
      "...and saved.\n",
      "\n",
      "\n",
      "Epoch 6/10\n",
      "-------------------------------\n",
      "Training loss: 0.571919, train accuracy: 72.77%  [ 5120/100000]\n",
      "Training loss: 0.569252, train accuracy: 72.95%  [10240/100000]\n",
      "Training loss: 0.575268, train accuracy: 72.60%  [15360/100000]\n",
      "Training loss: 0.553530, train accuracy: 72.90%  [20480/100000]\n",
      "Training loss: 0.645778, train accuracy: 72.75%  [25600/100000]\n",
      "Training loss: 0.608402, train accuracy: 72.84%  [30720/100000]\n",
      "Training loss: 0.625100, train accuracy: 72.79%  [35840/100000]\n",
      "Training loss: 0.539386, train accuracy: 73.02%  [40960/100000]\n",
      "Training loss: 0.544789, train accuracy: 72.98%  [46080/100000]\n",
      "Training loss: 0.533312, train accuracy: 72.94%  [51200/100000]\n",
      "Training loss: 0.564482, train accuracy: 72.90%  [56320/100000]\n",
      "Training loss: 0.542064, train accuracy: 72.82%  [61440/100000]\n",
      "Training loss: 0.551665, train accuracy: 72.91%  [66560/100000]\n",
      "Training loss: 0.564137, train accuracy: 72.92%  [71680/100000]\n",
      "Training loss: 0.559062, train accuracy: 72.92%  [76800/100000]\n",
      "Training loss: 0.619298, train accuracy: 72.97%  [81920/100000]\n",
      "Training loss: 0.580461, train accuracy: 73.03%  [87040/100000]\n",
      "Training loss: 0.535902, train accuracy: 73.04%  [92160/100000]\n",
      "Training loss: 0.519721, train accuracy: 73.12%  [97280/100000]\n",
      "Validation Error:\n",
      "Accuracy: 73.9%, Avg loss: 0.559692\n",
      "New best model found! (based on lowest loss)\n",
      "...and saved.\n",
      "\n",
      "\n",
      "Epoch 7/10\n",
      "-------------------------------\n",
      "Training loss: 0.585782, train accuracy: 72.95%  [ 5120/100000]\n",
      "Training loss: 0.617096, train accuracy: 73.05%  [10240/100000]\n",
      "Training loss: 0.526693, train accuracy: 73.26%  [15360/100000]\n",
      "Training loss: 0.550580, train accuracy: 73.05%  [20480/100000]\n",
      "Training loss: 0.563148, train accuracy: 72.99%  [25600/100000]\n",
      "Training loss: 0.520374, train accuracy: 73.18%  [30720/100000]\n",
      "Training loss: 0.576608, train accuracy: 73.22%  [35840/100000]\n",
      "Training loss: 0.570894, train accuracy: 73.21%  [40960/100000]\n",
      "Training loss: 0.542661, train accuracy: 73.21%  [46080/100000]\n",
      "Training loss: 0.599902, train accuracy: 73.23%  [51200/100000]\n",
      "Training loss: 0.532820, train accuracy: 73.29%  [56320/100000]\n",
      "Training loss: 0.521065, train accuracy: 73.42%  [61440/100000]\n",
      "Training loss: 0.552786, train accuracy: 73.44%  [66560/100000]\n",
      "Training loss: 0.603355, train accuracy: 73.37%  [71680/100000]\n",
      "Training loss: 0.573475, train accuracy: 73.37%  [76800/100000]\n",
      "Training loss: 0.563834, train accuracy: 73.44%  [81920/100000]\n",
      "Training loss: 0.557114, train accuracy: 73.48%  [87040/100000]\n",
      "Training loss: 0.578378, train accuracy: 73.52%  [92160/100000]\n",
      "Training loss: 0.539231, train accuracy: 73.54%  [97280/100000]\n",
      "Validation Error:\n",
      "Accuracy: 74.9%, Avg loss: 0.543063\n",
      "New best model found! (based on lowest loss)\n",
      "...and saved.\n",
      "\n",
      "\n",
      "Epoch 8/10\n",
      "-------------------------------\n",
      "Training loss: 0.595111, train accuracy: 74.71%  [ 5120/100000]\n",
      "Training loss: 0.556926, train accuracy: 74.32%  [10240/100000]\n",
      "Training loss: 0.549414, train accuracy: 73.97%  [15360/100000]\n",
      "Training loss: 0.594091, train accuracy: 74.06%  [20480/100000]\n",
      "Training loss: 0.549513, train accuracy: 74.19%  [25600/100000]\n",
      "Training loss: 0.603631, train accuracy: 74.17%  [30720/100000]\n",
      "Training loss: 0.519343, train accuracy: 74.11%  [35840/100000]\n",
      "Training loss: 0.562160, train accuracy: 73.98%  [40960/100000]\n",
      "Training loss: 0.540796, train accuracy: 74.00%  [46080/100000]\n",
      "Training loss: 0.563979, train accuracy: 74.00%  [51200/100000]\n",
      "Training loss: 0.528752, train accuracy: 73.97%  [56320/100000]\n",
      "Training loss: 0.553599, train accuracy: 74.03%  [61440/100000]\n",
      "Training loss: 0.548585, train accuracy: 74.05%  [66560/100000]\n",
      "Training loss: 0.568380, train accuracy: 74.04%  [71680/100000]\n",
      "Training loss: 0.538679, train accuracy: 74.04%  [76800/100000]\n",
      "Training loss: 0.587150, train accuracy: 74.01%  [81920/100000]\n",
      "Training loss: 0.570092, train accuracy: 74.03%  [87040/100000]\n",
      "Training loss: 0.538885, train accuracy: 74.00%  [92160/100000]\n",
      "Training loss: 0.548562, train accuracy: 73.94%  [97280/100000]\n",
      "Validation Error:\n",
      "Accuracy: 74.6%, Avg loss: 0.544322\n",
      "\n",
      "\n",
      "Epoch 9/10\n",
      "-------------------------------\n",
      "Training loss: 0.552617, train accuracy: 73.26%  [ 5120/100000]\n",
      "Training loss: 0.536329, train accuracy: 73.51%  [10240/100000]\n",
      "Training loss: 0.528420, train accuracy: 73.80%  [15360/100000]\n",
      "Training loss: 0.585654, train accuracy: 73.90%  [20480/100000]\n",
      "Training loss: 0.499761, train accuracy: 73.86%  [25600/100000]\n",
      "Training loss: 0.523111, train accuracy: 73.96%  [30720/100000]\n",
      "Training loss: 0.605413, train accuracy: 74.03%  [35840/100000]\n",
      "Training loss: 0.552658, train accuracy: 74.05%  [40960/100000]\n",
      "Training loss: 0.492020, train accuracy: 74.02%  [46080/100000]\n",
      "Training loss: 0.598027, train accuracy: 73.97%  [51200/100000]\n",
      "Training loss: 0.489020, train accuracy: 74.09%  [56320/100000]\n",
      "Training loss: 0.531513, train accuracy: 74.09%  [61440/100000]\n",
      "Training loss: 0.518215, train accuracy: 74.13%  [66560/100000]\n",
      "Training loss: 0.609052, train accuracy: 74.10%  [71680/100000]\n",
      "Training loss: 0.574830, train accuracy: 74.08%  [76800/100000]\n",
      "Training loss: 0.520700, train accuracy: 74.15%  [81920/100000]\n",
      "Training loss: 0.533389, train accuracy: 74.13%  [87040/100000]\n",
      "Training loss: 0.551337, train accuracy: 74.09%  [92160/100000]\n",
      "Training loss: 0.578318, train accuracy: 74.08%  [97280/100000]\n",
      "Validation Error:\n",
      "Accuracy: 72.8%, Avg loss: 0.557983\n",
      "\n",
      "\n",
      "Epoch 10/10\n",
      "-------------------------------\n",
      "Training loss: 0.605449, train accuracy: 73.69%  [ 5120/100000]\n",
      "Training loss: 0.518550, train accuracy: 74.38%  [10240/100000]\n",
      "Training loss: 0.587320, train accuracy: 74.06%  [15360/100000]\n",
      "Training loss: 0.526446, train accuracy: 74.02%  [20480/100000]\n",
      "Training loss: 0.582967, train accuracy: 74.01%  [25600/100000]\n",
      "Training loss: 0.526262, train accuracy: 74.03%  [30720/100000]\n",
      "Training loss: 0.589225, train accuracy: 74.12%  [35840/100000]\n",
      "Training loss: 0.556378, train accuracy: 74.12%  [40960/100000]\n",
      "Training loss: 0.567426, train accuracy: 74.14%  [46080/100000]\n",
      "Training loss: 0.504760, train accuracy: 74.21%  [51200/100000]\n",
      "Training loss: 0.535039, train accuracy: 74.21%  [56320/100000]\n",
      "Training loss: 0.504658, train accuracy: 74.16%  [61440/100000]\n",
      "Training loss: 0.533735, train accuracy: 74.13%  [66560/100000]\n",
      "Training loss: 0.580314, train accuracy: 74.21%  [71680/100000]\n",
      "Training loss: 0.531500, train accuracy: 74.24%  [76800/100000]\n",
      "Training loss: 0.509767, train accuracy: 74.30%  [81920/100000]\n",
      "Training loss: 0.584616, train accuracy: 74.23%  [87040/100000]\n",
      "Training loss: 0.569539, train accuracy: 74.21%  [92160/100000]\n",
      "Training loss: 0.532122, train accuracy: 74.27%  [97280/100000]\n",
      "Validation Error:\n",
      "Accuracy: 74.9%, Avg loss: 0.530169\n",
      "New best model found! (based on lowest loss)\n",
      "...and saved.\n",
      "\n",
      "\n",
      "Weights loaded successfully from checkpoints/best_CIFAKE_FTResNet18.pth\n"
     ]
    }
   ],
   "source": [
    "# N.B.: the loss displayed is the testing loss! (not train unless specified)\n",
    "artifacts = model_utils.train(dataloaders, loss_fn, optimizer,\n",
    "                              ft_resnet18, model_name, BATCH_SIZE,\n",
    "                              EPOCHS, loss_thresh=2.5, force_train=TRAINING_MODE)"
   ]
  },
  {
   "cell_type": "code",
   "execution_count": 6,
   "metadata": {},
   "outputs": [
    {
     "name": "stdout",
     "output_type": "stream",
     "text": [
      "Test Error:\n",
      "Accuracy: 74.9%, Avg loss: 0.530169\n",
      "Confusion matrix report, tp: 0, fp: 0, fn: 2505, tn:7495\n",
      "False\n",
      "Precision: 0.00, Recall: 0.00, F1-Score: 0.00\n"
     ]
    },
    {
     "data": {
      "text/plain": [
       "(0.53016911843155, tensor(0.7495, device='cuda:0'))"
      ]
     },
     "execution_count": 6,
     "metadata": {},
     "output_type": "execute_result"
    }
   ],
   "source": [
    "model_utils.test(test_dataloader, ft_resnet18, loss_fn, device,\n",
    "                 model_name=model_name)"
   ]
  },
  {
   "cell_type": "code",
   "execution_count": 7,
   "metadata": {},
   "outputs": [],
   "source": [
    "if artifacts != None:\n",
    "    losses, train_accs, test_accs, precisions, recalls = artifacts\n",
    "    plotter.plot_generic_metrics((train_accs, test_accs), \"accuracy\", model_name)\n",
    "    plotter.plot_precision_recall_curve(precisions, recalls, model_name)"
   ]
  },
  {
   "cell_type": "markdown",
   "metadata": {},
   "source": [
    "ResNet50 with AdamW"
   ]
  },
  {
   "cell_type": "code",
   "execution_count": 8,
   "metadata": {},
   "outputs": [],
   "source": [
    "ft_resnet50 = resnet50(weights='IMAGENET1K_V1')\n",
    "model_utils.prepare_for_ft(ft_resnet50, num_classes=2)\n",
    "ft_resnet50.to(device)\n",
    "\n",
    "optimizer = torch.optim.AdamW(ft_resnet50.fc.parameters(), lr=LEARNING_RATE)\n",
    "model_name = \"CIFAKE_FTResNet50\""
   ]
  },
  {
   "cell_type": "code",
   "execution_count": 9,
   "metadata": {},
   "outputs": [
    {
     "name": "stdout",
     "output_type": "stream",
     "text": [
      "Epoch 1/10\n",
      "-------------------------------\n",
      "Training loss: 0.589447, train accuracy: 63.67%  [ 5120/100000]\n",
      "Training loss: 0.570356, train accuracy: 68.21%  [10240/100000]\n",
      "Training loss: 0.530876, train accuracy: 70.21%  [15360/100000]\n",
      "Training loss: 0.489537, train accuracy: 71.69%  [20480/100000]\n",
      "Training loss: 0.508350, train accuracy: 72.75%  [25600/100000]\n",
      "Training loss: 0.496612, train accuracy: 73.52%  [30720/100000]\n",
      "Training loss: 0.519285, train accuracy: 73.92%  [35840/100000]\n",
      "Training loss: 0.478491, train accuracy: 74.24%  [40960/100000]\n",
      "Training loss: 0.541852, train accuracy: 74.52%  [46080/100000]\n",
      "Training loss: 0.472990, train accuracy: 74.83%  [51200/100000]\n",
      "Training loss: 0.497003, train accuracy: 75.09%  [56320/100000]\n",
      "Training loss: 0.478155, train accuracy: 75.35%  [61440/100000]\n",
      "Training loss: 0.507144, train accuracy: 75.52%  [66560/100000]\n",
      "Training loss: 0.480744, train accuracy: 75.89%  [71680/100000]\n",
      "Training loss: 0.430115, train accuracy: 76.11%  [76800/100000]\n",
      "Training loss: 0.434086, train accuracy: 76.33%  [81920/100000]\n",
      "Training loss: 0.506501, train accuracy: 76.48%  [87040/100000]\n",
      "Training loss: 0.470950, train accuracy: 76.62%  [92160/100000]\n",
      "Training loss: 0.427389, train accuracy: 76.73%  [97280/100000]\n",
      "Validation Error:\n",
      "Accuracy: 78.4%, Avg loss: 0.477372\n",
      "New best model found! (based on lowest loss)\n",
      "...and saved.\n",
      "\n",
      "\n",
      "Epoch 2/10\n",
      "-------------------------------\n",
      "Training loss: 0.472031, train accuracy: 80.61%  [ 5120/100000]\n",
      "Training loss: 0.484092, train accuracy: 80.17%  [10240/100000]\n",
      "Training loss: 0.412311, train accuracy: 79.84%  [15360/100000]\n",
      "Training loss: 0.387142, train accuracy: 79.81%  [20480/100000]\n",
      "Training loss: 0.475570, train accuracy: 79.77%  [25600/100000]\n",
      "Training loss: 0.431482, train accuracy: 79.57%  [30720/100000]\n",
      "Training loss: 0.490337, train accuracy: 79.69%  [35840/100000]\n",
      "Training loss: 0.445184, train accuracy: 79.76%  [40960/100000]\n",
      "Training loss: 0.477273, train accuracy: 79.87%  [46080/100000]\n",
      "Training loss: 0.430859, train accuracy: 79.86%  [51200/100000]\n",
      "Training loss: 0.423984, train accuracy: 79.84%  [56320/100000]\n",
      "Training loss: 0.385191, train accuracy: 79.87%  [61440/100000]\n",
      "Training loss: 0.369586, train accuracy: 79.90%  [66560/100000]\n",
      "Training loss: 0.462202, train accuracy: 79.91%  [71680/100000]\n",
      "Training loss: 0.439626, train accuracy: 79.97%  [76800/100000]\n",
      "Training loss: 0.420487, train accuracy: 79.97%  [81920/100000]\n",
      "Training loss: 0.415520, train accuracy: 79.98%  [87040/100000]\n",
      "Training loss: 0.437744, train accuracy: 79.97%  [92160/100000]\n",
      "Training loss: 0.469488, train accuracy: 79.99%  [97280/100000]\n",
      "Validation Error:\n",
      "Accuracy: 81.2%, Avg loss: 0.422919\n",
      "New best model found! (based on lowest loss)\n",
      "...and saved.\n",
      "\n",
      "\n",
      "Epoch 3/10\n",
      "-------------------------------\n",
      "Training loss: 0.389790, train accuracy: 79.75%  [ 5120/100000]\n",
      "Training loss: 0.453392, train accuracy: 80.12%  [10240/100000]\n",
      "Training loss: 0.497834, train accuracy: 80.12%  [15360/100000]\n",
      "Training loss: 0.478858, train accuracy: 80.45%  [20480/100000]\n",
      "Training loss: 0.383909, train accuracy: 80.41%  [25600/100000]\n",
      "Training loss: 0.398073, train accuracy: 80.65%  [30720/100000]\n",
      "Training loss: 0.479806, train accuracy: 80.64%  [35840/100000]\n",
      "Training loss: 0.421595, train accuracy: 80.81%  [40960/100000]\n",
      "Training loss: 0.443833, train accuracy: 80.82%  [46080/100000]\n",
      "Training loss: 0.418376, train accuracy: 80.78%  [51200/100000]\n",
      "Training loss: 0.410445, train accuracy: 80.83%  [56320/100000]\n",
      "Training loss: 0.486338, train accuracy: 80.80%  [61440/100000]\n",
      "Training loss: 0.374812, train accuracy: 80.76%  [66560/100000]\n",
      "Training loss: 0.417761, train accuracy: 80.77%  [71680/100000]\n",
      "Training loss: 0.485586, train accuracy: 80.81%  [76800/100000]\n",
      "Training loss: 0.450586, train accuracy: 80.80%  [81920/100000]\n",
      "Training loss: 0.489465, train accuracy: 80.78%  [87040/100000]\n",
      "Training loss: 0.413489, train accuracy: 80.70%  [92160/100000]\n",
      "Training loss: 0.427818, train accuracy: 80.71%  [97280/100000]\n",
      "Validation Error:\n",
      "Accuracy: 76.0%, Avg loss: 0.511758\n",
      "\n",
      "\n",
      "Epoch 4/10\n",
      "-------------------------------\n",
      "Training loss: 0.480780, train accuracy: 80.31%  [ 5120/100000]\n",
      "Training loss: 0.443821, train accuracy: 80.41%  [10240/100000]\n",
      "Training loss: 0.396298, train accuracy: 80.90%  [15360/100000]\n",
      "Training loss: 0.365356, train accuracy: 80.96%  [20480/100000]\n",
      "Training loss: 0.379004, train accuracy: 81.29%  [25600/100000]\n",
      "Training loss: 0.467080, train accuracy: 81.25%  [30720/100000]\n",
      "Training loss: 0.438063, train accuracy: 81.24%  [35840/100000]\n",
      "Training loss: 0.471299, train accuracy: 81.17%  [40960/100000]\n",
      "Training loss: 0.384910, train accuracy: 81.20%  [46080/100000]\n",
      "Training loss: 0.422257, train accuracy: 81.13%  [51200/100000]\n",
      "Training loss: 0.454303, train accuracy: 81.24%  [56320/100000]\n",
      "Training loss: 0.426730, train accuracy: 81.12%  [61440/100000]\n",
      "Training loss: 0.362728, train accuracy: 81.16%  [66560/100000]\n",
      "Training loss: 0.369970, train accuracy: 81.12%  [71680/100000]\n",
      "Training loss: 0.387948, train accuracy: 81.15%  [76800/100000]\n",
      "Training loss: 0.427938, train accuracy: 81.12%  [81920/100000]\n",
      "Training loss: 0.423514, train accuracy: 81.14%  [87040/100000]\n",
      "Training loss: 0.393227, train accuracy: 81.17%  [92160/100000]\n",
      "Training loss: 0.405276, train accuracy: 81.21%  [97280/100000]\n",
      "Validation Error:\n",
      "Accuracy: 85.0%, Avg loss: 0.362615\n",
      "New best model found! (based on lowest loss)\n",
      "...and saved.\n",
      "\n",
      "\n",
      "Epoch 5/10\n",
      "-------------------------------\n",
      "Training loss: 0.386124, train accuracy: 81.33%  [ 5120/100000]\n",
      "Training loss: 0.504035, train accuracy: 81.71%  [10240/100000]\n",
      "Training loss: 0.386711, train accuracy: 81.65%  [15360/100000]\n",
      "Training loss: 0.422091, train accuracy: 81.53%  [20480/100000]\n",
      "Training loss: 0.439668, train accuracy: 81.44%  [25600/100000]\n",
      "Training loss: 0.409973, train accuracy: 81.27%  [30720/100000]\n",
      "Training loss: 0.387848, train accuracy: 81.40%  [35840/100000]\n",
      "Training loss: 0.386273, train accuracy: 81.41%  [40960/100000]\n",
      "Training loss: 0.502666, train accuracy: 81.46%  [46080/100000]\n",
      "Training loss: 0.403214, train accuracy: 81.47%  [51200/100000]\n",
      "Training loss: 0.398869, train accuracy: 81.40%  [56320/100000]\n",
      "Training loss: 0.430576, train accuracy: 81.47%  [61440/100000]\n",
      "Training loss: 0.380487, train accuracy: 81.54%  [66560/100000]\n",
      "Training loss: 0.416947, train accuracy: 81.45%  [71680/100000]\n",
      "Training loss: 0.413122, train accuracy: 81.45%  [76800/100000]\n",
      "Training loss: 0.384301, train accuracy: 81.49%  [81920/100000]\n",
      "Training loss: 0.433000, train accuracy: 81.52%  [87040/100000]\n",
      "Training loss: 0.316310, train accuracy: 81.55%  [92160/100000]\n",
      "Training loss: 0.439309, train accuracy: 81.60%  [97280/100000]\n",
      "Validation Error:\n",
      "Accuracy: 83.5%, Avg loss: 0.380713\n",
      "\n",
      "\n",
      "Epoch 6/10\n",
      "-------------------------------\n",
      "Training loss: 0.352286, train accuracy: 81.91%  [ 5120/100000]\n",
      "Training loss: 0.396879, train accuracy: 81.79%  [10240/100000]\n",
      "Training loss: 0.520739, train accuracy: 81.69%  [15360/100000]\n",
      "Training loss: 0.438886, train accuracy: 81.73%  [20480/100000]\n",
      "Training loss: 0.366133, train accuracy: 81.90%  [25600/100000]\n",
      "Training loss: 0.403159, train accuracy: 81.82%  [30720/100000]\n",
      "Training loss: 0.450771, train accuracy: 81.89%  [35840/100000]\n",
      "Training loss: 0.397959, train accuracy: 81.92%  [40960/100000]\n",
      "Training loss: 0.440563, train accuracy: 81.98%  [46080/100000]\n",
      "Training loss: 0.424370, train accuracy: 81.99%  [51200/100000]\n",
      "Training loss: 0.358689, train accuracy: 81.99%  [56320/100000]\n",
      "Training loss: 0.419349, train accuracy: 81.99%  [61440/100000]\n",
      "Training loss: 0.426214, train accuracy: 81.97%  [66560/100000]\n",
      "Training loss: 0.374105, train accuracy: 81.97%  [71680/100000]\n",
      "Training loss: 0.397199, train accuracy: 81.96%  [76800/100000]\n",
      "Training loss: 0.457660, train accuracy: 81.91%  [81920/100000]\n",
      "Training loss: 0.449255, train accuracy: 81.88%  [87040/100000]\n",
      "Training loss: 0.393868, train accuracy: 81.86%  [92160/100000]\n",
      "Training loss: 0.401155, train accuracy: 81.93%  [97280/100000]\n",
      "Validation Error:\n",
      "Accuracy: 78.1%, Avg loss: 0.474680\n",
      "\n",
      "\n",
      "Epoch 7/10\n",
      "-------------------------------\n",
      "Training loss: 0.462313, train accuracy: 81.72%  [ 5120/100000]\n",
      "Training loss: 0.482888, train accuracy: 81.91%  [10240/100000]\n",
      "Training loss: 0.411728, train accuracy: 82.29%  [15360/100000]\n",
      "Training loss: 0.395668, train accuracy: 82.15%  [20480/100000]\n",
      "Training loss: 0.418427, train accuracy: 82.17%  [25600/100000]\n",
      "Training loss: 0.404727, train accuracy: 82.13%  [30720/100000]\n",
      "Training loss: 0.387285, train accuracy: 81.98%  [35840/100000]\n",
      "Training loss: 0.511287, train accuracy: 81.94%  [40960/100000]\n",
      "Training loss: 0.382580, train accuracy: 81.97%  [46080/100000]\n",
      "Training loss: 0.450099, train accuracy: 82.05%  [51200/100000]\n",
      "Training loss: 0.368235, train accuracy: 82.11%  [56320/100000]\n",
      "Training loss: 0.415746, train accuracy: 82.04%  [61440/100000]\n",
      "Training loss: 0.471870, train accuracy: 82.06%  [66560/100000]\n",
      "Training loss: 0.399016, train accuracy: 82.13%  [71680/100000]\n",
      "Training loss: 0.409367, train accuracy: 82.14%  [76800/100000]\n",
      "Training loss: 0.329717, train accuracy: 82.19%  [81920/100000]\n",
      "Training loss: 0.321166, train accuracy: 82.23%  [87040/100000]\n",
      "Training loss: 0.474901, train accuracy: 82.20%  [92160/100000]\n",
      "Training loss: 0.370976, train accuracy: 82.20%  [97280/100000]\n",
      "Validation Error:\n",
      "Accuracy: 77.4%, Avg loss: 0.491582\n",
      "\n",
      "\n",
      "Epoch 8/10\n",
      "-------------------------------\n",
      "Training loss: 0.468948, train accuracy: 82.48%  [ 5120/100000]\n",
      "Training loss: 0.323817, train accuracy: 82.07%  [10240/100000]\n",
      "Training loss: 0.314627, train accuracy: 82.24%  [15360/100000]\n",
      "Training loss: 0.398264, train accuracy: 82.34%  [20480/100000]\n",
      "Training loss: 0.428964, train accuracy: 82.30%  [25600/100000]\n",
      "Training loss: 0.326064, train accuracy: 82.26%  [30720/100000]\n",
      "Training loss: 0.454020, train accuracy: 82.16%  [35840/100000]\n",
      "Training loss: 0.515524, train accuracy: 82.12%  [40960/100000]\n",
      "Training loss: 0.377461, train accuracy: 82.19%  [46080/100000]\n",
      "Training loss: 0.365586, train accuracy: 82.16%  [51200/100000]\n",
      "Training loss: 0.396007, train accuracy: 82.17%  [56320/100000]\n",
      "Training loss: 0.438264, train accuracy: 82.23%  [61440/100000]\n",
      "Training loss: 0.398667, train accuracy: 82.27%  [66560/100000]\n",
      "Training loss: 0.502982, train accuracy: 82.21%  [71680/100000]\n",
      "Training loss: 0.450552, train accuracy: 82.24%  [76800/100000]\n",
      "Training loss: 0.367411, train accuracy: 82.24%  [81920/100000]\n",
      "Training loss: 0.354178, train accuracy: 82.24%  [87040/100000]\n",
      "Training loss: 0.402269, train accuracy: 82.27%  [92160/100000]\n",
      "Training loss: 0.409707, train accuracy: 82.23%  [97280/100000]\n",
      "Validation Error:\n",
      "Accuracy: 79.7%, Avg loss: 0.459425\n",
      "\n",
      "\n",
      "Epoch 9/10\n",
      "-------------------------------\n",
      "Training loss: 0.373478, train accuracy: 82.32%  [ 5120/100000]\n",
      "Training loss: 0.448582, train accuracy: 82.40%  [10240/100000]\n",
      "Training loss: 0.511132, train accuracy: 82.30%  [15360/100000]\n",
      "Training loss: 0.446129, train accuracy: 82.11%  [20480/100000]\n",
      "Training loss: 0.410123, train accuracy: 82.23%  [25600/100000]\n",
      "Training loss: 0.406439, train accuracy: 82.13%  [30720/100000]\n",
      "Training loss: 0.423799, train accuracy: 81.95%  [35840/100000]\n",
      "Training loss: 0.432777, train accuracy: 82.01%  [40960/100000]\n",
      "Training loss: 0.356984, train accuracy: 81.99%  [46080/100000]\n",
      "Training loss: 0.302304, train accuracy: 82.09%  [51200/100000]\n",
      "Training loss: 0.411232, train accuracy: 82.11%  [56320/100000]\n",
      "Training loss: 0.390558, train accuracy: 82.13%  [61440/100000]\n",
      "Training loss: 0.417054, train accuracy: 82.14%  [66560/100000]\n",
      "Training loss: 0.417845, train accuracy: 82.16%  [71680/100000]\n",
      "Training loss: 0.326886, train accuracy: 82.20%  [76800/100000]\n",
      "Training loss: 0.470722, train accuracy: 82.18%  [81920/100000]\n",
      "Training loss: 0.418186, train accuracy: 82.17%  [87040/100000]\n",
      "Training loss: 0.413294, train accuracy: 82.20%  [92160/100000]\n",
      "Training loss: 0.375253, train accuracy: 82.24%  [97280/100000]\n",
      "Validation Error:\n",
      "Accuracy: 83.8%, Avg loss: 0.376377\n",
      "\n",
      "\n",
      "Epoch 10/10\n",
      "-------------------------------\n",
      "Training loss: 0.335740, train accuracy: 81.95%  [ 5120/100000]\n",
      "Training loss: 0.374402, train accuracy: 82.52%  [10240/100000]\n",
      "Training loss: 0.315088, train accuracy: 82.28%  [15360/100000]\n",
      "Training loss: 0.402349, train accuracy: 82.34%  [20480/100000]\n",
      "Training loss: 0.461974, train accuracy: 82.40%  [25600/100000]\n",
      "Training loss: 0.454378, train accuracy: 82.36%  [30720/100000]\n",
      "Training loss: 0.403950, train accuracy: 82.40%  [35840/100000]\n",
      "Training loss: 0.464989, train accuracy: 82.42%  [40960/100000]\n",
      "Training loss: 0.365922, train accuracy: 82.51%  [46080/100000]\n",
      "Training loss: 0.460022, train accuracy: 82.47%  [51200/100000]\n",
      "Training loss: 0.453391, train accuracy: 82.45%  [56320/100000]\n",
      "Training loss: 0.416799, train accuracy: 82.45%  [61440/100000]\n",
      "Training loss: 0.378067, train accuracy: 82.47%  [66560/100000]\n",
      "Training loss: 0.369350, train accuracy: 82.50%  [71680/100000]\n",
      "Training loss: 0.335319, train accuracy: 82.44%  [76800/100000]\n",
      "Training loss: 0.460229, train accuracy: 82.40%  [81920/100000]\n",
      "Training loss: 0.361449, train accuracy: 82.38%  [87040/100000]\n",
      "Training loss: 0.361548, train accuracy: 82.39%  [92160/100000]\n",
      "Training loss: 0.411756, train accuracy: 82.40%  [97280/100000]\n",
      "Validation Error:\n",
      "Accuracy: 84.7%, Avg loss: 0.365649\n",
      "\n",
      "\n",
      "Weights loaded successfully from checkpoints/best_CIFAKE_FTResNet50.pth\n"
     ]
    }
   ],
   "source": [
    "artifacts = model_utils.train(dataloaders, loss_fn, optimizer,\n",
    "                              ft_resnet50, model_name, BATCH_SIZE,\n",
    "                              EPOCHS, loss_thresh=2.5, force_train=TRAINING_MODE)"
   ]
  },
  {
   "cell_type": "code",
   "execution_count": 10,
   "metadata": {},
   "outputs": [
    {
     "name": "stdout",
     "output_type": "stream",
     "text": [
      "Test Error:\n",
      "Accuracy: 85.0%, Avg loss: 0.362615\n",
      "Confusion matrix report, tp: 0, fp: 0, fn: 1501, tn:8499\n",
      "False\n",
      "Precision: 0.00, Recall: 0.00, F1-Score: 0.00\n"
     ]
    },
    {
     "data": {
      "text/plain": [
       "(0.3626147674608834, tensor(0.8499, device='cuda:0'))"
      ]
     },
     "execution_count": 10,
     "metadata": {},
     "output_type": "execute_result"
    }
   ],
   "source": [
    "model_utils.test(test_dataloader, ft_resnet50, loss_fn, device,\n",
    "                 model_name=model_name)"
   ]
  },
  {
   "cell_type": "code",
   "execution_count": 11,
   "metadata": {},
   "outputs": [],
   "source": [
    "if artifacts != None:\n",
    "    losses, train_accs, test_accs, precisions, recalls = artifacts\n",
    "    plotter.plot_generic_metrics((train_accs, test_accs), \"accuracy\", model_name)\n",
    "    plotter.plot_precision_recall_curve(precisions, recalls, model_name)"
   ]
  },
  {
   "cell_type": "markdown",
   "metadata": {},
   "source": [
    "GradCAM test"
   ]
  },
  {
   "cell_type": "code",
   "execution_count": 12,
   "metadata": {},
   "outputs": [],
   "source": [
    "xai.device = device"
   ]
  },
  {
   "cell_type": "code",
   "execution_count": 19,
   "metadata": {},
   "outputs": [
    {
     "name": "stderr",
     "output_type": "stream",
     "text": [
      "100%|██████████| 8/8 [00:00<00:00, 25.48it/s]\n",
      "100%|██████████| 16/16 [00:00<00:00, 52.45it/s]\n",
      "100%|██████████| 32/32 [00:00<00:00, 58.50it/s]\n",
      "100%|██████████| 64/64 [00:01<00:00, 56.69it/s]\n"
     ]
    },
    {
     "data": {
      "image/png": "[encoded data removed]",
      "text/plain": [
       "<Figure size 1000x500 with 2 Axes>"
      ]
     },
     "metadata": {},
     "output_type": "display_data"
    }
   ],
   "source": [
    "importlib.reload(xai)\n",
    "\n",
    "xai.explain_gradcam_single_image(test_dataloader, ft_resnet50, [ft_resnet50.layer1, ft_resnet50.layer2, ft_resnet50.layer3, ft_resnet50.layer4],\n",
    "                                 model_name=model_name, dataset_name=DATASET_NAME,\n",
    "                                 index = 2)"
   ]
  },
  {
   "cell_type": "code",
   "execution_count": null,
   "metadata": {},
   "outputs": [
    {
     "data": {
      "application/vnd.jupyter.widget-view+json": {
       "model_id": "950e4b4c32324b059278531ed19cedc6",
       "version_major": 2,
       "version_minor": 0
      },
      "text/plain": [
       "  0%|          | 0/1000 [00:00<?, ?it/s]"
      ]
     },
     "metadata": {},
     "output_type": "display_data"
    },
    {
     "name": "stderr",
     "output_type": "stream",
     "text": [
      "Clipping input data to the valid range for imshow with RGB data ([0..1] for floats or [0..255] for integers).\n",
      "Clipping input data to the valid range for imshow with RGB data ([0..1] for floats or [0..255] for integers).\n"
     ]
    },
    {
     "data": {
      "image/png": "[encoded data removed]",
      "text/plain": [
       "<Figure size 1500x500 with 4 Axes>"
      ]
     },
     "metadata": {},
     "output_type": "display_data"
    }
   ],
   "source": [
    "xai.explain_lime_single_image(test_dataloader, ft_resnet50,\n",
    "                                model_name=model_name, dataset_name=DATASET_NAME,\n",
    "                                index = 3)"
   ]
  },
  {
   "cell_type": "markdown",
   "metadata": {},
   "source": [
    "#### Better finetuning of resnet\n",
    "The classification head has been already finetuned.\n",
    "time to finetune the feauture extractor."
   ]
  },
  {
   "cell_type": "code",
   "execution_count": 22,
   "metadata": {},
   "outputs": [],
   "source": [
    "for param in ft_resnet50.parameters():\n",
    "    param.requires_grad = True\n",
    "\n",
    "\n",
    "optimizer = torch.optim.AdamW(ft_resnet50.parameters(), lr=LEARNING_RATE)\n",
    "model_name = \"CIFAKE_FTResNet50_beefy\""
   ]
  },
  {
   "cell_type": "code",
   "execution_count": 23,
   "metadata": {},
   "outputs": [
    {
     "name": "stdout",
     "output_type": "stream",
     "text": [
      "Epoch 1/10\n",
      "-------------------------------\n",
      "Training loss: 0.146960, train accuracy: 86.84%  [ 5120/100000]\n",
      "Training loss: 0.142694, train accuracy: 89.60%  [10240/100000]\n",
      "Training loss: 0.175179, train accuracy: 90.99%  [15360/100000]\n",
      "Training loss: 0.221437, train accuracy: 91.82%  [20480/100000]\n",
      "Training loss: 0.158186, train accuracy: 92.27%  [25600/100000]\n",
      "Training loss: 0.120297, train accuracy: 92.68%  [30720/100000]\n",
      "Training loss: 0.113234, train accuracy: 93.05%  [35840/100000]\n",
      "Training loss: 0.150158, train accuracy: 93.33%  [40960/100000]\n",
      "Training loss: 0.082316, train accuracy: 93.61%  [46080/100000]\n",
      "Training loss: 0.078305, train accuracy: 93.84%  [51200/100000]\n",
      "Training loss: 0.088961, train accuracy: 94.01%  [56320/100000]\n",
      "Training loss: 0.107262, train accuracy: 94.16%  [61440/100000]\n",
      "Training loss: 0.137572, train accuracy: 94.27%  [66560/100000]\n",
      "Training loss: 0.098518, train accuracy: 94.38%  [71680/100000]\n",
      "Training loss: 0.053612, train accuracy: 94.50%  [76800/100000]\n",
      "Training loss: 0.057955, train accuracy: 94.58%  [81920/100000]\n",
      "Training loss: 0.078690, train accuracy: 94.69%  [87040/100000]\n",
      "Training loss: 0.071459, train accuracy: 94.79%  [92160/100000]\n",
      "Training loss: 0.075179, train accuracy: 94.86%  [97280/100000]\n",
      "Validation Error:\n",
      "Accuracy: 98.0%, Avg loss: 0.052288\n",
      "New best model found! (based on lowest loss)\n",
      "...and saved.\n",
      "\n",
      "\n",
      "Epoch 2/10\n",
      "-------------------------------\n",
      "Training loss: 0.054891, train accuracy: 97.62%  [ 5120/100000]\n",
      "Training loss: 0.034163, train accuracy: 97.48%  [10240/100000]\n",
      "Training loss: 0.076624, train accuracy: 97.63%  [15360/100000]\n",
      "Training loss: 0.036102, train accuracy: 97.54%  [20480/100000]\n",
      "Training loss: 0.031675, train accuracy: 97.48%  [25600/100000]\n",
      "Training loss: 0.031404, train accuracy: 97.46%  [30720/100000]\n",
      "Training loss: 0.085820, train accuracy: 97.47%  [35840/100000]\n",
      "Training loss: 0.045091, train accuracy: 97.44%  [40960/100000]\n",
      "Training loss: 0.052799, train accuracy: 97.45%  [46080/100000]\n",
      "Training loss: 0.134218, train accuracy: 97.49%  [51200/100000]\n",
      "Training loss: 0.102520, train accuracy: 97.42%  [56320/100000]\n",
      "Training loss: 0.050294, train accuracy: 97.38%  [61440/100000]\n",
      "Training loss: 0.081352, train accuracy: 97.34%  [66560/100000]\n",
      "Training loss: 0.049631, train accuracy: 97.32%  [71680/100000]\n",
      "Training loss: 0.072312, train accuracy: 97.34%  [76800/100000]\n",
      "Training loss: 0.045180, train accuracy: 97.35%  [81920/100000]\n",
      "Training loss: 0.135496, train accuracy: 97.35%  [87040/100000]\n",
      "Training loss: 0.030735, train accuracy: 97.33%  [92160/100000]\n",
      "Training loss: 0.083464, train accuracy: 97.34%  [97280/100000]\n",
      "Validation Error:\n",
      "Accuracy: 96.8%, Avg loss: 0.086345\n",
      "\n",
      "\n",
      "Epoch 3/10\n",
      "-------------------------------\n",
      "Training loss: 0.021944, train accuracy: 98.50%  [ 5120/100000]\n",
      "Training loss: 0.014719, train accuracy: 98.41%  [10240/100000]\n",
      "Training loss: 0.017953, train accuracy: 98.44%  [15360/100000]\n",
      "Training loss: 0.034646, train accuracy: 98.38%  [20480/100000]\n",
      "Training loss: 0.024855, train accuracy: 98.32%  [25600/100000]\n",
      "Training loss: 0.057147, train accuracy: 98.27%  [30720/100000]\n",
      "Training loss: 0.023248, train accuracy: 98.23%  [35840/100000]\n",
      "Training loss: 0.063907, train accuracy: 98.25%  [40960/100000]\n",
      "Training loss: 0.060331, train accuracy: 98.29%  [46080/100000]\n",
      "Training loss: 0.042644, train accuracy: 98.24%  [51200/100000]\n",
      "Training loss: 0.045529, train accuracy: 98.23%  [56320/100000]\n",
      "Training loss: 0.065913, train accuracy: 98.22%  [61440/100000]\n",
      "Training loss: 0.054144, train accuracy: 98.24%  [66560/100000]\n",
      "Training loss: 0.085833, train accuracy: 98.18%  [71680/100000]\n",
      "Training loss: 0.036129, train accuracy: 98.15%  [76800/100000]\n",
      "Training loss: 0.043902, train accuracy: 98.15%  [81920/100000]\n",
      "Training loss: 0.017437, train accuracy: 98.13%  [87040/100000]\n",
      "Training loss: 0.070189, train accuracy: 98.09%  [92160/100000]\n",
      "Training loss: 0.116194, train accuracy: 98.07%  [97280/100000]\n",
      "Validation Error:\n",
      "Accuracy: 95.3%, Avg loss: 0.120656\n",
      "\n",
      "\n",
      "Epoch 4/10\n",
      "-------------------------------\n",
      "Training loss: 0.038933, train accuracy: 98.71%  [ 5120/100000]\n",
      "Training loss: 0.018505, train accuracy: 98.87%  [10240/100000]\n",
      "Training loss: 0.031526, train accuracy: 98.77%  [15360/100000]\n",
      "Training loss: 0.053321, train accuracy: 98.68%  [20480/100000]\n",
      "Training loss: 0.025709, train accuracy: 98.64%  [25600/100000]\n",
      "Training loss: 0.010962, train accuracy: 98.60%  [30720/100000]\n",
      "Training loss: 0.033683, train accuracy: 98.56%  [35840/100000]\n",
      "Training loss: 0.035974, train accuracy: 98.53%  [40960/100000]\n",
      "Training loss: 0.044258, train accuracy: 98.56%  [46080/100000]\n",
      "Training loss: 0.016612, train accuracy: 98.50%  [51200/100000]\n",
      "Training loss: 0.019945, train accuracy: 98.52%  [56320/100000]\n",
      "Training loss: 0.033032, train accuracy: 98.53%  [61440/100000]\n",
      "Training loss: 0.024173, train accuracy: 98.50%  [66560/100000]\n",
      "Training loss: 0.031858, train accuracy: 98.50%  [71680/100000]\n",
      "Training loss: 0.037233, train accuracy: 98.50%  [76800/100000]\n",
      "Training loss: 0.033903, train accuracy: 98.47%  [81920/100000]\n",
      "Training loss: 0.028385, train accuracy: 98.48%  [87040/100000]\n",
      "Training loss: 0.070849, train accuracy: 98.44%  [92160/100000]\n",
      "Training loss: 0.046935, train accuracy: 98.43%  [97280/100000]\n",
      "Validation Error:\n",
      "Accuracy: 96.9%, Avg loss: 0.094287\n",
      "\n",
      "\n",
      "Epoch 5/10\n",
      "-------------------------------\n",
      "Training loss: 0.036824, train accuracy: 99.14%  [ 5120/100000]\n",
      "Training loss: 0.037564, train accuracy: 99.01%  [10240/100000]\n",
      "Training loss: 0.050390, train accuracy: 99.05%  [15360/100000]\n",
      "Training loss: 0.013110, train accuracy: 99.01%  [20480/100000]\n",
      "Training loss: 0.012731, train accuracy: 99.02%  [25600/100000]\n",
      "Training loss: 0.012696, train accuracy: 98.96%  [30720/100000]\n",
      "Training loss: 0.015604, train accuracy: 98.92%  [35840/100000]\n",
      "Training loss: 0.038362, train accuracy: 98.88%  [40960/100000]\n",
      "Training loss: 0.037668, train accuracy: 98.87%  [46080/100000]\n",
      "Training loss: 0.016915, train accuracy: 98.84%  [51200/100000]\n",
      "Training loss: 0.031144, train accuracy: 98.84%  [56320/100000]\n",
      "Training loss: 0.037098, train accuracy: 98.82%  [61440/100000]\n",
      "Training loss: 0.044482, train accuracy: 98.80%  [66560/100000]\n",
      "Training loss: 0.027079, train accuracy: 98.78%  [71680/100000]\n",
      "Training loss: 0.084183, train accuracy: 98.78%  [76800/100000]\n",
      "Training loss: 0.045789, train accuracy: 98.77%  [81920/100000]\n",
      "Training loss: 0.044095, train accuracy: 98.76%  [87040/100000]\n",
      "Training loss: 0.039074, train accuracy: 98.75%  [92160/100000]\n",
      "Training loss: 0.040572, train accuracy: 98.72%  [97280/100000]\n",
      "Validation Error:\n",
      "Accuracy: 97.4%, Avg loss: 0.071633\n",
      "\n",
      "\n",
      "Epoch 6/10\n",
      "-------------------------------\n",
      "Training loss: 0.026756, train accuracy: 98.77%  [ 5120/100000]\n",
      "Training loss: 0.004147, train accuracy: 98.96%  [10240/100000]\n",
      "Training loss: 0.039528, train accuracy: 99.00%  [15360/100000]\n",
      "Training loss: 0.014532, train accuracy: 98.92%  [20480/100000]\n",
      "Training loss: 0.008692, train accuracy: 98.95%  [25600/100000]\n",
      "Training loss: 0.080570, train accuracy: 98.97%  [30720/100000]\n",
      "Training loss: 0.025270, train accuracy: 98.97%  [35840/100000]\n",
      "Training loss: 0.010297, train accuracy: 98.95%  [40960/100000]\n",
      "Training loss: 0.025126, train accuracy: 98.95%  [46080/100000]\n",
      "Training loss: 0.007036, train accuracy: 98.93%  [51200/100000]\n",
      "Training loss: 0.014371, train accuracy: 98.92%  [56320/100000]\n",
      "Training loss: 0.030036, train accuracy: 98.92%  [61440/100000]\n",
      "Training loss: 0.007712, train accuracy: 98.90%  [66560/100000]\n",
      "Training loss: 0.021966, train accuracy: 98.90%  [71680/100000]\n",
      "Training loss: 0.094473, train accuracy: 98.90%  [76800/100000]\n",
      "Training loss: 0.089693, train accuracy: 98.88%  [81920/100000]\n",
      "Training loss: 0.011059, train accuracy: 98.88%  [87040/100000]\n",
      "Training loss: 0.012960, train accuracy: 98.87%  [92160/100000]\n",
      "Training loss: 0.022480, train accuracy: 98.86%  [97280/100000]\n",
      "Validation Error:\n",
      "Accuracy: 97.7%, Avg loss: 0.070698\n",
      "\n",
      "\n",
      "Epoch 7/10\n",
      "-------------------------------\n",
      "Training loss: 0.010480, train accuracy: 99.18%  [ 5120/100000]\n",
      "Training loss: 0.021432, train accuracy: 99.21%  [10240/100000]\n",
      "Training loss: 0.029480, train accuracy: 99.17%  [15360/100000]\n",
      "Training loss: 0.106561, train accuracy: 99.10%  [20480/100000]\n",
      "Training loss: 0.012768, train accuracy: 99.09%  [25600/100000]\n",
      "Training loss: 0.015873, train accuracy: 98.99%  [30720/100000]\n",
      "Training loss: 0.039100, train accuracy: 98.92%  [35840/100000]\n",
      "Training loss: 0.028150, train accuracy: 98.90%  [40960/100000]\n",
      "Training loss: 0.043240, train accuracy: 98.91%  [46080/100000]\n",
      "Training loss: 0.077784, train accuracy: 98.88%  [51200/100000]\n",
      "Training loss: 0.046303, train accuracy: 98.84%  [56320/100000]\n",
      "Training loss: 0.017415, train accuracy: 98.86%  [61440/100000]\n",
      "Training loss: 0.012524, train accuracy: 98.87%  [66560/100000]\n",
      "Training loss: 0.007122, train accuracy: 98.90%  [71680/100000]\n",
      "Training loss: 0.040835, train accuracy: 98.91%  [76800/100000]\n",
      "Training loss: 0.032261, train accuracy: 98.91%  [81920/100000]\n",
      "Training loss: 0.037136, train accuracy: 98.92%  [87040/100000]\n",
      "Training loss: 0.049982, train accuracy: 98.93%  [92160/100000]\n",
      "Training loss: 0.005142, train accuracy: 98.93%  [97280/100000]\n",
      "Validation Error:\n",
      "Accuracy: 96.7%, Avg loss: 0.106064\n",
      "\n",
      "\n",
      "Epoch 8/10\n",
      "-------------------------------\n",
      "Training loss: 0.012777, train accuracy: 99.10%  [ 5120/100000]\n",
      "Training loss: 0.029425, train accuracy: 99.20%  [10240/100000]\n",
      "Training loss: 0.001362, train accuracy: 99.24%  [15360/100000]\n",
      "Training loss: 0.007921, train accuracy: 99.27%  [20480/100000]\n",
      "Training loss: 0.050127, train accuracy: 99.27%  [25600/100000]\n",
      "Training loss: 0.020339, train accuracy: 99.30%  [30720/100000]\n",
      "Training loss: 0.005935, train accuracy: 99.34%  [35840/100000]\n",
      "Training loss: 0.003112, train accuracy: 99.30%  [40960/100000]\n",
      "Training loss: 0.011687, train accuracy: 99.29%  [46080/100000]\n",
      "Training loss: 0.011286, train accuracy: 99.30%  [51200/100000]\n",
      "Training loss: 0.004342, train accuracy: 99.28%  [56320/100000]\n",
      "Training loss: 0.003610, train accuracy: 99.29%  [61440/100000]\n",
      "Training loss: 0.049228, train accuracy: 99.27%  [66560/100000]\n",
      "Training loss: 0.010890, train accuracy: 99.26%  [71680/100000]\n",
      "Training loss: 0.016843, train accuracy: 99.25%  [76800/100000]\n",
      "Training loss: 0.006401, train accuracy: 99.25%  [81920/100000]\n",
      "Training loss: 0.012150, train accuracy: 99.26%  [87040/100000]\n",
      "Training loss: 0.050506, train accuracy: 99.25%  [92160/100000]\n",
      "Training loss: 0.056519, train accuracy: 99.24%  [97280/100000]\n",
      "Validation Error:\n",
      "Accuracy: 96.3%, Avg loss: 0.116766\n",
      "\n",
      "\n",
      "Epoch 9/10\n",
      "-------------------------------\n",
      "Training loss: 0.028948, train accuracy: 99.43%  [ 5120/100000]\n",
      "Training loss: 0.012339, train accuracy: 99.40%  [10240/100000]\n",
      "Training loss: 0.003071, train accuracy: 99.34%  [15360/100000]\n",
      "Training loss: 0.003876, train accuracy: 99.40%  [20480/100000]\n",
      "Training loss: 0.054514, train accuracy: 99.38%  [25600/100000]\n",
      "Training loss: 0.002701, train accuracy: 99.36%  [30720/100000]\n",
      "Training loss: 0.022720, train accuracy: 99.32%  [35840/100000]\n",
      "Training loss: 0.018024, train accuracy: 99.31%  [40960/100000]\n",
      "Training loss: 0.026201, train accuracy: 99.31%  [46080/100000]\n",
      "Training loss: 0.015509, train accuracy: 99.30%  [51200/100000]\n",
      "Training loss: 0.007588, train accuracy: 99.31%  [56320/100000]\n",
      "Training loss: 0.006483, train accuracy: 99.29%  [61440/100000]\n",
      "Training loss: 0.011888, train accuracy: 99.29%  [66560/100000]\n",
      "Training loss: 0.040820, train accuracy: 99.28%  [71680/100000]\n",
      "Training loss: 0.003528, train accuracy: 99.27%  [76800/100000]\n",
      "Training loss: 0.086862, train accuracy: 99.27%  [81920/100000]\n",
      "Training loss: 0.020508, train accuracy: 99.25%  [87040/100000]\n",
      "Training loss: 0.012980, train accuracy: 99.24%  [92160/100000]\n",
      "Training loss: 0.032609, train accuracy: 99.24%  [97280/100000]\n",
      "Validation Error:\n",
      "Accuracy: 96.9%, Avg loss: 0.117357\n",
      "\n",
      "\n",
      "Epoch 10/10\n",
      "-------------------------------\n",
      "Training loss: 0.005966, train accuracy: 99.28%  [ 5120/100000]\n",
      "Training loss: 0.004982, train accuracy: 99.32%  [10240/100000]\n",
      "Training loss: 0.046992, train accuracy: 99.43%  [15360/100000]\n",
      "Training loss: 0.011336, train accuracy: 99.45%  [20480/100000]\n",
      "Training loss: 0.024852, train accuracy: 99.44%  [25600/100000]\n",
      "Training loss: 0.009362, train accuracy: 99.36%  [30720/100000]\n",
      "Training loss: 0.009767, train accuracy: 99.36%  [35840/100000]\n",
      "Training loss: 0.048859, train accuracy: 99.34%  [40960/100000]\n",
      "Training loss: 0.004561, train accuracy: 99.33%  [46080/100000]\n",
      "Training loss: 0.019111, train accuracy: 99.31%  [51200/100000]\n",
      "Training loss: 0.009296, train accuracy: 99.30%  [56320/100000]\n",
      "Training loss: 0.006700, train accuracy: 99.31%  [61440/100000]\n",
      "Training loss: 0.012345, train accuracy: 99.32%  [66560/100000]\n",
      "Training loss: 0.021088, train accuracy: 99.32%  [71680/100000]\n",
      "Training loss: 0.007712, train accuracy: 99.33%  [76800/100000]\n",
      "Training loss: 0.008593, train accuracy: 99.33%  [81920/100000]\n",
      "Training loss: 0.039584, train accuracy: 99.33%  [87040/100000]\n",
      "Training loss: 0.016236, train accuracy: 99.33%  [92160/100000]\n",
      "Training loss: 0.037000, train accuracy: 99.32%  [97280/100000]\n",
      "Validation Error:\n",
      "Accuracy: 95.9%, Avg loss: 0.131455\n",
      "\n",
      "\n",
      "Weights loaded successfully from checkpoints/best_CIFAKE_FTResNet50_beefy.pth\n"
     ]
    }
   ],
   "source": [
    "artifacts = model_utils.train(dataloaders, loss_fn, optimizer, ft_resnet50, model_name, BATCH_SIZE, EPOCHS, loss_thresh=2.5, force_train=TRAINING_MODE)"
   ]
  },
  {
   "cell_type": "code",
   "execution_count": 24,
   "metadata": {},
   "outputs": [
    {
     "name": "stdout",
     "output_type": "stream",
     "text": [
      "Test Error:\n",
      "Accuracy: 98.0%, Avg loss: 0.052288\n",
      "Confusion matrix report, tp: 0, fp: 0, fn: 195, tn:9805\n",
      "False\n",
      "Precision: 0.00, Recall: 0.00, F1-Score: 0.00\n"
     ]
    },
    {
     "data": {
      "text/plain": [
       "(0.05228836935815177, tensor(0.9805, device='cuda:0'))"
      ]
     },
     "execution_count": 24,
     "metadata": {},
     "output_type": "execute_result"
    }
   ],
   "source": [
    "model_utils.test(test_dataloader, ft_resnet50, loss_fn, device,\n",
    "                 model_name=model_name)"
   ]
  },
  {
   "cell_type": "code",
   "execution_count": 25,
   "metadata": {},
   "outputs": [],
   "source": [
    "if artifacts != None:\n",
    "    losses, train_accs, test_accs, precisions, recalls = artifacts\n",
    "    plotter.plot_generic_metrics((train_accs, test_accs), \"accuracy\", model_name)\n",
    "    plotter.plot_precision_recall_curve(precisions, recalls, model_name)"
   ]
  },
  {
   "cell_type": "markdown",
   "metadata": {},
   "source": [
    "### Modified ResNET (3 LL)"
   ]
  },
  {
   "cell_type": "code",
   "execution_count": 26,
   "metadata": {},
   "outputs": [],
   "source": [
    "mod_resnet50 = model_utils.ModifiedResNet(original_resnet=resnet50(weights='IMAGENET1K_V1'))"
   ]
  },
  {
   "cell_type": "code",
   "execution_count": 27,
   "metadata": {},
   "outputs": [],
   "source": [
    "mod_resnet50.prepare_for_ft()\n",
    "mod_resnet50.to(device)\n",
    "\n",
    "optimizer = torch.optim.AdamW(\n",
    "    filter(lambda p: p.requires_grad, mod_resnet50.parameters()), lr=0.001\n",
    ")\n",
    "\n",
    "model_name = \"CIFAKE_ModResNet50\""
   ]
  },
  {
   "cell_type": "code",
   "execution_count": 28,
   "metadata": {},
   "outputs": [
    {
     "name": "stdout",
     "output_type": "stream",
     "text": [
      "Epoch 1/10\n",
      "-------------------------------\n",
      "Training loss: 0.403121, train accuracy: 69.82%  [ 5120/100000]\n",
      "Training loss: 0.469580, train accuracy: 72.82%  [10240/100000]\n",
      "Training loss: 0.486681, train accuracy: 74.69%  [15360/100000]\n",
      "Training loss: 0.373019, train accuracy: 75.79%  [20480/100000]\n",
      "Training loss: 0.485093, train accuracy: 76.64%  [25600/100000]\n",
      "Training loss: 0.419952, train accuracy: 76.94%  [30720/100000]\n",
      "Training loss: 0.394565, train accuracy: 77.47%  [35840/100000]\n",
      "Training loss: 0.565850, train accuracy: 77.80%  [40960/100000]\n",
      "Training loss: 0.476879, train accuracy: 77.78%  [46080/100000]\n",
      "Training loss: 0.485146, train accuracy: 78.10%  [51200/100000]\n",
      "Training loss: 0.431714, train accuracy: 78.38%  [56320/100000]\n",
      "Training loss: 0.472127, train accuracy: 78.55%  [61440/100000]\n",
      "Training loss: 0.531713, train accuracy: 78.69%  [66560/100000]\n",
      "Training loss: 0.376173, train accuracy: 78.90%  [71680/100000]\n",
      "Training loss: 0.407262, train accuracy: 79.04%  [76800/100000]\n",
      "Training loss: 0.357313, train accuracy: 79.19%  [81920/100000]\n",
      "Training loss: 0.424121, train accuracy: 79.36%  [87040/100000]\n",
      "Training loss: 0.374677, train accuracy: 79.47%  [92160/100000]\n",
      "Training loss: 0.414085, train accuracy: 79.52%  [97280/100000]\n",
      "Validation Error:\n",
      "Accuracy: 83.9%, Avg loss: 0.379108\n",
      "New best model found! (based on lowest loss)\n",
      "...and saved.\n",
      "\n",
      "\n",
      "Epoch 2/10\n",
      "-------------------------------\n",
      "Training loss: 0.380076, train accuracy: 82.68%  [ 5120/100000]\n",
      "Training loss: 0.472426, train accuracy: 82.32%  [10240/100000]\n",
      "Training loss: 0.440895, train accuracy: 82.68%  [15360/100000]\n",
      "Training loss: 0.378781, train accuracy: 82.79%  [20480/100000]\n",
      "Training loss: 0.505311, train accuracy: 82.89%  [25600/100000]\n",
      "Training loss: 0.356867, train accuracy: 83.03%  [30720/100000]\n",
      "Training loss: 0.515724, train accuracy: 82.87%  [35840/100000]\n",
      "Training loss: 0.385550, train accuracy: 82.85%  [40960/100000]\n",
      "Training loss: 0.343027, train accuracy: 82.86%  [46080/100000]\n",
      "Training loss: 0.448401, train accuracy: 82.91%  [51200/100000]\n",
      "Training loss: 0.400938, train accuracy: 82.93%  [56320/100000]\n",
      "Training loss: 0.497226, train accuracy: 82.83%  [61440/100000]\n",
      "Training loss: 0.261286, train accuracy: 82.90%  [66560/100000]\n",
      "Training loss: 0.364577, train accuracy: 82.89%  [71680/100000]\n",
      "Training loss: 0.368531, train accuracy: 82.90%  [76800/100000]\n",
      "Training loss: 0.378433, train accuracy: 82.93%  [81920/100000]\n",
      "Training loss: 0.303534, train accuracy: 82.98%  [87040/100000]\n",
      "Training loss: 0.347504, train accuracy: 82.98%  [92160/100000]\n",
      "Training loss: 0.477560, train accuracy: 83.00%  [97280/100000]\n",
      "Validation Error:\n",
      "Accuracy: 78.6%, Avg loss: 0.436683\n",
      "\n",
      "\n",
      "Epoch 3/10\n",
      "-------------------------------\n",
      "Training loss: 0.403741, train accuracy: 83.81%  [ 5120/100000]\n",
      "Training loss: 0.360749, train accuracy: 84.33%  [10240/100000]\n",
      "Training loss: 0.357556, train accuracy: 84.17%  [15360/100000]\n",
      "Training loss: 0.388783, train accuracy: 84.04%  [20480/100000]\n",
      "Training loss: 0.291199, train accuracy: 84.18%  [25600/100000]\n",
      "Training loss: 0.357016, train accuracy: 84.19%  [30720/100000]\n",
      "Training loss: 0.300455, train accuracy: 84.22%  [35840/100000]\n",
      "Training loss: 0.333592, train accuracy: 84.26%  [40960/100000]\n",
      "Training loss: 0.362428, train accuracy: 84.29%  [46080/100000]\n",
      "Training loss: 0.482546, train accuracy: 84.33%  [51200/100000]\n",
      "Training loss: 0.344994, train accuracy: 84.29%  [56320/100000]\n",
      "Training loss: 0.379221, train accuracy: 84.26%  [61440/100000]\n",
      "Training loss: 0.382459, train accuracy: 84.27%  [66560/100000]\n",
      "Training loss: 0.331796, train accuracy: 84.29%  [71680/100000]\n",
      "Training loss: 0.287142, train accuracy: 84.32%  [76800/100000]\n",
      "Training loss: 0.276437, train accuracy: 84.32%  [81920/100000]\n",
      "Training loss: 0.339071, train accuracy: 84.34%  [87040/100000]\n",
      "Training loss: 0.415423, train accuracy: 84.30%  [92160/100000]\n",
      "Training loss: 0.413210, train accuracy: 84.30%  [97280/100000]\n",
      "Validation Error:\n",
      "Accuracy: 90.8%, Avg loss: 0.251785\n",
      "New best model found! (based on lowest loss)\n",
      "...and saved.\n",
      "\n",
      "\n",
      "Epoch 4/10\n",
      "-------------------------------\n",
      "Training loss: 0.307442, train accuracy: 84.96%  [ 5120/100000]\n",
      "Training loss: 0.352457, train accuracy: 85.29%  [10240/100000]\n",
      "Training loss: 0.345518, train accuracy: 85.25%  [15360/100000]\n",
      "Training loss: 0.299717, train accuracy: 85.17%  [20480/100000]\n",
      "Training loss: 0.361052, train accuracy: 85.07%  [25600/100000]\n",
      "Training loss: 0.340598, train accuracy: 85.01%  [30720/100000]\n",
      "Training loss: 0.302895, train accuracy: 85.03%  [35840/100000]\n",
      "Training loss: 0.263296, train accuracy: 85.01%  [40960/100000]\n",
      "Training loss: 0.406136, train accuracy: 84.97%  [46080/100000]\n",
      "Training loss: 0.391807, train accuracy: 85.05%  [51200/100000]\n",
      "Training loss: 0.276111, train accuracy: 85.11%  [56320/100000]\n",
      "Training loss: 0.270569, train accuracy: 85.13%  [61440/100000]\n",
      "Training loss: 0.299637, train accuracy: 85.12%  [66560/100000]\n",
      "Training loss: 0.271268, train accuracy: 85.12%  [71680/100000]\n",
      "Training loss: 0.313820, train accuracy: 85.14%  [76800/100000]\n",
      "Training loss: 0.363159, train accuracy: 85.10%  [81920/100000]\n",
      "Training loss: 0.339525, train accuracy: 85.15%  [87040/100000]\n",
      "Training loss: 0.346458, train accuracy: 85.12%  [92160/100000]\n",
      "Training loss: 0.229998, train accuracy: 85.15%  [97280/100000]\n",
      "Validation Error:\n",
      "Accuracy: 77.8%, Avg loss: 0.465214\n",
      "\n",
      "\n",
      "Epoch 5/10\n",
      "-------------------------------\n",
      "Training loss: 0.282681, train accuracy: 86.11%  [ 5120/100000]\n",
      "Training loss: 0.411605, train accuracy: 86.15%  [10240/100000]\n",
      "Training loss: 0.263409, train accuracy: 86.13%  [15360/100000]\n",
      "Training loss: 0.333099, train accuracy: 86.00%  [20480/100000]\n",
      "Training loss: 0.415063, train accuracy: 86.01%  [25600/100000]\n",
      "Training loss: 0.281592, train accuracy: 86.06%  [30720/100000]\n",
      "Training loss: 0.286943, train accuracy: 86.09%  [35840/100000]\n",
      "Training loss: 0.273018, train accuracy: 85.99%  [40960/100000]\n",
      "Training loss: 0.359190, train accuracy: 86.03%  [46080/100000]\n",
      "Training loss: 0.330639, train accuracy: 85.97%  [51200/100000]\n",
      "Training loss: 0.301068, train accuracy: 85.86%  [56320/100000]\n",
      "Training loss: 0.275781, train accuracy: 85.79%  [61440/100000]\n",
      "Training loss: 0.348620, train accuracy: 85.80%  [66560/100000]\n",
      "Training loss: 0.353128, train accuracy: 85.82%  [71680/100000]\n",
      "Training loss: 0.312634, train accuracy: 85.83%  [76800/100000]\n",
      "Training loss: 0.258161, train accuracy: 85.79%  [81920/100000]\n",
      "Training loss: 0.337904, train accuracy: 85.81%  [87040/100000]\n",
      "Training loss: 0.324082, train accuracy: 85.78%  [92160/100000]\n",
      "Training loss: 0.327698, train accuracy: 85.81%  [97280/100000]\n",
      "Validation Error:\n",
      "Accuracy: 82.3%, Avg loss: 0.389421\n",
      "\n",
      "\n",
      "Epoch 6/10\n",
      "-------------------------------\n",
      "Training loss: 0.212727, train accuracy: 86.43%  [ 5120/100000]\n",
      "Training loss: 0.313773, train accuracy: 86.53%  [10240/100000]\n",
      "Training loss: 0.359466, train accuracy: 86.33%  [15360/100000]\n",
      "Training loss: 0.313458, train accuracy: 86.39%  [20480/100000]\n",
      "Training loss: 0.377740, train accuracy: 86.45%  [25600/100000]\n",
      "Training loss: 0.234115, train accuracy: 86.52%  [30720/100000]\n",
      "Training loss: 0.337851, train accuracy: 86.60%  [35840/100000]\n",
      "Training loss: 0.283086, train accuracy: 86.71%  [40960/100000]\n",
      "Training loss: 0.200681, train accuracy: 86.66%  [46080/100000]\n",
      "Training loss: 0.274516, train accuracy: 86.68%  [51200/100000]\n",
      "Training loss: 0.296666, train accuracy: 86.64%  [56320/100000]\n",
      "Training loss: 0.365700, train accuracy: 86.60%  [61440/100000]\n",
      "Training loss: 0.397131, train accuracy: 86.58%  [66560/100000]\n",
      "Training loss: 0.356314, train accuracy: 86.55%  [71680/100000]\n",
      "Training loss: 0.338770, train accuracy: 86.53%  [76800/100000]\n",
      "Training loss: 0.286562, train accuracy: 86.54%  [81920/100000]\n",
      "Training loss: 0.321140, train accuracy: 86.52%  [87040/100000]\n",
      "Training loss: 0.219935, train accuracy: 86.50%  [92160/100000]\n",
      "Training loss: 0.310746, train accuracy: 86.49%  [97280/100000]\n",
      "Validation Error:\n",
      "Accuracy: 83.5%, Avg loss: 0.389132\n",
      "\n",
      "\n",
      "Epoch 7/10\n",
      "-------------------------------\n",
      "Training loss: 0.225012, train accuracy: 86.88%  [ 5120/100000]\n",
      "Training loss: 0.294427, train accuracy: 87.28%  [10240/100000]\n",
      "Training loss: 0.297497, train accuracy: 87.19%  [15360/100000]\n",
      "Training loss: 0.372068, train accuracy: 87.12%  [20480/100000]\n",
      "Training loss: 0.346920, train accuracy: 87.03%  [25600/100000]\n",
      "Training loss: 0.284790, train accuracy: 86.92%  [30720/100000]\n",
      "Training loss: 0.328982, train accuracy: 86.90%  [35840/100000]\n",
      "Training loss: 0.285504, train accuracy: 86.92%  [40960/100000]\n",
      "Training loss: 0.232132, train accuracy: 86.92%  [46080/100000]\n",
      "Training loss: 0.253764, train accuracy: 86.91%  [51200/100000]\n",
      "Training loss: 0.259674, train accuracy: 86.90%  [56320/100000]\n",
      "Training loss: 0.299148, train accuracy: 86.91%  [61440/100000]\n",
      "Training loss: 0.320329, train accuracy: 86.84%  [66560/100000]\n",
      "Training loss: 0.253322, train accuracy: 86.80%  [71680/100000]\n",
      "Training loss: 0.338374, train accuracy: 86.82%  [76800/100000]\n",
      "Training loss: 0.348641, train accuracy: 86.86%  [81920/100000]\n",
      "Training loss: 0.274223, train accuracy: 86.88%  [87040/100000]\n",
      "Training loss: 0.239890, train accuracy: 86.88%  [92160/100000]\n",
      "Training loss: 0.279910, train accuracy: 86.90%  [97280/100000]\n",
      "Validation Error:\n",
      "Accuracy: 83.6%, Avg loss: 0.384589\n",
      "\n",
      "\n",
      "Epoch 8/10\n",
      "-------------------------------\n",
      "Training loss: 0.302929, train accuracy: 88.07%  [ 5120/100000]\n",
      "Training loss: 0.195216, train accuracy: 88.17%  [10240/100000]\n",
      "Training loss: 0.299796, train accuracy: 88.01%  [15360/100000]\n",
      "Training loss: 0.309078, train accuracy: 87.80%  [20480/100000]\n",
      "Training loss: 0.284359, train accuracy: 87.82%  [25600/100000]\n",
      "Training loss: 0.239255, train accuracy: 87.75%  [30720/100000]\n",
      "Training loss: 0.265828, train accuracy: 87.69%  [35840/100000]\n",
      "Training loss: 0.300939, train accuracy: 87.61%  [40960/100000]\n",
      "Training loss: 0.355643, train accuracy: 87.53%  [46080/100000]\n",
      "Training loss: 0.270310, train accuracy: 87.57%  [51200/100000]\n",
      "Training loss: 0.233618, train accuracy: 87.55%  [56320/100000]\n",
      "Training loss: 0.282120, train accuracy: 87.56%  [61440/100000]\n",
      "Training loss: 0.299891, train accuracy: 87.47%  [66560/100000]\n",
      "Training loss: 0.356857, train accuracy: 87.48%  [71680/100000]\n",
      "Training loss: 0.339589, train accuracy: 87.46%  [76800/100000]\n",
      "Training loss: 0.280649, train accuracy: 87.42%  [81920/100000]\n",
      "Training loss: 0.313754, train accuracy: 87.40%  [87040/100000]\n",
      "Training loss: 0.310393, train accuracy: 87.37%  [92160/100000]\n",
      "Training loss: 0.309822, train accuracy: 87.32%  [97280/100000]\n",
      "Validation Error:\n",
      "Accuracy: 87.4%, Avg loss: 0.298001\n",
      "\n",
      "\n",
      "Epoch 9/10\n",
      "-------------------------------\n",
      "Training loss: 0.235918, train accuracy: 87.77%  [ 5120/100000]\n",
      "Training loss: 0.205361, train accuracy: 87.97%  [10240/100000]\n",
      "Training loss: 0.331664, train accuracy: 88.05%  [15360/100000]\n",
      "Training loss: 0.233203, train accuracy: 88.12%  [20480/100000]\n",
      "Training loss: 0.302025, train accuracy: 88.02%  [25600/100000]\n",
      "Training loss: 0.290442, train accuracy: 88.00%  [30720/100000]\n",
      "Training loss: 0.246170, train accuracy: 88.06%  [35840/100000]\n",
      "Training loss: 0.449360, train accuracy: 87.97%  [40960/100000]\n",
      "Training loss: 0.273281, train accuracy: 88.00%  [46080/100000]\n",
      "Training loss: 0.261772, train accuracy: 87.96%  [51200/100000]\n",
      "Training loss: 0.340469, train accuracy: 87.91%  [56320/100000]\n",
      "Training loss: 0.352398, train accuracy: 87.94%  [61440/100000]\n",
      "Training loss: 0.303516, train accuracy: 87.90%  [66560/100000]\n",
      "Training loss: 0.369834, train accuracy: 87.86%  [71680/100000]\n",
      "Training loss: 0.453580, train accuracy: 87.84%  [76800/100000]\n",
      "Training loss: 0.209417, train accuracy: 87.82%  [81920/100000]\n",
      "Training loss: 0.227506, train accuracy: 87.84%  [87040/100000]\n",
      "Training loss: 0.224366, train accuracy: 87.81%  [92160/100000]\n",
      "Training loss: 0.251223, train accuracy: 87.80%  [97280/100000]\n",
      "Validation Error:\n",
      "Accuracy: 84.2%, Avg loss: 0.355611\n",
      "\n",
      "\n",
      "Epoch 10/10\n",
      "-------------------------------\n",
      "Training loss: 0.298036, train accuracy: 88.95%  [ 5120/100000]\n",
      "Training loss: 0.262634, train accuracy: 88.52%  [10240/100000]\n",
      "Training loss: 0.262058, train accuracy: 88.44%  [15360/100000]\n",
      "Training loss: 0.209034, train accuracy: 88.52%  [20480/100000]\n",
      "Training loss: 0.290997, train accuracy: 88.41%  [25600/100000]\n",
      "Training loss: 0.250989, train accuracy: 88.38%  [30720/100000]\n",
      "Training loss: 0.192331, train accuracy: 88.44%  [35840/100000]\n",
      "Training loss: 0.281689, train accuracy: 88.44%  [40960/100000]\n",
      "Training loss: 0.321877, train accuracy: 88.35%  [46080/100000]\n",
      "Training loss: 0.286858, train accuracy: 88.25%  [51200/100000]\n",
      "Training loss: 0.231987, train accuracy: 88.25%  [56320/100000]\n",
      "Training loss: 0.270137, train accuracy: 88.17%  [61440/100000]\n",
      "Training loss: 0.326341, train accuracy: 88.18%  [66560/100000]\n",
      "Training loss: 0.235911, train accuracy: 88.21%  [71680/100000]\n",
      "Training loss: 0.245637, train accuracy: 88.18%  [76800/100000]\n",
      "Training loss: 0.274145, train accuracy: 88.21%  [81920/100000]\n",
      "Training loss: 0.246052, train accuracy: 88.16%  [87040/100000]\n",
      "Training loss: 0.243567, train accuracy: 88.16%  [92160/100000]\n",
      "Training loss: 0.276586, train accuracy: 88.15%  [97280/100000]\n",
      "Validation Error:\n",
      "Accuracy: 86.6%, Avg loss: 0.310477\n",
      "\n",
      "\n",
      "Weights loaded successfully from checkpoints/best_CIFAKE_ModResNet50.pth\n"
     ]
    }
   ],
   "source": [
    "artifacts = model_utils.train(dataloaders, loss_fn, optimizer, mod_resnet50, model_name, BATCH_SIZE, EPOCHS, loss_thresh=2.5, force_train=TRAINING_MODE)"
   ]
  },
  {
   "cell_type": "code",
   "execution_count": 29,
   "metadata": {},
   "outputs": [
    {
     "name": "stdout",
     "output_type": "stream",
     "text": [
      "Test Error:\n",
      "Accuracy: 90.8%, Avg loss: 0.251785\n",
      "Confusion matrix report, tp: 0, fp: 0, fn: 918, tn:9082\n",
      "False\n",
      "Precision: 0.00, Recall: 0.00, F1-Score: 0.00\n"
     ]
    },
    {
     "data": {
      "text/plain": [
       "(0.2517846696361711, tensor(0.9082, device='cuda:0'))"
      ]
     },
     "execution_count": 29,
     "metadata": {},
     "output_type": "execute_result"
    }
   ],
   "source": [
    "model_utils.test(test_dataloader, mod_resnet50, loss_fn, device,\n",
    "                 model_name=model_name)"
   ]
  },
  {
   "cell_type": "code",
   "execution_count": 30,
   "metadata": {},
   "outputs": [],
   "source": [
    "if artifacts != None:\n",
    "    losses, train_accs, test_accs, precisions, recalls = artifacts\n",
    "    plotter.plot_generic_metrics((train_accs, test_accs), \"accuracy\", model_name)\n",
    "    plotter.plot_precision_recall_curve(precisions, recalls, model_name)"
   ]
  },
  {
   "cell_type": "markdown",
   "metadata": {},
   "source": [
    "#### Finetune 2 strategy on new model"
   ]
  },
  {
   "cell_type": "code",
   "execution_count": 31,
   "metadata": {},
   "outputs": [],
   "source": [
    "for param in mod_resnet50.parameters():\n",
    "    param.requires_grad = True\n",
    "\n",
    "\n",
    "optimizer = torch.optim.AdamW(mod_resnet50.parameters(), lr=LEARNING_RATE)\n",
    "model_name = \"CIFAKE_ModResNet50_beefy\""
   ]
  },
  {
   "cell_type": "code",
   "execution_count": 32,
   "metadata": {},
   "outputs": [
    {
     "name": "stdout",
     "output_type": "stream",
     "text": [
      "Epoch 1/10\n",
      "-------------------------------\n",
      "Training loss: 0.211708, train accuracy: 86.86%  [ 5120/100000]\n",
      "Training loss: 0.166142, train accuracy: 89.69%  [10240/100000]\n",
      "Training loss: 0.137842, train accuracy: 91.06%  [15360/100000]\n",
      "Training loss: 0.090900, train accuracy: 91.97%  [20480/100000]\n",
      "Training loss: 0.232756, train accuracy: 92.54%  [25600/100000]\n",
      "Training loss: 0.088220, train accuracy: 92.92%  [30720/100000]\n",
      "Training loss: 0.140417, train accuracy: 93.20%  [35840/100000]\n",
      "Training loss: 0.129068, train accuracy: 93.54%  [40960/100000]\n",
      "Training loss: 0.097002, train accuracy: 93.74%  [46080/100000]\n",
      "Training loss: 0.097666, train accuracy: 93.90%  [51200/100000]\n",
      "Training loss: 0.109271, train accuracy: 94.08%  [56320/100000]\n",
      "Training loss: 0.058854, train accuracy: 94.22%  [61440/100000]\n",
      "Training loss: 0.094096, train accuracy: 94.33%  [66560/100000]\n",
      "Training loss: 0.098590, train accuracy: 94.43%  [71680/100000]\n",
      "Training loss: 0.122868, train accuracy: 94.52%  [76800/100000]\n",
      "Training loss: 0.165487, train accuracy: 94.61%  [81920/100000]\n",
      "Training loss: 0.046513, train accuracy: 94.72%  [87040/100000]\n",
      "Training loss: 0.122769, train accuracy: 94.78%  [92160/100000]\n",
      "Training loss: 0.172184, train accuracy: 94.87%  [97280/100000]\n",
      "Validation Error:\n",
      "Accuracy: 96.2%, Avg loss: 0.111073\n",
      "New best model found! (based on lowest loss)\n",
      "...and saved.\n",
      "\n",
      "\n",
      "Epoch 2/10\n",
      "-------------------------------\n",
      "Training loss: 0.058964, train accuracy: 97.32%  [ 5120/100000]\n",
      "Training loss: 0.103343, train accuracy: 97.29%  [10240/100000]\n",
      "Training loss: 0.073361, train accuracy: 97.36%  [15360/100000]\n",
      "Training loss: 0.042286, train accuracy: 97.36%  [20480/100000]\n",
      "Training loss: 0.081376, train accuracy: 97.40%  [25600/100000]\n",
      "Training loss: 0.057194, train accuracy: 97.39%  [30720/100000]\n",
      "Training loss: 0.048780, train accuracy: 97.36%  [35840/100000]\n",
      "Training loss: 0.057948, train accuracy: 97.34%  [40960/100000]\n",
      "Training loss: 0.052969, train accuracy: 97.36%  [46080/100000]\n",
      "Training loss: 0.054008, train accuracy: 97.32%  [51200/100000]\n",
      "Training loss: 0.086072, train accuracy: 97.29%  [56320/100000]\n",
      "Training loss: 0.073733, train accuracy: 97.25%  [61440/100000]\n",
      "Training loss: 0.112992, train accuracy: 97.27%  [66560/100000]\n",
      "Training loss: 0.083720, train accuracy: 97.28%  [71680/100000]\n",
      "Training loss: 0.064830, train accuracy: 97.28%  [76800/100000]\n",
      "Training loss: 0.116659, train accuracy: 97.28%  [81920/100000]\n",
      "Training loss: 0.197197, train accuracy: 97.09%  [87040/100000]\n",
      "Training loss: 0.074158, train accuracy: 96.95%  [92160/100000]\n",
      "Training loss: 0.091599, train accuracy: 96.86%  [97280/100000]\n",
      "Validation Error:\n",
      "Accuracy: 94.8%, Avg loss: 0.149158\n",
      "\n",
      "\n",
      "Epoch 3/10\n",
      "-------------------------------\n",
      "Training loss: 0.059445, train accuracy: 96.80%  [ 5120/100000]\n",
      "Training loss: 0.086642, train accuracy: 96.97%  [10240/100000]\n",
      "Training loss: 0.089070, train accuracy: 97.00%  [15360/100000]\n",
      "Training loss: 0.117492, train accuracy: 97.11%  [20480/100000]\n",
      "Training loss: 0.038255, train accuracy: 97.19%  [25600/100000]\n",
      "Training loss: 0.077761, train accuracy: 97.20%  [30720/100000]\n",
      "Training loss: 0.042381, train accuracy: 97.30%  [35840/100000]\n",
      "Training loss: 0.046491, train accuracy: 97.35%  [40960/100000]\n",
      "Training loss: 0.078061, train accuracy: 97.37%  [46080/100000]\n",
      "Training loss: 0.054469, train accuracy: 97.37%  [51200/100000]\n",
      "Training loss: 0.090160, train accuracy: 97.37%  [56320/100000]\n",
      "Training loss: 0.018654, train accuracy: 97.40%  [61440/100000]\n",
      "Training loss: 0.044317, train accuracy: 97.40%  [66560/100000]\n",
      "Training loss: 0.038886, train accuracy: 97.39%  [71680/100000]\n",
      "Training loss: 0.085729, train accuracy: 97.37%  [76800/100000]\n",
      "Training loss: 0.045914, train accuracy: 97.35%  [81920/100000]\n",
      "Training loss: 0.072174, train accuracy: 97.35%  [87040/100000]\n",
      "Training loss: 0.146131, train accuracy: 97.37%  [92160/100000]\n",
      "Training loss: 0.110128, train accuracy: 97.36%  [97280/100000]\n",
      "Validation Error:\n",
      "Accuracy: 98.3%, Avg loss: 0.050758\n",
      "New best model found! (based on lowest loss)\n",
      "...and saved.\n",
      "\n",
      "\n",
      "Epoch 4/10\n",
      "-------------------------------\n",
      "Training loss: 0.044860, train accuracy: 98.63%  [ 5120/100000]\n",
      "Training loss: 0.083175, train accuracy: 98.56%  [10240/100000]\n",
      "Training loss: 0.018323, train accuracy: 98.48%  [15360/100000]\n",
      "Training loss: 0.032359, train accuracy: 98.45%  [20480/100000]\n",
      "Training loss: 0.065708, train accuracy: 98.48%  [25600/100000]\n",
      "Training loss: 0.024159, train accuracy: 98.53%  [30720/100000]\n",
      "Training loss: 0.029804, train accuracy: 98.51%  [35840/100000]\n",
      "Training loss: 0.047348, train accuracy: 98.52%  [40960/100000]\n",
      "Training loss: 0.025141, train accuracy: 98.52%  [46080/100000]\n",
      "Training loss: 0.105682, train accuracy: 98.45%  [51200/100000]\n",
      "Training loss: 0.099139, train accuracy: 98.39%  [56320/100000]\n",
      "Training loss: 0.055639, train accuracy: 98.38%  [61440/100000]\n",
      "Training loss: 0.067918, train accuracy: 98.36%  [66560/100000]\n",
      "Training loss: 0.098346, train accuracy: 98.36%  [71680/100000]\n",
      "Training loss: 0.034447, train accuracy: 98.33%  [76800/100000]\n",
      "Training loss: 0.034042, train accuracy: 98.32%  [81920/100000]\n",
      "Training loss: 0.082709, train accuracy: 98.31%  [87040/100000]\n",
      "Training loss: 0.054119, train accuracy: 98.31%  [92160/100000]\n",
      "Training loss: 0.023596, train accuracy: 98.30%  [97280/100000]\n",
      "Validation Error:\n",
      "Accuracy: 97.6%, Avg loss: 0.067616\n",
      "\n",
      "\n",
      "Epoch 5/10\n",
      "-------------------------------\n",
      "Training loss: 0.016003, train accuracy: 98.87%  [ 5120/100000]\n",
      "Training loss: 0.005718, train accuracy: 98.88%  [10240/100000]\n",
      "Training loss: 0.009012, train accuracy: 98.98%  [15360/100000]\n",
      "Training loss: 0.030616, train accuracy: 98.90%  [20480/100000]\n",
      "Training loss: 0.023832, train accuracy: 98.87%  [25600/100000]\n",
      "Training loss: 0.023530, train accuracy: 98.76%  [30720/100000]\n",
      "Training loss: 0.021218, train accuracy: 98.73%  [35840/100000]\n",
      "Training loss: 0.023211, train accuracy: 98.72%  [40960/100000]\n",
      "Training loss: 0.005795, train accuracy: 98.75%  [46080/100000]\n",
      "Training loss: 0.046997, train accuracy: 98.71%  [51200/100000]\n",
      "Training loss: 0.047500, train accuracy: 98.72%  [56320/100000]\n",
      "Training loss: 0.112580, train accuracy: 98.68%  [61440/100000]\n",
      "Training loss: 0.024372, train accuracy: 98.66%  [66560/100000]\n",
      "Training loss: 0.048026, train accuracy: 98.63%  [71680/100000]\n",
      "Training loss: 0.016247, train accuracy: 98.62%  [76800/100000]\n",
      "Training loss: 0.055946, train accuracy: 98.60%  [81920/100000]\n",
      "Training loss: 0.045256, train accuracy: 98.56%  [87040/100000]\n",
      "Training loss: 0.014648, train accuracy: 98.55%  [92160/100000]\n",
      "Training loss: 0.033574, train accuracy: 98.55%  [97280/100000]\n",
      "Validation Error:\n",
      "Accuracy: 96.9%, Avg loss: 0.089581\n",
      "\n",
      "\n",
      "Epoch 6/10\n",
      "-------------------------------\n",
      "Training loss: 0.013143, train accuracy: 98.28%  [ 5120/100000]\n",
      "Training loss: 0.016953, train accuracy: 98.60%  [10240/100000]\n",
      "Training loss: 0.025461, train accuracy: 98.70%  [15360/100000]\n",
      "Training loss: 0.052906, train accuracy: 98.71%  [20480/100000]\n",
      "Training loss: 0.022856, train accuracy: 98.76%  [25600/100000]\n",
      "Training loss: 0.016631, train accuracy: 98.77%  [30720/100000]\n",
      "Training loss: 0.020414, train accuracy: 98.76%  [35840/100000]\n",
      "Training loss: 0.044124, train accuracy: 98.76%  [40960/100000]\n",
      "Training loss: 0.032728, train accuracy: 98.76%  [46080/100000]\n",
      "Training loss: 0.007958, train accuracy: 98.76%  [51200/100000]\n",
      "Training loss: 0.012116, train accuracy: 98.76%  [56320/100000]\n",
      "Training loss: 0.008199, train accuracy: 98.79%  [61440/100000]\n",
      "Training loss: 0.048478, train accuracy: 98.79%  [66560/100000]\n",
      "Training loss: 0.072769, train accuracy: 98.78%  [71680/100000]\n",
      "Training loss: 0.006470, train accuracy: 98.78%  [76800/100000]\n",
      "Training loss: 0.131179, train accuracy: 98.78%  [81920/100000]\n",
      "Training loss: 0.004966, train accuracy: 98.77%  [87040/100000]\n",
      "Training loss: 0.040166, train accuracy: 98.77%  [92160/100000]\n",
      "Training loss: 0.050459, train accuracy: 98.77%  [97280/100000]\n",
      "Validation Error:\n",
      "Accuracy: 96.5%, Avg loss: 0.111124\n",
      "\n",
      "\n",
      "Epoch 7/10\n",
      "-------------------------------\n",
      "Training loss: 0.031536, train accuracy: 99.22%  [ 5120/100000]\n",
      "Training loss: 0.007376, train accuracy: 99.27%  [10240/100000]\n",
      "Training loss: 0.058862, train accuracy: 99.10%  [15360/100000]\n",
      "Training loss: 0.006067, train accuracy: 99.10%  [20480/100000]\n",
      "Training loss: 0.016494, train accuracy: 99.04%  [25600/100000]\n",
      "Training loss: 0.019227, train accuracy: 99.02%  [30720/100000]\n",
      "Training loss: 0.054626, train accuracy: 98.97%  [35840/100000]\n",
      "Training loss: 0.022907, train accuracy: 98.97%  [40960/100000]\n",
      "Training loss: 0.006924, train accuracy: 98.97%  [46080/100000]\n",
      "Training loss: 0.003000, train accuracy: 98.97%  [51200/100000]\n",
      "Training loss: 0.008920, train accuracy: 98.98%  [56320/100000]\n",
      "Training loss: 0.003555, train accuracy: 99.00%  [61440/100000]\n",
      "Training loss: 0.023277, train accuracy: 98.98%  [66560/100000]\n",
      "Training loss: 0.057180, train accuracy: 98.96%  [71680/100000]\n",
      "Training loss: 0.006438, train accuracy: 98.97%  [76800/100000]\n",
      "Training loss: 0.030003, train accuracy: 98.95%  [81920/100000]\n",
      "Training loss: 0.024452, train accuracy: 98.94%  [87040/100000]\n",
      "Training loss: 0.019625, train accuracy: 98.94%  [92160/100000]\n",
      "Training loss: 0.008879, train accuracy: 98.93%  [97280/100000]\n",
      "Validation Error:\n",
      "Accuracy: 97.4%, Avg loss: 0.074510\n",
      "\n",
      "\n",
      "Epoch 8/10\n",
      "-------------------------------\n",
      "Training loss: 0.069508, train accuracy: 98.95%  [ 5120/100000]\n",
      "Training loss: 0.011714, train accuracy: 98.92%  [10240/100000]\n",
      "Training loss: 0.056288, train accuracy: 99.04%  [15360/100000]\n",
      "Training loss: 0.008474, train accuracy: 99.06%  [20480/100000]\n",
      "Training loss: 0.017825, train accuracy: 99.05%  [25600/100000]\n",
      "Training loss: 0.025613, train accuracy: 99.09%  [30720/100000]\n",
      "Training loss: 0.008436, train accuracy: 99.12%  [35840/100000]\n",
      "Training loss: 0.011555, train accuracy: 99.13%  [40960/100000]\n",
      "Training loss: 0.007971, train accuracy: 99.12%  [46080/100000]\n",
      "Training loss: 0.019863, train accuracy: 99.06%  [51200/100000]\n",
      "Training loss: 0.020771, train accuracy: 99.03%  [56320/100000]\n",
      "Training loss: 0.078246, train accuracy: 99.01%  [61440/100000]\n",
      "Training loss: 0.024328, train accuracy: 99.01%  [66560/100000]\n",
      "Training loss: 0.032020, train accuracy: 99.00%  [71680/100000]\n",
      "Training loss: 0.073630, train accuracy: 98.99%  [76800/100000]\n",
      "Training loss: 0.054899, train accuracy: 98.99%  [81920/100000]\n",
      "Training loss: 0.037901, train accuracy: 98.98%  [87040/100000]\n",
      "Training loss: 0.019614, train accuracy: 98.98%  [92160/100000]\n",
      "Training loss: 0.034366, train accuracy: 98.98%  [97280/100000]\n",
      "Validation Error:\n",
      "Accuracy: 97.8%, Avg loss: 0.084226\n",
      "\n",
      "\n",
      "Epoch 9/10\n",
      "-------------------------------\n",
      "Training loss: 0.002033, train accuracy: 99.45%  [ 5120/100000]\n",
      "Training loss: 0.031228, train accuracy: 99.51%  [10240/100000]\n",
      "Training loss: 0.025123, train accuracy: 99.49%  [15360/100000]\n",
      "Training loss: 0.014089, train accuracy: 99.52%  [20480/100000]\n",
      "Training loss: 0.009482, train accuracy: 99.47%  [25600/100000]\n",
      "Training loss: 0.023488, train accuracy: 99.31%  [30720/100000]\n",
      "Training loss: 0.054350, train accuracy: 99.30%  [35840/100000]\n",
      "Training loss: 0.007536, train accuracy: 99.29%  [40960/100000]\n",
      "Training loss: 0.095195, train accuracy: 99.22%  [46080/100000]\n",
      "Training loss: 0.019548, train accuracy: 99.22%  [51200/100000]\n",
      "Training loss: 0.011104, train accuracy: 99.21%  [56320/100000]\n",
      "Training loss: 0.052016, train accuracy: 99.20%  [61440/100000]\n",
      "Training loss: 0.033432, train accuracy: 99.20%  [66560/100000]\n",
      "Training loss: 0.010576, train accuracy: 99.19%  [71680/100000]\n",
      "Training loss: 0.036103, train accuracy: 99.17%  [76800/100000]\n",
      "Training loss: 0.012013, train accuracy: 99.17%  [81920/100000]\n",
      "Training loss: 0.091606, train accuracy: 99.16%  [87040/100000]\n",
      "Training loss: 0.021548, train accuracy: 99.15%  [92160/100000]\n",
      "Training loss: 0.027549, train accuracy: 99.16%  [97280/100000]\n",
      "Validation Error:\n",
      "Accuracy: 98.0%, Avg loss: 0.068117\n",
      "\n",
      "\n",
      "Epoch 10/10\n",
      "-------------------------------\n",
      "Training loss: 0.007641, train accuracy: 99.51%  [ 5120/100000]\n",
      "Training loss: 0.044738, train accuracy: 99.50%  [10240/100000]\n",
      "Training loss: 0.010726, train accuracy: 99.43%  [15360/100000]\n",
      "Training loss: 0.013149, train accuracy: 99.44%  [20480/100000]\n",
      "Training loss: 0.002803, train accuracy: 99.47%  [25600/100000]\n",
      "Training loss: 0.012594, train accuracy: 99.41%  [30720/100000]\n",
      "Training loss: 0.042213, train accuracy: 99.37%  [35840/100000]\n",
      "Training loss: 0.014347, train accuracy: 99.35%  [40960/100000]\n",
      "Training loss: 0.012189, train accuracy: 99.31%  [46080/100000]\n",
      "Training loss: 0.008145, train accuracy: 99.31%  [51200/100000]\n",
      "Training loss: 0.009447, train accuracy: 99.31%  [56320/100000]\n",
      "Training loss: 0.010377, train accuracy: 99.30%  [61440/100000]\n",
      "Training loss: 0.017674, train accuracy: 99.30%  [66560/100000]\n",
      "Training loss: 0.027733, train accuracy: 99.30%  [71680/100000]\n",
      "Training loss: 0.008123, train accuracy: 99.30%  [76800/100000]\n",
      "Training loss: 0.005977, train accuracy: 99.30%  [81920/100000]\n",
      "Training loss: 0.042257, train accuracy: 99.29%  [87040/100000]\n",
      "Training loss: 0.038442, train accuracy: 99.27%  [92160/100000]\n",
      "Training loss: 0.025053, train accuracy: 99.26%  [97280/100000]\n",
      "Validation Error:\n",
      "Accuracy: 96.7%, Avg loss: 0.117806\n",
      "\n",
      "\n",
      "Weights loaded successfully from checkpoints/best_CIFAKE_ModResNet50_beefy.pth\n"
     ]
    }
   ],
   "source": [
    "artifacts = model_utils.train(dataloaders, loss_fn, optimizer, mod_resnet50, model_name, BATCH_SIZE, EPOCHS, loss_thresh=2.5, force_train=TRAINING_MODE)"
   ]
  },
  {
   "cell_type": "code",
   "execution_count": 33,
   "metadata": {},
   "outputs": [
    {
     "name": "stdout",
     "output_type": "stream",
     "text": [
      "Test Error:\n",
      "Accuracy: 98.3%, Avg loss: 0.050758\n",
      "Confusion matrix report, tp: 0, fp: 0, fn: 167, tn:9833\n",
      "False\n",
      "Precision: 0.00, Recall: 0.00, F1-Score: 0.00\n"
     ]
    },
    {
     "data": {
      "text/plain": [
       "(0.050757682042290704, tensor(0.9833, device='cuda:0'))"
      ]
     },
     "execution_count": 33,
     "metadata": {},
     "output_type": "execute_result"
    }
   ],
   "source": [
    "model_utils.test(test_dataloader, mod_resnet50, loss_fn, device,\n",
    "                 model_name=model_name)"
   ]
  },
  {
   "cell_type": "code",
   "execution_count": 34,
   "metadata": {},
   "outputs": [],
   "source": [
    "if artifacts != None:\n",
    "    losses, train_accs, test_accs, precisions, recalls = artifacts\n",
    "    plotter.plot_generic_metrics((train_accs, test_accs), \"accuracy\", model_name)\n",
    "    plotter.plot_precision_recall_curve(precisions, recalls, model_name)"
   ]
  },
  {
   "cell_type": "code",
   "execution_count": 37,
   "metadata": {},
   "outputs": [],
   "source": [
    "mod_resnet50 = model_utils.ModifiedResNet(original_resnet=resnet50(weights='IMAGENET1K_V1'))\n",
    "mod_resnet50.to(device)\n",
    "mod_resnet50.load_state_dict(torch.load(\"checkpoints/best_CIFAKE_ModResNet50_beefy.pth\"))\n",
    "model_name = \"CIFAKE_ModResNet50_beefy\""
   ]
  },
  {
   "cell_type": "code",
   "execution_count": 42,
   "metadata": {},
   "outputs": [
    {
     "name": "stderr",
     "output_type": "stream",
     "text": [
      "100%|██████████| 32/32 [00:00<00:00, 65.44it/s]\n",
      "100%|██████████| 64/64 [00:00<00:00, 66.25it/s]\n"
     ]
    },
    {
     "data": {
      "image/png": "[encoded data removed]",
      "text/plain": [
       "<Figure size 1000x500 with 2 Axes>"
      ]
     },
     "metadata": {},
     "output_type": "display_data"
    }
   ],
   "source": [
    "importlib.reload(xai)\n",
    "\n",
    "target_layers = [mod_resnet50.resnet[6], mod_resnet50.resnet[7]]\n",
    "\n",
    "xai.explain_gradcam_single_image(test_dataloader, mod_resnet50, target_layers,\n",
    "                                 model_name=model_name, dataset_name=DATASET_NAME,\n",
    "                                 index = 15)"
   ]
  },
  {
   "cell_type": "code",
   "execution_count": 86,
   "metadata": {},
   "outputs": [
    {
     "data": {
      "application/vnd.jupyter.widget-view+json": {
       "model_id": "115a688d394c4da0a9488a68978c1951",
       "version_major": 2,
       "version_minor": 0
      },
      "text/plain": [
       "  0%|          | 0/1000 [00:00<?, ?it/s]"
      ]
     },
     "metadata": {},
     "output_type": "display_data"
    },
    {
     "data": {
      "image/png": "[encoded data removed]",
      "text/plain": [
       "<Figure size 1500x500 with 4 Axes>"
      ]
     },
     "metadata": {},
     "output_type": "display_data"
    }
   ],
   "source": [
    "importlib.reload(xai)\n",
    "\n",
    "xai.explain_lime_single_image(test_dataloader, mod_resnet50,\n",
    "                                model_name=model_name, dataset_name=DATASET_NAME,\n",
    "                                index = 5)"
   ]
  },
  {
   "cell_type": "markdown",
   "metadata": {},
   "source": [
    "### GradCam batch visualization"
   ]
  },
  {
   "cell_type": "code",
   "execution_count": null,
   "metadata": {},
   "outputs": [],
   "source": [
    "importlib.reload(xai)\n",
    "\n",
    "xai.explain_gradcam_batch(test_dataloader, test_dataloader.batch_size, mod_resnet50, target_layers, model_name, DATASET_NAME)"
   ]
  },
  {
   "cell_type": "markdown",
   "metadata": {},
   "source": [
    "### Lime batch visualization"
   ]
  },
  {
   "cell_type": "code",
   "execution_count": 92,
   "metadata": {},
   "outputs": [
    {
     "data": {
      "application/vnd.jupyter.widget-view+json": {
       "model_id": "f9200f37376a455e8e5c7e9e67cf2efe",
       "version_major": 2,
       "version_minor": 0
      },
      "text/plain": [
       "  0%|          | 0/1000 [00:00<?, ?it/s]"
      ]
     },
     "metadata": {},
     "output_type": "display_data"
    },
    {
     "name": "stderr",
     "output_type": "stream",
     "text": [
      "Clipping input data to the valid range for imshow with RGB data ([0..1] for floats or [0..255] for integers).\n"
     ]
    },
    {
     "data": {
      "application/vnd.jupyter.widget-view+json": {
       "model_id": "06e83fa120a4412687eeb529c7b0ef61",
       "version_major": 2,
       "version_minor": 0
      },
      "text/plain": [
       "  0%|          | 0/1000 [00:00<?, ?it/s]"
      ]
     },
     "metadata": {},
     "output_type": "display_data"
    },
    {
     "name": "stderr",
     "output_type": "stream",
     "text": [
      "Clipping input data to the valid range for imshow with RGB data ([0..1] for floats or [0..255] for integers).\n"
     ]
    },
    {
     "data": {
      "application/vnd.jupyter.widget-view+json": {
       "model_id": "e0f42ca6e1e34556a81491bdb3b45904",
       "version_major": 2,
       "version_minor": 0
      },
      "text/plain": [
       "  0%|          | 0/1000 [00:00<?, ?it/s]"
      ]
     },
     "metadata": {},
     "output_type": "display_data"
    },
    {
     "name": "stderr",
     "output_type": "stream",
     "text": [
      "Clipping input data to the valid range for imshow with RGB data ([0..1] for floats or [0..255] for integers).\n"
     ]
    },
    {
     "data": {
      "application/vnd.jupyter.widget-view+json": {
       "model_id": "9ca75022f8c843bba7ca310ce8a173e7",
       "version_major": 2,
       "version_minor": 0
      },
      "text/plain": [
       "  0%|          | 0/1000 [00:00<?, ?it/s]"
      ]
     },
     "metadata": {},
     "output_type": "display_data"
    },
    {
     "name": "stderr",
     "output_type": "stream",
     "text": [
      "Clipping input data to the valid range for imshow with RGB data ([0..1] for floats or [0..255] for integers).\n"
     ]
    },
    {
     "data": {
      "application/vnd.jupyter.widget-view+json": {
       "model_id": "691581c793b0400e8f23e7513c11da7b",
       "version_major": 2,
       "version_minor": 0
      },
      "text/plain": [
       "  0%|          | 0/1000 [00:00<?, ?it/s]"
      ]
     },
     "metadata": {},
     "output_type": "display_data"
    },
    {
     "name": "stderr",
     "output_type": "stream",
     "text": [
      "Clipping input data to the valid range for imshow with RGB data ([0..1] for floats or [0..255] for integers).\n"
     ]
    },
    {
     "data": {
      "application/vnd.jupyter.widget-view+json": {
       "model_id": "8f4fa924b6ae4d029387b8df12814b1c",
       "version_major": 2,
       "version_minor": 0
      },
      "text/plain": [
       "  0%|          | 0/1000 [00:00<?, ?it/s]"
      ]
     },
     "metadata": {},
     "output_type": "display_data"
    },
    {
     "name": "stderr",
     "output_type": "stream",
     "text": [
      "Clipping input data to the valid range for imshow with RGB data ([0..1] for floats or [0..255] for integers).\n"
     ]
    },
    {
     "data": {
      "application/vnd.jupyter.widget-view+json": {
       "model_id": "146389577f7e458eb18fab19cf7c36f2",
       "version_major": 2,
       "version_minor": 0
      },
      "text/plain": [
       "  0%|          | 0/1000 [00:00<?, ?it/s]"
      ]
     },
     "metadata": {},
     "output_type": "display_data"
    },
    {
     "name": "stderr",
     "output_type": "stream",
     "text": [
      "Clipping input data to the valid range for imshow with RGB data ([0..1] for floats or [0..255] for integers).\n"
     ]
    },
    {
     "data": {
      "application/vnd.jupyter.widget-view+json": {
       "model_id": "1366c6c664c94290af4a849249c42055",
       "version_major": 2,
       "version_minor": 0
      },
      "text/plain": [
       "  0%|          | 0/1000 [00:00<?, ?it/s]"
      ]
     },
     "metadata": {},
     "output_type": "display_data"
    },
    {
     "name": "stderr",
     "output_type": "stream",
     "text": [
      "Clipping input data to the valid range for imshow with RGB data ([0..1] for floats or [0..255] for integers).\n"
     ]
    },
    {
     "data": {
      "application/vnd.jupyter.widget-view+json": {
       "model_id": "e4b7c2a6b5a24c8888bf7c95d545f08d",
       "version_major": 2,
       "version_minor": 0
      },
      "text/plain": [
       "  0%|          | 0/1000 [00:00<?, ?it/s]"
      ]
     },
     "metadata": {},
     "output_type": "display_data"
    },
    {
     "name": "stderr",
     "output_type": "stream",
     "text": [
      "Clipping input data to the valid range for imshow with RGB data ([0..1] for floats or [0..255] for integers).\n"
     ]
    },
    {
     "data": {
      "application/vnd.jupyter.widget-view+json": {
       "model_id": "926ee6967c344affa7e60a217041200d",
       "version_major": 2,
       "version_minor": 0
      },
      "text/plain": [
       "  0%|          | 0/1000 [00:00<?, ?it/s]"
      ]
     },
     "metadata": {},
     "output_type": "display_data"
    },
    {
     "name": "stderr",
     "output_type": "stream",
     "text": [
      "Clipping input data to the valid range for imshow with RGB data ([0..1] for floats or [0..255] for integers).\n"
     ]
    },
    {
     "data": {
      "application/vnd.jupyter.widget-view+json": {
       "model_id": "29218efa2ea1452c99b6e965b9d2d721",
       "version_major": 2,
       "version_minor": 0
      },
      "text/plain": [
       "  0%|          | 0/1000 [00:00<?, ?it/s]"
      ]
     },
     "metadata": {},
     "output_type": "display_data"
    },
    {
     "name": "stderr",
     "output_type": "stream",
     "text": [
      "Clipping input data to the valid range for imshow with RGB data ([0..1] for floats or [0..255] for integers).\n"
     ]
    },
    {
     "data": {
      "application/vnd.jupyter.widget-view+json": {
       "model_id": "307dfa238a68438e99e3e0e3732669d7",
       "version_major": 2,
       "version_minor": 0
      },
      "text/plain": [
       "  0%|          | 0/1000 [00:00<?, ?it/s]"
      ]
     },
     "metadata": {},
     "output_type": "display_data"
    },
    {
     "name": "stderr",
     "output_type": "stream",
     "text": [
      "Clipping input data to the valid range for imshow with RGB data ([0..1] for floats or [0..255] for integers).\n"
     ]
    },
    {
     "data": {
      "application/vnd.jupyter.widget-view+json": {
       "model_id": "a1bbe5d000614a96b154c328400c9c46",
       "version_major": 2,
       "version_minor": 0
      },
      "text/plain": [
       "  0%|          | 0/1000 [00:00<?, ?it/s]"
      ]
     },
     "metadata": {},
     "output_type": "display_data"
    },
    {
     "name": "stderr",
     "output_type": "stream",
     "text": [
      "Clipping input data to the valid range for imshow with RGB data ([0..1] for floats or [0..255] for integers).\n"
     ]
    },
    {
     "data": {
      "application/vnd.jupyter.widget-view+json": {
       "model_id": "def355103bf941738201d4cd170f0bfc",
       "version_major": 2,
       "version_minor": 0
      },
      "text/plain": [
       "  0%|          | 0/1000 [00:00<?, ?it/s]"
      ]
     },
     "metadata": {},
     "output_type": "display_data"
    },
    {
     "name": "stderr",
     "output_type": "stream",
     "text": [
      "Clipping input data to the valid range for imshow with RGB data ([0..1] for floats or [0..255] for integers).\n"
     ]
    },
    {
     "data": {
      "application/vnd.jupyter.widget-view+json": {
       "model_id": "6da84bb9d8694be3a5fb4e1b9f498fc4",
       "version_major": 2,
       "version_minor": 0
      },
      "text/plain": [
       "  0%|          | 0/1000 [00:00<?, ?it/s]"
      ]
     },
     "metadata": {},
     "output_type": "display_data"
    },
    {
     "name": "stderr",
     "output_type": "stream",
     "text": [
      "Clipping input data to the valid range for imshow with RGB data ([0..1] for floats or [0..255] for integers).\n"
     ]
    },
    {
     "data": {
      "application/vnd.jupyter.widget-view+json": {
       "model_id": "cd8d8d84e78a40cf936b8362a5e94a04",
       "version_major": 2,
       "version_minor": 0
      },
      "text/plain": [
       "  0%|          | 0/1000 [00:00<?, ?it/s]"
      ]
     },
     "metadata": {},
     "output_type": "display_data"
    },
    {
     "name": "stderr",
     "output_type": "stream",
     "text": [
      "Clipping input data to the valid range for imshow with RGB data ([0..1] for floats or [0..255] for integers).\n"
     ]
    },
    {
     "data": {
      "application/vnd.jupyter.widget-view+json": {
       "model_id": "385c55a19a7943f1909125e46a1efe9b",
       "version_major": 2,
       "version_minor": 0
      },
      "text/plain": [
       "  0%|          | 0/1000 [00:00<?, ?it/s]"
      ]
     },
     "metadata": {},
     "output_type": "display_data"
    },
    {
     "name": "stderr",
     "output_type": "stream",
     "text": [
      "Clipping input data to the valid range for imshow with RGB data ([0..1] for floats or [0..255] for integers).\n"
     ]
    },
    {
     "data": {
      "application/vnd.jupyter.widget-view+json": {
       "model_id": "7bdaf3080af740878953b43366e218ee",
       "version_major": 2,
       "version_minor": 0
      },
      "text/plain": [
       "  0%|          | 0/1000 [00:00<?, ?it/s]"
      ]
     },
     "metadata": {},
     "output_type": "display_data"
    },
    {
     "name": "stderr",
     "output_type": "stream",
     "text": [
      "Clipping input data to the valid range for imshow with RGB data ([0..1] for floats or [0..255] for integers).\n"
     ]
    },
    {
     "data": {
      "application/vnd.jupyter.widget-view+json": {
       "model_id": "cd35093019e7414ebc3ef919604b354b",
       "version_major": 2,
       "version_minor": 0
      },
      "text/plain": [
       "  0%|          | 0/1000 [00:00<?, ?it/s]"
      ]
     },
     "metadata": {},
     "output_type": "display_data"
    },
    {
     "name": "stderr",
     "output_type": "stream",
     "text": [
      "Clipping input data to the valid range for imshow with RGB data ([0..1] for floats or [0..255] for integers).\n"
     ]
    },
    {
     "data": {
      "application/vnd.jupyter.widget-view+json": {
       "model_id": "863cbbbbd6954bc8b1ef161321a6ac91",
       "version_major": 2,
       "version_minor": 0
      },
      "text/plain": [
       "  0%|          | 0/1000 [00:00<?, ?it/s]"
      ]
     },
     "metadata": {},
     "output_type": "display_data"
    },
    {
     "name": "stderr",
     "output_type": "stream",
     "text": [
      "Clipping input data to the valid range for imshow with RGB data ([0..1] for floats or [0..255] for integers).\n"
     ]
    },
    {
     "data": {
      "application/vnd.jupyter.widget-view+json": {
       "model_id": "c3f5e83f9a1c413891431aa1f6a3892f",
       "version_major": 2,
       "version_minor": 0
      },
      "text/plain": [
       "  0%|          | 0/1000 [00:00<?, ?it/s]"
      ]
     },
     "metadata": {},
     "output_type": "display_data"
    },
    {
     "name": "stderr",
     "output_type": "stream",
     "text": [
      "Clipping input data to the valid range for imshow with RGB data ([0..1] for floats or [0..255] for integers).\n"
     ]
    },
    {
     "data": {
      "application/vnd.jupyter.widget-view+json": {
       "model_id": "f0301ee42625439c83f5ec03d5b7469f",
       "version_major": 2,
       "version_minor": 0
      },
      "text/plain": [
       "  0%|          | 0/1000 [00:00<?, ?it/s]"
      ]
     },
     "metadata": {},
     "output_type": "display_data"
    },
    {
     "name": "stderr",
     "output_type": "stream",
     "text": [
      "Clipping input data to the valid range for imshow with RGB data ([0..1] for floats or [0..255] for integers).\n"
     ]
    },
    {
     "data": {
      "application/vnd.jupyter.widget-view+json": {
       "model_id": "72297710c9c64f0daa24a8cd6a69abab",
       "version_major": 2,
       "version_minor": 0
      },
      "text/plain": [
       "  0%|          | 0/1000 [00:00<?, ?it/s]"
      ]
     },
     "metadata": {},
     "output_type": "display_data"
    },
    {
     "name": "stderr",
     "output_type": "stream",
     "text": [
      "Clipping input data to the valid range for imshow with RGB data ([0..1] for floats or [0..255] for integers).\n"
     ]
    },
    {
     "data": {
      "application/vnd.jupyter.widget-view+json": {
       "model_id": "40daf1e879314acd973e4d5217e3b0d2",
       "version_major": 2,
       "version_minor": 0
      },
      "text/plain": [
       "  0%|          | 0/1000 [00:00<?, ?it/s]"
      ]
     },
     "metadata": {},
     "output_type": "display_data"
    },
    {
     "name": "stderr",
     "output_type": "stream",
     "text": [
      "Clipping input data to the valid range for imshow with RGB data ([0..1] for floats or [0..255] for integers).\n"
     ]
    },
    {
     "data": {
      "application/vnd.jupyter.widget-view+json": {
       "model_id": "8cace218154d4ea08ad42c1c4aed05de",
       "version_major": 2,
       "version_minor": 0
      },
      "text/plain": [
       "  0%|          | 0/1000 [00:00<?, ?it/s]"
      ]
     },
     "metadata": {},
     "output_type": "display_data"
    },
    {
     "name": "stderr",
     "output_type": "stream",
     "text": [
      "Clipping input data to the valid range for imshow with RGB data ([0..1] for floats or [0..255] for integers).\n"
     ]
    },
    {
     "data": {
      "application/vnd.jupyter.widget-view+json": {
       "model_id": "38fac19920ea42f0afe2d58f1a54b9bc",
       "version_major": 2,
       "version_minor": 0
      },
      "text/plain": [
       "  0%|          | 0/1000 [00:00<?, ?it/s]"
      ]
     },
     "metadata": {},
     "output_type": "display_data"
    },
    {
     "name": "stderr",
     "output_type": "stream",
     "text": [
      "Clipping input data to the valid range for imshow with RGB data ([0..1] for floats or [0..255] for integers).\n"
     ]
    },
    {
     "data": {
      "application/vnd.jupyter.widget-view+json": {
       "model_id": "d0dc24cd38bc4f378cd70cf1548cb531",
       "version_major": 2,
       "version_minor": 0
      },
      "text/plain": [
       "  0%|          | 0/1000 [00:00<?, ?it/s]"
      ]
     },
     "metadata": {},
     "output_type": "display_data"
    },
    {
     "name": "stderr",
     "output_type": "stream",
     "text": [
      "Clipping input data to the valid range for imshow with RGB data ([0..1] for floats or [0..255] for integers).\n"
     ]
    },
    {
     "data": {
      "application/vnd.jupyter.widget-view+json": {
       "model_id": "18c1b41d6df341f1912ec57a276d11b5",
       "version_major": 2,
       "version_minor": 0
      },
      "text/plain": [
       "  0%|          | 0/1000 [00:00<?, ?it/s]"
      ]
     },
     "metadata": {},
     "output_type": "display_data"
    },
    {
     "name": "stderr",
     "output_type": "stream",
     "text": [
      "Clipping input data to the valid range for imshow with RGB data ([0..1] for floats or [0..255] for integers).\n"
     ]
    },
    {
     "data": {
      "application/vnd.jupyter.widget-view+json": {
       "model_id": "45908478cd4b430ebc72408313267a57",
       "version_major": 2,
       "version_minor": 0
      },
      "text/plain": [
       "  0%|          | 0/1000 [00:00<?, ?it/s]"
      ]
     },
     "metadata": {},
     "output_type": "display_data"
    },
    {
     "name": "stderr",
     "output_type": "stream",
     "text": [
      "Clipping input data to the valid range for imshow with RGB data ([0..1] for floats or [0..255] for integers).\n"
     ]
    },
    {
     "data": {
      "application/vnd.jupyter.widget-view+json": {
       "model_id": "7ee6725a0d4b4aca92aabfbcdd75df2b",
       "version_major": 2,
       "version_minor": 0
      },
      "text/plain": [
       "  0%|          | 0/1000 [00:00<?, ?it/s]"
      ]
     },
     "metadata": {},
     "output_type": "display_data"
    },
    {
     "name": "stderr",
     "output_type": "stream",
     "text": [
      "Clipping input data to the valid range for imshow with RGB data ([0..1] for floats or [0..255] for integers).\n"
     ]
    },
    {
     "data": {
      "application/vnd.jupyter.widget-view+json": {
       "model_id": "39d3ca0b92b24383b55d7c4ff499d4ce",
       "version_major": 2,
       "version_minor": 0
      },
      "text/plain": [
       "  0%|          | 0/1000 [00:00<?, ?it/s]"
      ]
     },
     "metadata": {},
     "output_type": "display_data"
    },
    {
     "name": "stderr",
     "output_type": "stream",
     "text": [
      "Clipping input data to the valid range for imshow with RGB data ([0..1] for floats or [0..255] for integers).\n"
     ]
    },
    {
     "data": {
      "application/vnd.jupyter.widget-view+json": {
       "model_id": "193da1834d084209afa3b521f545b947",
       "version_major": 2,
       "version_minor": 0
      },
      "text/plain": [
       "  0%|          | 0/1000 [00:00<?, ?it/s]"
      ]
     },
     "metadata": {},
     "output_type": "display_data"
    },
    {
     "name": "stderr",
     "output_type": "stream",
     "text": [
      "Clipping input data to the valid range for imshow with RGB data ([0..1] for floats or [0..255] for integers).\n"
     ]
    },
    {
     "data": {
      "application/vnd.jupyter.widget-view+json": {
       "model_id": "238c3fd274f148e1a1fc4ea672cf92e3",
       "version_major": 2,
       "version_minor": 0
      },
      "text/plain": [
       "  0%|          | 0/1000 [00:00<?, ?it/s]"
      ]
     },
     "metadata": {},
     "output_type": "display_data"
    },
    {
     "name": "stderr",
     "output_type": "stream",
     "text": [
      "Clipping input data to the valid range for imshow with RGB data ([0..1] for floats or [0..255] for integers).\n"
     ]
    },
    {
     "data": {
      "application/vnd.jupyter.widget-view+json": {
       "model_id": "0c89d72fe5284da89797a306f1c4d1cf",
       "version_major": 2,
       "version_minor": 0
      },
      "text/plain": [
       "  0%|          | 0/1000 [00:00<?, ?it/s]"
      ]
     },
     "metadata": {},
     "output_type": "display_data"
    },
    {
     "name": "stderr",
     "output_type": "stream",
     "text": [
      "Clipping input data to the valid range for imshow with RGB data ([0..1] for floats or [0..255] for integers).\n"
     ]
    },
    {
     "data": {
      "application/vnd.jupyter.widget-view+json": {
       "model_id": "70b8c49f990e48d9a393352466c594d8",
       "version_major": 2,
       "version_minor": 0
      },
      "text/plain": [
       "  0%|          | 0/1000 [00:00<?, ?it/s]"
      ]
     },
     "metadata": {},
     "output_type": "display_data"
    },
    {
     "name": "stderr",
     "output_type": "stream",
     "text": [
      "Clipping input data to the valid range for imshow with RGB data ([0..1] for floats or [0..255] for integers).\n"
     ]
    },
    {
     "data": {
      "application/vnd.jupyter.widget-view+json": {
       "model_id": "f2d944767de24cab87a6d06c181bb493",
       "version_major": 2,
       "version_minor": 0
      },
      "text/plain": [
       "  0%|          | 0/1000 [00:00<?, ?it/s]"
      ]
     },
     "metadata": {},
     "output_type": "display_data"
    },
    {
     "name": "stderr",
     "output_type": "stream",
     "text": [
      "Clipping input data to the valid range for imshow with RGB data ([0..1] for floats or [0..255] for integers).\n"
     ]
    },
    {
     "data": {
      "application/vnd.jupyter.widget-view+json": {
       "model_id": "dce6fc88aaff4b3db64281c9ab9394f5",
       "version_major": 2,
       "version_minor": 0
      },
      "text/plain": [
       "  0%|          | 0/1000 [00:00<?, ?it/s]"
      ]
     },
     "metadata": {},
     "output_type": "display_data"
    },
    {
     "name": "stderr",
     "output_type": "stream",
     "text": [
      "Clipping input data to the valid range for imshow with RGB data ([0..1] for floats or [0..255] for integers).\n"
     ]
    },
    {
     "data": {
      "application/vnd.jupyter.widget-view+json": {
       "model_id": "4169f802f4b444efae3b7abd9c124df3",
       "version_major": 2,
       "version_minor": 0
      },
      "text/plain": [
       "  0%|          | 0/1000 [00:00<?, ?it/s]"
      ]
     },
     "metadata": {},
     "output_type": "display_data"
    },
    {
     "name": "stderr",
     "output_type": "stream",
     "text": [
      "Clipping input data to the valid range for imshow with RGB data ([0..1] for floats or [0..255] for integers).\n"
     ]
    },
    {
     "data": {
      "application/vnd.jupyter.widget-view+json": {
       "model_id": "8affc9531ce24395af82a99225bbf9ef",
       "version_major": 2,
       "version_minor": 0
      },
      "text/plain": [
       "  0%|          | 0/1000 [00:00<?, ?it/s]"
      ]
     },
     "metadata": {},
     "output_type": "display_data"
    },
    {
     "name": "stderr",
     "output_type": "stream",
     "text": [
      "Clipping input data to the valid range for imshow with RGB data ([0..1] for floats or [0..255] for integers).\n"
     ]
    },
    {
     "data": {
      "application/vnd.jupyter.widget-view+json": {
       "model_id": "24bc04b88f484860981508adc66fd701",
       "version_major": 2,
       "version_minor": 0
      },
      "text/plain": [
       "  0%|          | 0/1000 [00:00<?, ?it/s]"
      ]
     },
     "metadata": {},
     "output_type": "display_data"
    },
    {
     "name": "stderr",
     "output_type": "stream",
     "text": [
      "Clipping input data to the valid range for imshow with RGB data ([0..1] for floats or [0..255] for integers).\n"
     ]
    },
    {
     "data": {
      "application/vnd.jupyter.widget-view+json": {
       "model_id": "7434a5d1ab414c4bb6a0b6dc650fb8d1",
       "version_major": 2,
       "version_minor": 0
      },
      "text/plain": [
       "  0%|          | 0/1000 [00:00<?, ?it/s]"
      ]
     },
     "metadata": {},
     "output_type": "display_data"
    },
    {
     "name": "stderr",
     "output_type": "stream",
     "text": [
      "Clipping input data to the valid range for imshow with RGB data ([0..1] for floats or [0..255] for integers).\n"
     ]
    },
    {
     "data": {
      "application/vnd.jupyter.widget-view+json": {
       "model_id": "6353484c7438449bb9b17088d4e96260",
       "version_major": 2,
       "version_minor": 0
      },
      "text/plain": [
       "  0%|          | 0/1000 [00:00<?, ?it/s]"
      ]
     },
     "metadata": {},
     "output_type": "display_data"
    },
    {
     "name": "stderr",
     "output_type": "stream",
     "text": [
      "Clipping input data to the valid range for imshow with RGB data ([0..1] for floats or [0..255] for integers).\n"
     ]
    },
    {
     "data": {
      "application/vnd.jupyter.widget-view+json": {
       "model_id": "745bd269fbeb4222a53d9ae882af9dec",
       "version_major": 2,
       "version_minor": 0
      },
      "text/plain": [
       "  0%|          | 0/1000 [00:00<?, ?it/s]"
      ]
     },
     "metadata": {},
     "output_type": "display_data"
    },
    {
     "name": "stderr",
     "output_type": "stream",
     "text": [
      "Clipping input data to the valid range for imshow with RGB data ([0..1] for floats or [0..255] for integers).\n"
     ]
    },
    {
     "data": {
      "application/vnd.jupyter.widget-view+json": {
       "model_id": "f091a4ea650d45eab8e44dded7a49463",
       "version_major": 2,
       "version_minor": 0
      },
      "text/plain": [
       "  0%|          | 0/1000 [00:00<?, ?it/s]"
      ]
     },
     "metadata": {},
     "output_type": "display_data"
    },
    {
     "name": "stderr",
     "output_type": "stream",
     "text": [
      "Clipping input data to the valid range for imshow with RGB data ([0..1] for floats or [0..255] for integers).\n"
     ]
    },
    {
     "data": {
      "application/vnd.jupyter.widget-view+json": {
       "model_id": "adec8254ba084eca94fe55534a2ba275",
       "version_major": 2,
       "version_minor": 0
      },
      "text/plain": [
       "  0%|          | 0/1000 [00:00<?, ?it/s]"
      ]
     },
     "metadata": {},
     "output_type": "display_data"
    },
    {
     "name": "stderr",
     "output_type": "stream",
     "text": [
      "Clipping input data to the valid range for imshow with RGB data ([0..1] for floats or [0..255] for integers).\n"
     ]
    },
    {
     "data": {
      "application/vnd.jupyter.widget-view+json": {
       "model_id": "ae1604b1a24b4167bfe542674ef1a14d",
       "version_major": 2,
       "version_minor": 0
      },
      "text/plain": [
       "  0%|          | 0/1000 [00:00<?, ?it/s]"
      ]
     },
     "metadata": {},
     "output_type": "display_data"
    },
    {
     "name": "stderr",
     "output_type": "stream",
     "text": [
      "Clipping input data to the valid range for imshow with RGB data ([0..1] for floats or [0..255] for integers).\n"
     ]
    },
    {
     "data": {
      "application/vnd.jupyter.widget-view+json": {
       "model_id": "0f1609f6da9946749022961b328b7bb9",
       "version_major": 2,
       "version_minor": 0
      },
      "text/plain": [
       "  0%|          | 0/1000 [00:00<?, ?it/s]"
      ]
     },
     "metadata": {},
     "output_type": "display_data"
    },
    {
     "name": "stderr",
     "output_type": "stream",
     "text": [
      "Clipping input data to the valid range for imshow with RGB data ([0..1] for floats or [0..255] for integers).\n"
     ]
    },
    {
     "data": {
      "application/vnd.jupyter.widget-view+json": {
       "model_id": "aefedceb61a3410ba62fa86ab584ba8b",
       "version_major": 2,
       "version_minor": 0
      },
      "text/plain": [
       "  0%|          | 0/1000 [00:00<?, ?it/s]"
      ]
     },
     "metadata": {},
     "output_type": "display_data"
    },
    {
     "name": "stderr",
     "output_type": "stream",
     "text": [
      "Clipping input data to the valid range for imshow with RGB data ([0..1] for floats or [0..255] for integers).\n"
     ]
    },
    {
     "data": {
      "application/vnd.jupyter.widget-view+json": {
       "model_id": "0ce3e5e943464b9ca438cc3bebc0cf2d",
       "version_major": 2,
       "version_minor": 0
      },
      "text/plain": [
       "  0%|          | 0/1000 [00:00<?, ?it/s]"
      ]
     },
     "metadata": {},
     "output_type": "display_data"
    },
    {
     "name": "stderr",
     "output_type": "stream",
     "text": [
      "Clipping input data to the valid range for imshow with RGB data ([0..1] for floats or [0..255] for integers).\n"
     ]
    },
    {
     "data": {
      "application/vnd.jupyter.widget-view+json": {
       "model_id": "9c53465f3a5b411f8722ae4a81c6b04b",
       "version_major": 2,
       "version_minor": 0
      },
      "text/plain": [
       "  0%|          | 0/1000 [00:00<?, ?it/s]"
      ]
     },
     "metadata": {},
     "output_type": "display_data"
    },
    {
     "name": "stderr",
     "output_type": "stream",
     "text": [
      "Clipping input data to the valid range for imshow with RGB data ([0..1] for floats or [0..255] for integers).\n"
     ]
    },
    {
     "data": {
      "application/vnd.jupyter.widget-view+json": {
       "model_id": "aaf18213b6e64a7baf7504411229cad0",
       "version_major": 2,
       "version_minor": 0
      },
      "text/plain": [
       "  0%|          | 0/1000 [00:00<?, ?it/s]"
      ]
     },
     "metadata": {},
     "output_type": "display_data"
    },
    {
     "name": "stderr",
     "output_type": "stream",
     "text": [
      "Clipping input data to the valid range for imshow with RGB data ([0..1] for floats or [0..255] for integers).\n"
     ]
    },
    {
     "data": {
      "application/vnd.jupyter.widget-view+json": {
       "model_id": "0c3a03269b9f41a6874c18824729cda2",
       "version_major": 2,
       "version_minor": 0
      },
      "text/plain": [
       "  0%|          | 0/1000 [00:00<?, ?it/s]"
      ]
     },
     "metadata": {},
     "output_type": "display_data"
    },
    {
     "name": "stderr",
     "output_type": "stream",
     "text": [
      "Clipping input data to the valid range for imshow with RGB data ([0..1] for floats or [0..255] for integers).\n"
     ]
    },
    {
     "data": {
      "application/vnd.jupyter.widget-view+json": {
       "model_id": "a0863e0db97a4f0f98363cc11f365b6f",
       "version_major": 2,
       "version_minor": 0
      },
      "text/plain": [
       "  0%|          | 0/1000 [00:00<?, ?it/s]"
      ]
     },
     "metadata": {},
     "output_type": "display_data"
    },
    {
     "name": "stderr",
     "output_type": "stream",
     "text": [
      "Clipping input data to the valid range for imshow with RGB data ([0..1] for floats or [0..255] for integers).\n"
     ]
    },
    {
     "data": {
      "application/vnd.jupyter.widget-view+json": {
       "model_id": "bce222a27a57426f9e2fa850f6c3382a",
       "version_major": 2,
       "version_minor": 0
      },
      "text/plain": [
       "  0%|          | 0/1000 [00:00<?, ?it/s]"
      ]
     },
     "metadata": {},
     "output_type": "display_data"
    },
    {
     "name": "stderr",
     "output_type": "stream",
     "text": [
      "Clipping input data to the valid range for imshow with RGB data ([0..1] for floats or [0..255] for integers).\n"
     ]
    },
    {
     "data": {
      "application/vnd.jupyter.widget-view+json": {
       "model_id": "2a19af0f3a9948b6a8984a2fb1a13179",
       "version_major": 2,
       "version_minor": 0
      },
      "text/plain": [
       "  0%|          | 0/1000 [00:00<?, ?it/s]"
      ]
     },
     "metadata": {},
     "output_type": "display_data"
    },
    {
     "name": "stderr",
     "output_type": "stream",
     "text": [
      "Clipping input data to the valid range for imshow with RGB data ([0..1] for floats or [0..255] for integers).\n"
     ]
    },
    {
     "data": {
      "application/vnd.jupyter.widget-view+json": {
       "model_id": "50d1dd37ef2c46569555903d3d5a06e3",
       "version_major": 2,
       "version_minor": 0
      },
      "text/plain": [
       "  0%|          | 0/1000 [00:00<?, ?it/s]"
      ]
     },
     "metadata": {},
     "output_type": "display_data"
    },
    {
     "name": "stderr",
     "output_type": "stream",
     "text": [
      "Clipping input data to the valid range for imshow with RGB data ([0..1] for floats or [0..255] for integers).\n"
     ]
    },
    {
     "data": {
      "application/vnd.jupyter.widget-view+json": {
       "model_id": "cabfb23b5d7d432198b63341aae541f6",
       "version_major": 2,
       "version_minor": 0
      },
      "text/plain": [
       "  0%|          | 0/1000 [00:00<?, ?it/s]"
      ]
     },
     "metadata": {},
     "output_type": "display_data"
    },
    {
     "name": "stderr",
     "output_type": "stream",
     "text": [
      "Clipping input data to the valid range for imshow with RGB data ([0..1] for floats or [0..255] for integers).\n"
     ]
    },
    {
     "data": {
      "application/vnd.jupyter.widget-view+json": {
       "model_id": "2c643646c2a0425d8fa16f900d19b3f6",
       "version_major": 2,
       "version_minor": 0
      },
      "text/plain": [
       "  0%|          | 0/1000 [00:00<?, ?it/s]"
      ]
     },
     "metadata": {},
     "output_type": "display_data"
    },
    {
     "name": "stderr",
     "output_type": "stream",
     "text": [
      "Clipping input data to the valid range for imshow with RGB data ([0..1] for floats or [0..255] for integers).\n"
     ]
    },
    {
     "data": {
      "application/vnd.jupyter.widget-view+json": {
       "model_id": "3ced1f5057944b20ad90f9adb8a1aa7b",
       "version_major": 2,
       "version_minor": 0
      },
      "text/plain": [
       "  0%|          | 0/1000 [00:00<?, ?it/s]"
      ]
     },
     "metadata": {},
     "output_type": "display_data"
    },
    {
     "name": "stderr",
     "output_type": "stream",
     "text": [
      "Clipping input data to the valid range for imshow with RGB data ([0..1] for floats or [0..255] for integers).\n"
     ]
    },
    {
     "data": {
      "application/vnd.jupyter.widget-view+json": {
       "model_id": "117a353c8ea5412ebbe427fba2e1aae1",
       "version_major": 2,
       "version_minor": 0
      },
      "text/plain": [
       "  0%|          | 0/1000 [00:00<?, ?it/s]"
      ]
     },
     "metadata": {},
     "output_type": "display_data"
    },
    {
     "name": "stderr",
     "output_type": "stream",
     "text": [
      "Clipping input data to the valid range for imshow with RGB data ([0..1] for floats or [0..255] for integers).\n"
     ]
    },
    {
     "data": {
      "application/vnd.jupyter.widget-view+json": {
       "model_id": "77ff6353a5e84fb58461716ac072932c",
       "version_major": 2,
       "version_minor": 0
      },
      "text/plain": [
       "  0%|          | 0/1000 [00:00<?, ?it/s]"
      ]
     },
     "metadata": {},
     "output_type": "display_data"
    },
    {
     "name": "stderr",
     "output_type": "stream",
     "text": [
      "Clipping input data to the valid range for imshow with RGB data ([0..1] for floats or [0..255] for integers).\n"
     ]
    },
    {
     "data": {
      "application/vnd.jupyter.widget-view+json": {
       "model_id": "f1b265ca412b4b71b308dc5700ce58f7",
       "version_major": 2,
       "version_minor": 0
      },
      "text/plain": [
       "  0%|          | 0/1000 [00:00<?, ?it/s]"
      ]
     },
     "metadata": {},
     "output_type": "display_data"
    },
    {
     "name": "stderr",
     "output_type": "stream",
     "text": [
      "Clipping input data to the valid range for imshow with RGB data ([0..1] for floats or [0..255] for integers).\n"
     ]
    },
    {
     "data": {
      "application/vnd.jupyter.widget-view+json": {
       "model_id": "6fa2e10a23204baea3293d09aa7bdbe1",
       "version_major": 2,
       "version_minor": 0
      },
      "text/plain": [
       "  0%|          | 0/1000 [00:00<?, ?it/s]"
      ]
     },
     "metadata": {},
     "output_type": "display_data"
    },
    {
     "name": "stderr",
     "output_type": "stream",
     "text": [
      "Clipping input data to the valid range for imshow with RGB data ([0..1] for floats or [0..255] for integers).\n"
     ]
    },
    {
     "data": {
      "application/vnd.jupyter.widget-view+json": {
       "model_id": "206363e97fdc4a37b57e940478404fc1",
       "version_major": 2,
       "version_minor": 0
      },
      "text/plain": [
       "  0%|          | 0/1000 [00:00<?, ?it/s]"
      ]
     },
     "metadata": {},
     "output_type": "display_data"
    },
    {
     "name": "stderr",
     "output_type": "stream",
     "text": [
      "Clipping input data to the valid range for imshow with RGB data ([0..1] for floats or [0..255] for integers).\n"
     ]
    },
    {
     "data": {
      "application/vnd.jupyter.widget-view+json": {
       "model_id": "b329a749672f4284b5d408d9e75fa68e",
       "version_major": 2,
       "version_minor": 0
      },
      "text/plain": [
       "  0%|          | 0/1000 [00:00<?, ?it/s]"
      ]
     },
     "metadata": {},
     "output_type": "display_data"
    },
    {
     "name": "stderr",
     "output_type": "stream",
     "text": [
      "Clipping input data to the valid range for imshow with RGB data ([0..1] for floats or [0..255] for integers).\n"
     ]
    },
    {
     "data": {
      "application/vnd.jupyter.widget-view+json": {
       "model_id": "6933d284af09404ca29cdb9faabee7f7",
       "version_major": 2,
       "version_minor": 0
      },
      "text/plain": [
       "  0%|          | 0/1000 [00:00<?, ?it/s]"
      ]
     },
     "metadata": {},
     "output_type": "display_data"
    },
    {
     "name": "stderr",
     "output_type": "stream",
     "text": [
      "Clipping input data to the valid range for imshow with RGB data ([0..1] for floats or [0..255] for integers).\n"
     ]
    },
    {
     "data": {
      "application/vnd.jupyter.widget-view+json": {
       "model_id": "44c55fd7f6024c869ffde327bde86ad6",
       "version_major": 2,
       "version_minor": 0
      },
      "text/plain": [
       "  0%|          | 0/1000 [00:00<?, ?it/s]"
      ]
     },
     "metadata": {},
     "output_type": "display_data"
    },
    {
     "name": "stderr",
     "output_type": "stream",
     "text": [
      "Clipping input data to the valid range for imshow with RGB data ([0..1] for floats or [0..255] for integers).\n"
     ]
    },
    {
     "data": {
      "application/vnd.jupyter.widget-view+json": {
       "model_id": "413402ff7ce34c5da6bb226650e47672",
       "version_major": 2,
       "version_minor": 0
      },
      "text/plain": [
       "  0%|          | 0/1000 [00:00<?, ?it/s]"
      ]
     },
     "metadata": {},
     "output_type": "display_data"
    },
    {
     "name": "stderr",
     "output_type": "stream",
     "text": [
      "Clipping input data to the valid range for imshow with RGB data ([0..1] for floats or [0..255] for integers).\n"
     ]
    },
    {
     "data": {
      "application/vnd.jupyter.widget-view+json": {
       "model_id": "0b5ec58d52164bd3afc3cd6e4fea92c0",
       "version_major": 2,
       "version_minor": 0
      },
      "text/plain": [
       "  0%|          | 0/1000 [00:00<?, ?it/s]"
      ]
     },
     "metadata": {},
     "output_type": "display_data"
    },
    {
     "name": "stderr",
     "output_type": "stream",
     "text": [
      "Clipping input data to the valid range for imshow with RGB data ([0..1] for floats or [0..255] for integers).\n"
     ]
    },
    {
     "data": {
      "application/vnd.jupyter.widget-view+json": {
       "model_id": "5aedcac3b50146f1a3cc60004a9e185f",
       "version_major": 2,
       "version_minor": 0
      },
      "text/plain": [
       "  0%|          | 0/1000 [00:00<?, ?it/s]"
      ]
     },
     "metadata": {},
     "output_type": "display_data"
    },
    {
     "name": "stderr",
     "output_type": "stream",
     "text": [
      "Clipping input data to the valid range for imshow with RGB data ([0..1] for floats or [0..255] for integers).\n"
     ]
    },
    {
     "data": {
      "application/vnd.jupyter.widget-view+json": {
       "model_id": "df6bc4c9928f47e5a882ae8fe8ab6dcb",
       "version_major": 2,
       "version_minor": 0
      },
      "text/plain": [
       "  0%|          | 0/1000 [00:00<?, ?it/s]"
      ]
     },
     "metadata": {},
     "output_type": "display_data"
    },
    {
     "name": "stderr",
     "output_type": "stream",
     "text": [
      "Clipping input data to the valid range for imshow with RGB data ([0..1] for floats or [0..255] for integers).\n"
     ]
    },
    {
     "data": {
      "application/vnd.jupyter.widget-view+json": {
       "model_id": "d96b6f495b784376a6fe49026d155557",
       "version_major": 2,
       "version_minor": 0
      },
      "text/plain": [
       "  0%|          | 0/1000 [00:00<?, ?it/s]"
      ]
     },
     "metadata": {},
     "output_type": "display_data"
    },
    {
     "name": "stderr",
     "output_type": "stream",
     "text": [
      "Clipping input data to the valid range for imshow with RGB data ([0..1] for floats or [0..255] for integers).\n"
     ]
    },
    {
     "data": {
      "application/vnd.jupyter.widget-view+json": {
       "model_id": "faf51889377749c3b41a6fb93cdf12ae",
       "version_major": 2,
       "version_minor": 0
      },
      "text/plain": [
       "  0%|          | 0/1000 [00:00<?, ?it/s]"
      ]
     },
     "metadata": {},
     "output_type": "display_data"
    },
    {
     "name": "stderr",
     "output_type": "stream",
     "text": [
      "Clipping input data to the valid range for imshow with RGB data ([0..1] for floats or [0..255] for integers).\n"
     ]
    },
    {
     "data": {
      "application/vnd.jupyter.widget-view+json": {
       "model_id": "da682f39b7ad47f0920c0ebe25a89a21",
       "version_major": 2,
       "version_minor": 0
      },
      "text/plain": [
       "  0%|          | 0/1000 [00:00<?, ?it/s]"
      ]
     },
     "metadata": {},
     "output_type": "display_data"
    },
    {
     "name": "stderr",
     "output_type": "stream",
     "text": [
      "Clipping input data to the valid range for imshow with RGB data ([0..1] for floats or [0..255] for integers).\n"
     ]
    },
    {
     "data": {
      "application/vnd.jupyter.widget-view+json": {
       "model_id": "21d1a3521a4b4f20af511d9c84996e52",
       "version_major": 2,
       "version_minor": 0
      },
      "text/plain": [
       "  0%|          | 0/1000 [00:00<?, ?it/s]"
      ]
     },
     "metadata": {},
     "output_type": "display_data"
    },
    {
     "name": "stderr",
     "output_type": "stream",
     "text": [
      "Clipping input data to the valid range for imshow with RGB data ([0..1] for floats or [0..255] for integers).\n"
     ]
    },
    {
     "data": {
      "application/vnd.jupyter.widget-view+json": {
       "model_id": "5065efff73ba4edbbbd1236b1d9d5cfc",
       "version_major": 2,
       "version_minor": 0
      },
      "text/plain": [
       "  0%|          | 0/1000 [00:00<?, ?it/s]"
      ]
     },
     "metadata": {},
     "output_type": "display_data"
    },
    {
     "name": "stderr",
     "output_type": "stream",
     "text": [
      "Clipping input data to the valid range for imshow with RGB data ([0..1] for floats or [0..255] for integers).\n"
     ]
    },
    {
     "data": {
      "application/vnd.jupyter.widget-view+json": {
       "model_id": "b458e402946b40babed7d74c9d85b0bd",
       "version_major": 2,
       "version_minor": 0
      },
      "text/plain": [
       "  0%|          | 0/1000 [00:00<?, ?it/s]"
      ]
     },
     "metadata": {},
     "output_type": "display_data"
    },
    {
     "name": "stderr",
     "output_type": "stream",
     "text": [
      "Clipping input data to the valid range for imshow with RGB data ([0..1] for floats or [0..255] for integers).\n"
     ]
    },
    {
     "data": {
      "application/vnd.jupyter.widget-view+json": {
       "model_id": "0f53d641a29d444eb94061bca2202adc",
       "version_major": 2,
       "version_minor": 0
      },
      "text/plain": [
       "  0%|          | 0/1000 [00:00<?, ?it/s]"
      ]
     },
     "metadata": {},
     "output_type": "display_data"
    },
    {
     "name": "stderr",
     "output_type": "stream",
     "text": [
      "Clipping input data to the valid range for imshow with RGB data ([0..1] for floats or [0..255] for integers).\n"
     ]
    },
    {
     "data": {
      "application/vnd.jupyter.widget-view+json": {
       "model_id": "e6b22c7f7b1f4505a097cc60a81b2989",
       "version_major": 2,
       "version_minor": 0
      },
      "text/plain": [
       "  0%|          | 0/1000 [00:00<?, ?it/s]"
      ]
     },
     "metadata": {},
     "output_type": "display_data"
    },
    {
     "name": "stderr",
     "output_type": "stream",
     "text": [
      "Clipping input data to the valid range for imshow with RGB data ([0..1] for floats or [0..255] for integers).\n"
     ]
    },
    {
     "data": {
      "application/vnd.jupyter.widget-view+json": {
       "model_id": "a4177ce29a5c4a45a56eb182c518764f",
       "version_major": 2,
       "version_minor": 0
      },
      "text/plain": [
       "  0%|          | 0/1000 [00:00<?, ?it/s]"
      ]
     },
     "metadata": {},
     "output_type": "display_data"
    },
    {
     "name": "stderr",
     "output_type": "stream",
     "text": [
      "Clipping input data to the valid range for imshow with RGB data ([0..1] for floats or [0..255] for integers).\n"
     ]
    },
    {
     "data": {
      "application/vnd.jupyter.widget-view+json": {
       "model_id": "1fd91968b9e74d6a992694acc3d60049",
       "version_major": 2,
       "version_minor": 0
      },
      "text/plain": [
       "  0%|          | 0/1000 [00:00<?, ?it/s]"
      ]
     },
     "metadata": {},
     "output_type": "display_data"
    },
    {
     "name": "stderr",
     "output_type": "stream",
     "text": [
      "Clipping input data to the valid range for imshow with RGB data ([0..1] for floats or [0..255] for integers).\n"
     ]
    },
    {
     "data": {
      "application/vnd.jupyter.widget-view+json": {
       "model_id": "335c7be4e6154ed688c28a3768dedbbf",
       "version_major": 2,
       "version_minor": 0
      },
      "text/plain": [
       "  0%|          | 0/1000 [00:00<?, ?it/s]"
      ]
     },
     "metadata": {},
     "output_type": "display_data"
    },
    {
     "name": "stderr",
     "output_type": "stream",
     "text": [
      "Clipping input data to the valid range for imshow with RGB data ([0..1] for floats or [0..255] for integers).\n"
     ]
    },
    {
     "data": {
      "application/vnd.jupyter.widget-view+json": {
       "model_id": "bc91f460678b4161b398a6da0519dfd1",
       "version_major": 2,
       "version_minor": 0
      },
      "text/plain": [
       "  0%|          | 0/1000 [00:00<?, ?it/s]"
      ]
     },
     "metadata": {},
     "output_type": "display_data"
    },
    {
     "name": "stderr",
     "output_type": "stream",
     "text": [
      "Clipping input data to the valid range for imshow with RGB data ([0..1] for floats or [0..255] for integers).\n"
     ]
    },
    {
     "data": {
      "application/vnd.jupyter.widget-view+json": {
       "model_id": "66d04748c89e4a6691363434dedb205e",
       "version_major": 2,
       "version_minor": 0
      },
      "text/plain": [
       "  0%|          | 0/1000 [00:00<?, ?it/s]"
      ]
     },
     "metadata": {},
     "output_type": "display_data"
    },
    {
     "name": "stderr",
     "output_type": "stream",
     "text": [
      "Clipping input data to the valid range for imshow with RGB data ([0..1] for floats or [0..255] for integers).\n"
     ]
    },
    {
     "data": {
      "application/vnd.jupyter.widget-view+json": {
       "model_id": "140c4fc3c9bf42b1b9bc554efb85fc5c",
       "version_major": 2,
       "version_minor": 0
      },
      "text/plain": [
       "  0%|          | 0/1000 [00:00<?, ?it/s]"
      ]
     },
     "metadata": {},
     "output_type": "display_data"
    },
    {
     "name": "stderr",
     "output_type": "stream",
     "text": [
      "Clipping input data to the valid range for imshow with RGB data ([0..1] for floats or [0..255] for integers).\n"
     ]
    },
    {
     "data": {
      "application/vnd.jupyter.widget-view+json": {
       "model_id": "6b3dcce014594b718999925fb64633bf",
       "version_major": 2,
       "version_minor": 0
      },
      "text/plain": [
       "  0%|          | 0/1000 [00:00<?, ?it/s]"
      ]
     },
     "metadata": {},
     "output_type": "display_data"
    },
    {
     "name": "stderr",
     "output_type": "stream",
     "text": [
      "Clipping input data to the valid range for imshow with RGB data ([0..1] for floats or [0..255] for integers).\n"
     ]
    },
    {
     "data": {
      "application/vnd.jupyter.widget-view+json": {
       "model_id": "73550404465e404eb5fede8acab923b6",
       "version_major": 2,
       "version_minor": 0
      },
      "text/plain": [
       "  0%|          | 0/1000 [00:00<?, ?it/s]"
      ]
     },
     "metadata": {},
     "output_type": "display_data"
    },
    {
     "name": "stderr",
     "output_type": "stream",
     "text": [
      "Clipping input data to the valid range for imshow with RGB data ([0..1] for floats or [0..255] for integers).\n"
     ]
    },
    {
     "data": {
      "application/vnd.jupyter.widget-view+json": {
       "model_id": "be1178a6cf094cb1a3f766b87b9446c7",
       "version_major": 2,
       "version_minor": 0
      },
      "text/plain": [
       "  0%|          | 0/1000 [00:00<?, ?it/s]"
      ]
     },
     "metadata": {},
     "output_type": "display_data"
    },
    {
     "name": "stderr",
     "output_type": "stream",
     "text": [
      "Clipping input data to the valid range for imshow with RGB data ([0..1] for floats or [0..255] for integers).\n"
     ]
    },
    {
     "data": {
      "application/vnd.jupyter.widget-view+json": {
       "model_id": "b8db62c025da479a82415443e5fc6a49",
       "version_major": 2,
       "version_minor": 0
      },
      "text/plain": [
       "  0%|          | 0/1000 [00:00<?, ?it/s]"
      ]
     },
     "metadata": {},
     "output_type": "display_data"
    },
    {
     "name": "stderr",
     "output_type": "stream",
     "text": [
      "Clipping input data to the valid range for imshow with RGB data ([0..1] for floats or [0..255] for integers).\n"
     ]
    },
    {
     "data": {
      "application/vnd.jupyter.widget-view+json": {
       "model_id": "4708c3391afb4b18afd35b211f83eb36",
       "version_major": 2,
       "version_minor": 0
      },
      "text/plain": [
       "  0%|          | 0/1000 [00:00<?, ?it/s]"
      ]
     },
     "metadata": {},
     "output_type": "display_data"
    },
    {
     "name": "stderr",
     "output_type": "stream",
     "text": [
      "Clipping input data to the valid range for imshow with RGB data ([0..1] for floats or [0..255] for integers).\n"
     ]
    },
    {
     "data": {
      "application/vnd.jupyter.widget-view+json": {
       "model_id": "83e583abbebd44e0975c7f8c2fe7d38c",
       "version_major": 2,
       "version_minor": 0
      },
      "text/plain": [
       "  0%|          | 0/1000 [00:00<?, ?it/s]"
      ]
     },
     "metadata": {},
     "output_type": "display_data"
    },
    {
     "name": "stderr",
     "output_type": "stream",
     "text": [
      "Clipping input data to the valid range for imshow with RGB data ([0..1] for floats or [0..255] for integers).\n"
     ]
    },
    {
     "data": {
      "application/vnd.jupyter.widget-view+json": {
       "model_id": "0a08125376f846d393b014f0fe046ff2",
       "version_major": 2,
       "version_minor": 0
      },
      "text/plain": [
       "  0%|          | 0/1000 [00:00<?, ?it/s]"
      ]
     },
     "metadata": {},
     "output_type": "display_data"
    },
    {
     "name": "stderr",
     "output_type": "stream",
     "text": [
      "Clipping input data to the valid range for imshow with RGB data ([0..1] for floats or [0..255] for integers).\n"
     ]
    },
    {
     "data": {
      "application/vnd.jupyter.widget-view+json": {
       "model_id": "7b1b974060db4d3d886cfb4c09abea5d",
       "version_major": 2,
       "version_minor": 0
      },
      "text/plain": [
       "  0%|          | 0/1000 [00:00<?, ?it/s]"
      ]
     },
     "metadata": {},
     "output_type": "display_data"
    },
    {
     "name": "stderr",
     "output_type": "stream",
     "text": [
      "Clipping input data to the valid range for imshow with RGB data ([0..1] for floats or [0..255] for integers).\n"
     ]
    },
    {
     "data": {
      "application/vnd.jupyter.widget-view+json": {
       "model_id": "936923dc090247cba7a1d12fa4feb2f5",
       "version_major": 2,
       "version_minor": 0
      },
      "text/plain": [
       "  0%|          | 0/1000 [00:00<?, ?it/s]"
      ]
     },
     "metadata": {},
     "output_type": "display_data"
    },
    {
     "name": "stderr",
     "output_type": "stream",
     "text": [
      "Clipping input data to the valid range for imshow with RGB data ([0..1] for floats or [0..255] for integers).\n"
     ]
    },
    {
     "data": {
      "application/vnd.jupyter.widget-view+json": {
       "model_id": "8e335bb1f7cc4c769fbeb28970c1a65f",
       "version_major": 2,
       "version_minor": 0
      },
      "text/plain": [
       "  0%|          | 0/1000 [00:00<?, ?it/s]"
      ]
     },
     "metadata": {},
     "output_type": "display_data"
    },
    {
     "name": "stderr",
     "output_type": "stream",
     "text": [
      "Clipping input data to the valid range for imshow with RGB data ([0..1] for floats or [0..255] for integers).\n"
     ]
    },
    {
     "data": {
      "application/vnd.jupyter.widget-view+json": {
       "model_id": "da3f9f62247244cb8b419f0d6e533253",
       "version_major": 2,
       "version_minor": 0
      },
      "text/plain": [
       "  0%|          | 0/1000 [00:00<?, ?it/s]"
      ]
     },
     "metadata": {},
     "output_type": "display_data"
    },
    {
     "name": "stderr",
     "output_type": "stream",
     "text": [
      "Clipping input data to the valid range for imshow with RGB data ([0..1] for floats or [0..255] for integers).\n"
     ]
    },
    {
     "data": {
      "application/vnd.jupyter.widget-view+json": {
       "model_id": "d2a9dd7783cc4013830dade45d3e3018",
       "version_major": 2,
       "version_minor": 0
      },
      "text/plain": [
       "  0%|          | 0/1000 [00:00<?, ?it/s]"
      ]
     },
     "metadata": {},
     "output_type": "display_data"
    },
    {
     "name": "stderr",
     "output_type": "stream",
     "text": [
      "Clipping input data to the valid range for imshow with RGB data ([0..1] for floats or [0..255] for integers).\n"
     ]
    },
    {
     "data": {
      "application/vnd.jupyter.widget-view+json": {
       "model_id": "5bcf5ee1e1ae4e219d6063106f18be14",
       "version_major": 2,
       "version_minor": 0
      },
      "text/plain": [
       "  0%|          | 0/1000 [00:00<?, ?it/s]"
      ]
     },
     "metadata": {},
     "output_type": "display_data"
    },
    {
     "name": "stderr",
     "output_type": "stream",
     "text": [
      "Clipping input data to the valid range for imshow with RGB data ([0..1] for floats or [0..255] for integers).\n"
     ]
    },
    {
     "data": {
      "application/vnd.jupyter.widget-view+json": {
       "model_id": "91468a865164454094fa9fa2511814a8",
       "version_major": 2,
       "version_minor": 0
      },
      "text/plain": [
       "  0%|          | 0/1000 [00:00<?, ?it/s]"
      ]
     },
     "metadata": {},
     "output_type": "display_data"
    },
    {
     "name": "stderr",
     "output_type": "stream",
     "text": [
      "Clipping input data to the valid range for imshow with RGB data ([0..1] for floats or [0..255] for integers).\n"
     ]
    },
    {
     "data": {
      "application/vnd.jupyter.widget-view+json": {
       "model_id": "9123b3bb28c943228b504503036cc926",
       "version_major": 2,
       "version_minor": 0
      },
      "text/plain": [
       "  0%|          | 0/1000 [00:00<?, ?it/s]"
      ]
     },
     "metadata": {},
     "output_type": "display_data"
    },
    {
     "name": "stderr",
     "output_type": "stream",
     "text": [
      "Clipping input data to the valid range for imshow with RGB data ([0..1] for floats or [0..255] for integers).\n"
     ]
    },
    {
     "data": {
      "application/vnd.jupyter.widget-view+json": {
       "model_id": "f959b62aafc9447d9ca3a4ff00c530ba",
       "version_major": 2,
       "version_minor": 0
      },
      "text/plain": [
       "  0%|          | 0/1000 [00:00<?, ?it/s]"
      ]
     },
     "metadata": {},
     "output_type": "display_data"
    },
    {
     "name": "stderr",
     "output_type": "stream",
     "text": [
      "Clipping input data to the valid range for imshow with RGB data ([0..1] for floats or [0..255] for integers).\n"
     ]
    },
    {
     "data": {
      "application/vnd.jupyter.widget-view+json": {
       "model_id": "9764f352c0af4d4690b56c89ae80d0de",
       "version_major": 2,
       "version_minor": 0
      },
      "text/plain": [
       "  0%|          | 0/1000 [00:00<?, ?it/s]"
      ]
     },
     "metadata": {},
     "output_type": "display_data"
    },
    {
     "name": "stderr",
     "output_type": "stream",
     "text": [
      "Clipping input data to the valid range for imshow with RGB data ([0..1] for floats or [0..255] for integers).\n"
     ]
    },
    {
     "data": {
      "application/vnd.jupyter.widget-view+json": {
       "model_id": "cec2119f2803453e8538c2fd1ae9704a",
       "version_major": 2,
       "version_minor": 0
      },
      "text/plain": [
       "  0%|          | 0/1000 [00:00<?, ?it/s]"
      ]
     },
     "metadata": {},
     "output_type": "display_data"
    },
    {
     "name": "stderr",
     "output_type": "stream",
     "text": [
      "Clipping input data to the valid range for imshow with RGB data ([0..1] for floats or [0..255] for integers).\n"
     ]
    },
    {
     "data": {
      "application/vnd.jupyter.widget-view+json": {
       "model_id": "a01b8ebd356445eb96a694bc61ffb6c6",
       "version_major": 2,
       "version_minor": 0
      },
      "text/plain": [
       "  0%|          | 0/1000 [00:00<?, ?it/s]"
      ]
     },
     "metadata": {},
     "output_type": "display_data"
    },
    {
     "name": "stderr",
     "output_type": "stream",
     "text": [
      "Clipping input data to the valid range for imshow with RGB data ([0..1] for floats or [0..255] for integers).\n"
     ]
    },
    {
     "data": {
      "application/vnd.jupyter.widget-view+json": {
       "model_id": "eccf37e8068c4e4c8f46e9809b056d21",
       "version_major": 2,
       "version_minor": 0
      },
      "text/plain": [
       "  0%|          | 0/1000 [00:00<?, ?it/s]"
      ]
     },
     "metadata": {},
     "output_type": "display_data"
    },
    {
     "name": "stderr",
     "output_type": "stream",
     "text": [
      "Clipping input data to the valid range for imshow with RGB data ([0..1] for floats or [0..255] for integers).\n"
     ]
    },
    {
     "data": {
      "application/vnd.jupyter.widget-view+json": {
       "model_id": "788b63e6564a444fab1ac2a3dfb7312e",
       "version_major": 2,
       "version_minor": 0
      },
      "text/plain": [
       "  0%|          | 0/1000 [00:00<?, ?it/s]"
      ]
     },
     "metadata": {},
     "output_type": "display_data"
    },
    {
     "name": "stderr",
     "output_type": "stream",
     "text": [
      "Clipping input data to the valid range for imshow with RGB data ([0..1] for floats or [0..255] for integers).\n"
     ]
    },
    {
     "data": {
      "application/vnd.jupyter.widget-view+json": {
       "model_id": "670f0cc35ce4433cbb5dd32fd562ca84",
       "version_major": 2,
       "version_minor": 0
      },
      "text/plain": [
       "  0%|          | 0/1000 [00:00<?, ?it/s]"
      ]
     },
     "metadata": {},
     "output_type": "display_data"
    },
    {
     "name": "stderr",
     "output_type": "stream",
     "text": [
      "Clipping input data to the valid range for imshow with RGB data ([0..1] for floats or [0..255] for integers).\n"
     ]
    },
    {
     "data": {
      "application/vnd.jupyter.widget-view+json": {
       "model_id": "e5cbba0fd93748cd9a9924b88dcb8ae1",
       "version_major": 2,
       "version_minor": 0
      },
      "text/plain": [
       "  0%|          | 0/1000 [00:00<?, ?it/s]"
      ]
     },
     "metadata": {},
     "output_type": "display_data"
    },
    {
     "name": "stderr",
     "output_type": "stream",
     "text": [
      "Clipping input data to the valid range for imshow with RGB data ([0..1] for floats or [0..255] for integers).\n"
     ]
    },
    {
     "data": {
      "application/vnd.jupyter.widget-view+json": {
       "model_id": "21a5da2e0d5840f1a3f20ab203063f09",
       "version_major": 2,
       "version_minor": 0
      },
      "text/plain": [
       "  0%|          | 0/1000 [00:00<?, ?it/s]"
      ]
     },
     "metadata": {},
     "output_type": "display_data"
    },
    {
     "name": "stderr",
     "output_type": "stream",
     "text": [
      "Clipping input data to the valid range for imshow with RGB data ([0..1] for floats or [0..255] for integers).\n"
     ]
    },
    {
     "data": {
      "application/vnd.jupyter.widget-view+json": {
       "model_id": "9d70631adbdf4c6aafc8387b9b1ef6e6",
       "version_major": 2,
       "version_minor": 0
      },
      "text/plain": [
       "  0%|          | 0/1000 [00:00<?, ?it/s]"
      ]
     },
     "metadata": {},
     "output_type": "display_data"
    },
    {
     "name": "stderr",
     "output_type": "stream",
     "text": [
      "Clipping input data to the valid range for imshow with RGB data ([0..1] for floats or [0..255] for integers).\n"
     ]
    },
    {
     "data": {
      "application/vnd.jupyter.widget-view+json": {
       "model_id": "8cccda0cfe9445cfb01cb078470100b4",
       "version_major": 2,
       "version_minor": 0
      },
      "text/plain": [
       "  0%|          | 0/1000 [00:00<?, ?it/s]"
      ]
     },
     "metadata": {},
     "output_type": "display_data"
    },
    {
     "name": "stderr",
     "output_type": "stream",
     "text": [
      "Clipping input data to the valid range for imshow with RGB data ([0..1] for floats or [0..255] for integers).\n"
     ]
    },
    {
     "data": {
      "application/vnd.jupyter.widget-view+json": {
       "model_id": "5436a1fd4570436c889fc19dbec91b1a",
       "version_major": 2,
       "version_minor": 0
      },
      "text/plain": [
       "  0%|          | 0/1000 [00:00<?, ?it/s]"
      ]
     },
     "metadata": {},
     "output_type": "display_data"
    },
    {
     "name": "stderr",
     "output_type": "stream",
     "text": [
      "Clipping input data to the valid range for imshow with RGB data ([0..1] for floats or [0..255] for integers).\n"
     ]
    },
    {
     "data": {
      "application/vnd.jupyter.widget-view+json": {
       "model_id": "76206131ceb74620a9988cce96536ab1",
       "version_major": 2,
       "version_minor": 0
      },
      "text/plain": [
       "  0%|          | 0/1000 [00:00<?, ?it/s]"
      ]
     },
     "metadata": {},
     "output_type": "display_data"
    },
    {
     "name": "stderr",
     "output_type": "stream",
     "text": [
      "Clipping input data to the valid range for imshow with RGB data ([0..1] for floats or [0..255] for integers).\n"
     ]
    },
    {
     "data": {
      "application/vnd.jupyter.widget-view+json": {
       "model_id": "bd29d5148a0b4aa6a7e0f604fdf08f6a",
       "version_major": 2,
       "version_minor": 0
      },
      "text/plain": [
       "  0%|          | 0/1000 [00:00<?, ?it/s]"
      ]
     },
     "metadata": {},
     "output_type": "display_data"
    },
    {
     "name": "stderr",
     "output_type": "stream",
     "text": [
      "Clipping input data to the valid range for imshow with RGB data ([0..1] for floats or [0..255] for integers).\n"
     ]
    },
    {
     "data": {
      "application/vnd.jupyter.widget-view+json": {
       "model_id": "2dabf0e254744185b96b1d5742837474",
       "version_major": 2,
       "version_minor": 0
      },
      "text/plain": [
       "  0%|          | 0/1000 [00:00<?, ?it/s]"
      ]
     },
     "metadata": {},
     "output_type": "display_data"
    },
    {
     "name": "stderr",
     "output_type": "stream",
     "text": [
      "Clipping input data to the valid range for imshow with RGB data ([0..1] for floats or [0..255] for integers).\n"
     ]
    },
    {
     "data": {
      "application/vnd.jupyter.widget-view+json": {
       "model_id": "7d8f15974eeb46f6948fc222bb1e7706",
       "version_major": 2,
       "version_minor": 0
      },
      "text/plain": [
       "  0%|          | 0/1000 [00:00<?, ?it/s]"
      ]
     },
     "metadata": {},
     "output_type": "display_data"
    },
    {
     "name": "stderr",
     "output_type": "stream",
     "text": [
      "Clipping input data to the valid range for imshow with RGB data ([0..1] for floats or [0..255] for integers).\n"
     ]
    },
    {
     "data": {
      "application/vnd.jupyter.widget-view+json": {
       "model_id": "2eae372a17be46008e65ebe0e4aaa576",
       "version_major": 2,
       "version_minor": 0
      },
      "text/plain": [
       "  0%|          | 0/1000 [00:00<?, ?it/s]"
      ]
     },
     "metadata": {},
     "output_type": "display_data"
    },
    {
     "name": "stderr",
     "output_type": "stream",
     "text": [
      "Clipping input data to the valid range for imshow with RGB data ([0..1] for floats or [0..255] for integers).\n"
     ]
    },
    {
     "data": {
      "application/vnd.jupyter.widget-view+json": {
       "model_id": "927e3acdea844c9b9ae3a2cc1fbc6d7f",
       "version_major": 2,
       "version_minor": 0
      },
      "text/plain": [
       "  0%|          | 0/1000 [00:00<?, ?it/s]"
      ]
     },
     "metadata": {},
     "output_type": "display_data"
    },
    {
     "name": "stderr",
     "output_type": "stream",
     "text": [
      "Clipping input data to the valid range for imshow with RGB data ([0..1] for floats or [0..255] for integers).\n"
     ]
    },
    {
     "data": {
      "application/vnd.jupyter.widget-view+json": {
       "model_id": "ed977c00dafa4045b93b10488f0ac7e8",
       "version_major": 2,
       "version_minor": 0
      },
      "text/plain": [
       "  0%|          | 0/1000 [00:00<?, ?it/s]"
      ]
     },
     "metadata": {},
     "output_type": "display_data"
    },
    {
     "name": "stderr",
     "output_type": "stream",
     "text": [
      "Clipping input data to the valid range for imshow with RGB data ([0..1] for floats or [0..255] for integers).\n"
     ]
    },
    {
     "data": {
      "application/vnd.jupyter.widget-view+json": {
       "model_id": "729a055e0f0d400199bf8499eb3ecbe6",
       "version_major": 2,
       "version_minor": 0
      },
      "text/plain": [
       "  0%|          | 0/1000 [00:00<?, ?it/s]"
      ]
     },
     "metadata": {},
     "output_type": "display_data"
    },
    {
     "name": "stderr",
     "output_type": "stream",
     "text": [
      "Clipping input data to the valid range for imshow with RGB data ([0..1] for floats or [0..255] for integers).\n"
     ]
    },
    {
     "data": {
      "application/vnd.jupyter.widget-view+json": {
       "model_id": "ea7dcc10846d464aa3e4a039e0c4874f",
       "version_major": 2,
       "version_minor": 0
      },
      "text/plain": [
       "  0%|          | 0/1000 [00:00<?, ?it/s]"
      ]
     },
     "metadata": {},
     "output_type": "display_data"
    },
    {
     "name": "stderr",
     "output_type": "stream",
     "text": [
      "Clipping input data to the valid range for imshow with RGB data ([0..1] for floats or [0..255] for integers).\n"
     ]
    },
    {
     "data": {
      "application/vnd.jupyter.widget-view+json": {
       "model_id": "ceb587a7b1b640ff953cef21b0d1965c",
       "version_major": 2,
       "version_minor": 0
      },
      "text/plain": [
       "  0%|          | 0/1000 [00:00<?, ?it/s]"
      ]
     },
     "metadata": {},
     "output_type": "display_data"
    },
    {
     "name": "stderr",
     "output_type": "stream",
     "text": [
      "Clipping input data to the valid range for imshow with RGB data ([0..1] for floats or [0..255] for integers).\n"
     ]
    },
    {
     "data": {
      "application/vnd.jupyter.widget-view+json": {
       "model_id": "21962aa33ad14f37bc2a352fec0d1659",
       "version_major": 2,
       "version_minor": 0
      },
      "text/plain": [
       "  0%|          | 0/1000 [00:00<?, ?it/s]"
      ]
     },
     "metadata": {},
     "output_type": "display_data"
    },
    {
     "name": "stderr",
     "output_type": "stream",
     "text": [
      "Clipping input data to the valid range for imshow with RGB data ([0..1] for floats or [0..255] for integers).\n"
     ]
    },
    {
     "data": {
      "application/vnd.jupyter.widget-view+json": {
       "model_id": "23e698e7880e40eea4c62d95278e3872",
       "version_major": 2,
       "version_minor": 0
      },
      "text/plain": [
       "  0%|          | 0/1000 [00:00<?, ?it/s]"
      ]
     },
     "metadata": {},
     "output_type": "display_data"
    },
    {
     "name": "stderr",
     "output_type": "stream",
     "text": [
      "Clipping input data to the valid range for imshow with RGB data ([0..1] for floats or [0..255] for integers).\n"
     ]
    },
    {
     "data": {
      "application/vnd.jupyter.widget-view+json": {
       "model_id": "598931f1057e4ceb9f9ddac6b66892b5",
       "version_major": 2,
       "version_minor": 0
      },
      "text/plain": [
       "  0%|          | 0/1000 [00:00<?, ?it/s]"
      ]
     },
     "metadata": {},
     "output_type": "display_data"
    },
    {
     "name": "stderr",
     "output_type": "stream",
     "text": [
      "Clipping input data to the valid range for imshow with RGB data ([0..1] for floats or [0..255] for integers).\n"
     ]
    },
    {
     "data": {
      "application/vnd.jupyter.widget-view+json": {
       "model_id": "5a34670ce2204fd09b40dbb10e316aaa",
       "version_major": 2,
       "version_minor": 0
      },
      "text/plain": [
       "  0%|          | 0/1000 [00:00<?, ?it/s]"
      ]
     },
     "metadata": {},
     "output_type": "display_data"
    },
    {
     "name": "stderr",
     "output_type": "stream",
     "text": [
      "Clipping input data to the valid range for imshow with RGB data ([0..1] for floats or [0..255] for integers).\n"
     ]
    },
    {
     "data": {
      "application/vnd.jupyter.widget-view+json": {
       "model_id": "e1bf374e93d84b6ca264edbed8c9eae9",
       "version_major": 2,
       "version_minor": 0
      },
      "text/plain": [
       "  0%|          | 0/1000 [00:00<?, ?it/s]"
      ]
     },
     "metadata": {},
     "output_type": "display_data"
    },
    {
     "name": "stderr",
     "output_type": "stream",
     "text": [
      "Clipping input data to the valid range for imshow with RGB data ([0..1] for floats or [0..255] for integers).\n"
     ]
    },
    {
     "data": {
      "application/vnd.jupyter.widget-view+json": {
       "model_id": "b76cdd7a4bc144538da2828f60c7be6a",
       "version_major": 2,
       "version_minor": 0
      },
      "text/plain": [
       "  0%|          | 0/1000 [00:00<?, ?it/s]"
      ]
     },
     "metadata": {},
     "output_type": "display_data"
    },
    {
     "name": "stderr",
     "output_type": "stream",
     "text": [
      "Clipping input data to the valid range for imshow with RGB data ([0..1] for floats or [0..255] for integers).\n"
     ]
    },
    {
     "name": "stdout",
     "output_type": "stream",
     "text": [
      "Visualized batch #1!\n"
     ]
    }
   ],
   "source": [
    "importlib.reload(xai)\n",
    "\n",
    "xai.explain_lime_batch(test_dataloader, test_dataloader.batch_size, mod_resnet50,\n",
    "                                model_name=model_name, dataset_name=DATASET_NAME,\n",
    "                                )"
   ]
  },
  {
   "cell_type": "markdown",
   "metadata": {},
   "source": [
    "### Dropout experiment"
   ]
  },
  {
   "cell_type": "code",
   "execution_count": null,
   "metadata": {},
   "outputs": [],
   "source": [
    "dp_mod_resnet50 = model_utils.ModifiedResNet(original_resnet=resnet50(weights='IMAGENET1K_V1'))\n",
    "dp_mod_resnet50.prepare_for_ft()\n",
    "dp_mod_resnet50.to(device)\n",
    "\n",
    "optimizer = torch.optim.AdamW(\n",
    "    filter(lambda p: p.requires_grad, dp_mod_resnet50.parameters()), lr=0.001\n",
    ")\n",
    "\n",
    "model_name = \"CIFAKE_ModResNet50_dropout\""
   ]
  },
  {
   "cell_type": "code",
   "execution_count": null,
   "metadata": {},
   "outputs": [
    {
     "name": "stdout",
     "output_type": "stream",
     "text": [
      "Epoch 1/10\n",
      "-------------------------------\n",
      "Training loss: 0.506652, train accuracy: 63.81%  [ 5120/100000]\n",
      "Training loss: 0.447368, train accuracy: 70.11%  [10240/100000]\n",
      "Training loss: 0.453353, train accuracy: 72.14%  [15360/100000]\n",
      "Training loss: 0.452628, train accuracy: 73.66%  [20480/100000]\n",
      "Training loss: 0.471557, train accuracy: 74.59%  [25600/100000]\n",
      "Training loss: 0.366229, train accuracy: 75.40%  [30720/100000]\n",
      "Training loss: 0.420633, train accuracy: 76.01%  [35840/100000]\n",
      "Training loss: 0.421545, train accuracy: 76.42%  [40960/100000]\n",
      "Training loss: 0.405900, train accuracy: 76.88%  [46080/100000]\n",
      "Training loss: 0.384687, train accuracy: 77.11%  [51200/100000]\n",
      "Training loss: 0.457194, train accuracy: 77.37%  [56320/100000]\n",
      "Training loss: 0.383890, train accuracy: 77.58%  [61440/100000]\n",
      "Training loss: 0.391021, train accuracy: 77.82%  [66560/100000]\n",
      "Training loss: 0.426616, train accuracy: 78.06%  [71680/100000]\n",
      "Training loss: 0.465775, train accuracy: 78.28%  [76800/100000]\n",
      "Training loss: 0.381425, train accuracy: 78.48%  [81920/100000]\n",
      "Training loss: 0.305698, train accuracy: 78.69%  [87040/100000]\n",
      "Training loss: 0.406909, train accuracy: 78.80%  [92160/100000]\n",
      "Training loss: 0.453125, train accuracy: 78.94%  [97280/100000]\n",
      "Validation Error:\n",
      "Accuracy: 82.7%, Avg loss: 0.389771\n",
      "New best model found! (based on lowest loss)\n",
      "...and saved.\n",
      "\n",
      "\n",
      "Epoch 2/10\n",
      "-------------------------------\n",
      "Training loss: 0.444672, train accuracy: 81.27%  [ 5120/100000]\n",
      "Training loss: 0.382880, train accuracy: 81.50%  [10240/100000]\n",
      "Training loss: 0.448429, train accuracy: 82.02%  [15360/100000]\n",
      "Training loss: 0.352743, train accuracy: 82.03%  [20480/100000]\n",
      "Training loss: 0.358654, train accuracy: 82.19%  [25600/100000]\n",
      "Training loss: 0.374440, train accuracy: 82.27%  [30720/100000]\n",
      "Training loss: 0.346306, train accuracy: 82.23%  [35840/100000]\n",
      "Training loss: 0.336171, train accuracy: 82.42%  [40960/100000]\n",
      "Training loss: 0.425695, train accuracy: 82.48%  [46080/100000]\n",
      "Training loss: 0.374222, train accuracy: 82.55%  [51200/100000]\n",
      "Training loss: 0.496917, train accuracy: 82.49%  [56320/100000]\n",
      "Training loss: 0.349721, train accuracy: 82.51%  [61440/100000]\n",
      "Training loss: 0.462482, train accuracy: 82.55%  [66560/100000]\n",
      "Training loss: 0.349628, train accuracy: 82.57%  [71680/100000]\n",
      "Training loss: 0.449145, train accuracy: 82.58%  [76800/100000]\n",
      "Training loss: 0.357257, train accuracy: 82.62%  [81920/100000]\n",
      "Training loss: 0.349752, train accuracy: 82.68%  [87040/100000]\n",
      "Training loss: 0.410703, train accuracy: 82.62%  [92160/100000]\n",
      "Training loss: 0.340356, train accuracy: 82.67%  [97280/100000]\n",
      "Validation Error:\n",
      "Accuracy: 82.8%, Avg loss: 0.378529\n",
      "New best model found! (based on lowest loss)\n",
      "...and saved.\n",
      "\n",
      "\n",
      "Epoch 3/10\n",
      "-------------------------------\n",
      "Training loss: 0.398475, train accuracy: 83.42%  [ 5120/100000]\n",
      "Training loss: 0.484826, train accuracy: 83.97%  [10240/100000]\n",
      "Training loss: 0.318404, train accuracy: 83.84%  [15360/100000]\n",
      "Training loss: 0.306503, train accuracy: 83.82%  [20480/100000]\n",
      "Training loss: 0.287557, train accuracy: 83.93%  [25600/100000]\n",
      "Training loss: 0.297825, train accuracy: 83.61%  [30720/100000]\n",
      "Training loss: 0.357482, train accuracy: 83.63%  [35840/100000]\n",
      "Training loss: 0.325158, train accuracy: 83.66%  [40960/100000]\n",
      "Training loss: 0.263552, train accuracy: 83.66%  [46080/100000]\n",
      "Training loss: 0.478062, train accuracy: 83.70%  [51200/100000]\n",
      "Training loss: 0.455919, train accuracy: 83.75%  [56320/100000]\n",
      "Training loss: 0.347517, train accuracy: 83.76%  [61440/100000]\n",
      "Training loss: 0.291667, train accuracy: 83.77%  [66560/100000]\n",
      "Training loss: 0.355456, train accuracy: 83.80%  [71680/100000]\n",
      "Training loss: 0.348408, train accuracy: 83.79%  [76800/100000]\n",
      "Training loss: 0.410711, train accuracy: 83.77%  [81920/100000]\n",
      "Training loss: 0.330697, train accuracy: 83.81%  [87040/100000]\n",
      "Training loss: 0.379948, train accuracy: 83.83%  [92160/100000]\n",
      "Training loss: 0.277686, train accuracy: 83.89%  [97280/100000]\n",
      "Validation Error:\n",
      "Accuracy: 84.4%, Avg loss: 0.353295\n",
      "New best model found! (based on lowest loss)\n",
      "...and saved.\n",
      "\n",
      "\n",
      "Epoch 4/10\n",
      "-------------------------------\n",
      "Training loss: 0.377410, train accuracy: 85.14%  [ 5120/100000]\n",
      "Training loss: 0.342291, train accuracy: 84.75%  [10240/100000]\n",
      "Training loss: 0.351047, train accuracy: 84.97%  [15360/100000]\n",
      "Training loss: 0.296109, train accuracy: 84.95%  [20480/100000]\n",
      "Training loss: 0.367600, train accuracy: 84.82%  [25600/100000]\n",
      "Training loss: 0.357106, train accuracy: 84.97%  [30720/100000]\n",
      "Training loss: 0.409584, train accuracy: 84.89%  [35840/100000]\n",
      "Training loss: 0.368173, train accuracy: 84.91%  [40960/100000]\n",
      "Training loss: 0.373970, train accuracy: 84.88%  [46080/100000]\n",
      "Training loss: 0.393066, train accuracy: 84.93%  [51200/100000]\n",
      "Training loss: 0.305807, train accuracy: 84.89%  [56320/100000]\n",
      "Training loss: 0.311895, train accuracy: 84.91%  [61440/100000]\n",
      "Training loss: 0.305401, train accuracy: 84.96%  [66560/100000]\n",
      "Training loss: 0.303483, train accuracy: 84.95%  [71680/100000]\n",
      "Training loss: 0.304555, train accuracy: 84.91%  [76800/100000]\n",
      "Training loss: 0.386173, train accuracy: 84.93%  [81920/100000]\n",
      "Training loss: 0.316159, train accuracy: 84.91%  [87040/100000]\n",
      "Training loss: 0.322851, train accuracy: 84.92%  [92160/100000]\n",
      "Training loss: 0.370970, train accuracy: 84.94%  [97280/100000]\n",
      "Validation Error:\n",
      "Accuracy: 84.8%, Avg loss: 0.349490\n",
      "New best model found! (based on lowest loss)\n",
      "...and saved.\n",
      "\n",
      "\n",
      "Epoch 5/10\n",
      "-------------------------------\n",
      "Training loss: 0.225116, train accuracy: 86.41%  [ 5120/100000]\n",
      "Training loss: 0.416314, train accuracy: 85.73%  [10240/100000]\n",
      "Training loss: 0.329042, train accuracy: 85.88%  [15360/100000]\n",
      "Training loss: 0.374184, train accuracy: 85.90%  [20480/100000]\n",
      "Training loss: 0.361538, train accuracy: 85.79%  [25600/100000]\n",
      "Training loss: 0.379213, train accuracy: 85.68%  [30720/100000]\n",
      "Training loss: 0.332995, train accuracy: 85.65%  [35840/100000]\n",
      "Training loss: 0.256308, train accuracy: 85.62%  [40960/100000]\n",
      "Training loss: 0.286773, train accuracy: 85.63%  [46080/100000]\n",
      "Training loss: 0.335701, train accuracy: 85.61%  [51200/100000]\n",
      "Training loss: 0.248600, train accuracy: 85.64%  [56320/100000]\n",
      "Training loss: 0.331137, train accuracy: 85.57%  [61440/100000]\n",
      "Training loss: 0.338020, train accuracy: 85.54%  [66560/100000]\n",
      "Training loss: 0.371048, train accuracy: 85.51%  [71680/100000]\n",
      "Training loss: 0.270852, train accuracy: 85.50%  [76800/100000]\n",
      "Training loss: 0.363315, train accuracy: 85.48%  [81920/100000]\n",
      "Training loss: 0.293223, train accuracy: 85.50%  [87040/100000]\n",
      "Training loss: 0.319714, train accuracy: 85.50%  [92160/100000]\n",
      "Training loss: 0.369165, train accuracy: 85.49%  [97280/100000]\n",
      "Validation Error:\n",
      "Accuracy: 85.2%, Avg loss: 0.338556\n",
      "New best model found! (based on lowest loss)\n",
      "...and saved.\n",
      "\n",
      "\n",
      "Epoch 6/10\n",
      "-------------------------------\n",
      "Training loss: 0.389536, train accuracy: 86.29%  [ 5120/100000]\n",
      "Training loss: 0.390860, train accuracy: 86.40%  [10240/100000]\n",
      "Training loss: 0.216400, train accuracy: 86.28%  [15360/100000]\n",
      "Training loss: 0.314882, train accuracy: 86.17%  [20480/100000]\n",
      "Training loss: 0.258634, train accuracy: 86.26%  [25600/100000]\n",
      "Training loss: 0.272673, train accuracy: 86.14%  [30720/100000]\n",
      "Training loss: 0.531435, train accuracy: 86.08%  [35840/100000]\n",
      "Training loss: 0.291319, train accuracy: 85.96%  [40960/100000]\n",
      "Training loss: 0.291447, train accuracy: 86.10%  [46080/100000]\n",
      "Training loss: 0.286857, train accuracy: 86.05%  [51200/100000]\n",
      "Training loss: 0.329328, train accuracy: 85.99%  [56320/100000]\n",
      "Training loss: 0.261241, train accuracy: 85.90%  [61440/100000]\n",
      "Training loss: 0.327232, train accuracy: 85.93%  [66560/100000]\n",
      "Training loss: 0.254004, train accuracy: 85.95%  [71680/100000]\n",
      "Training loss: 0.426459, train accuracy: 85.90%  [76800/100000]\n",
      "Training loss: 0.333533, train accuracy: 85.92%  [81920/100000]\n",
      "Training loss: 0.372009, train accuracy: 85.90%  [87040/100000]\n",
      "Training loss: 0.342844, train accuracy: 85.93%  [92160/100000]\n",
      "Training loss: 0.394775, train accuracy: 85.96%  [97280/100000]\n",
      "Validation Error:\n",
      "Accuracy: 85.5%, Avg loss: 0.334735\n",
      "New best model found! (based on lowest loss)\n",
      "...and saved.\n",
      "\n",
      "\n",
      "Epoch 7/10\n",
      "-------------------------------\n",
      "Training loss: 0.321218, train accuracy: 87.17%  [ 5120/100000]\n",
      "Training loss: 0.306560, train accuracy: 86.95%  [10240/100000]\n",
      "Training loss: 0.286537, train accuracy: 86.73%  [15360/100000]\n",
      "Training loss: 0.355168, train accuracy: 86.39%  [20480/100000]\n",
      "Training loss: 0.364371, train accuracy: 86.33%  [25600/100000]\n",
      "Training loss: 0.305915, train accuracy: 86.24%  [30720/100000]\n",
      "Training loss: 0.344319, train accuracy: 86.24%  [35840/100000]\n",
      "Training loss: 0.356316, train accuracy: 86.32%  [40960/100000]\n",
      "Training loss: 0.296473, train accuracy: 86.27%  [46080/100000]\n",
      "Training loss: 0.289449, train accuracy: 86.28%  [51200/100000]\n",
      "Training loss: 0.503472, train accuracy: 86.28%  [56320/100000]\n",
      "Training loss: 0.400241, train accuracy: 86.27%  [61440/100000]\n",
      "Training loss: 0.327958, train accuracy: 86.31%  [66560/100000]\n",
      "Training loss: 0.275850, train accuracy: 86.33%  [71680/100000]\n",
      "Training loss: 0.268725, train accuracy: 86.33%  [76800/100000]\n",
      "Training loss: 0.380497, train accuracy: 86.34%  [81920/100000]\n",
      "Training loss: 0.291903, train accuracy: 86.32%  [87040/100000]\n",
      "Training loss: 0.314549, train accuracy: 86.29%  [92160/100000]\n",
      "Training loss: 0.342909, train accuracy: 86.29%  [97280/100000]\n",
      "Validation Error:\n",
      "Accuracy: 85.2%, Avg loss: 0.346744\n",
      "\n",
      "\n",
      "Epoch 8/10\n",
      "-------------------------------\n",
      "Training loss: 0.263625, train accuracy: 86.64%  [ 5120/100000]\n",
      "Training loss: 0.298160, train accuracy: 86.79%  [10240/100000]\n",
      "Training loss: 0.247046, train accuracy: 86.66%  [15360/100000]\n",
      "Training loss: 0.296668, train accuracy: 86.86%  [20480/100000]\n",
      "Training loss: 0.321982, train accuracy: 87.17%  [25600/100000]\n",
      "Training loss: 0.366727, train accuracy: 87.07%  [30720/100000]\n",
      "Training loss: 0.285824, train accuracy: 86.99%  [35840/100000]\n",
      "Training loss: 0.242202, train accuracy: 87.03%  [40960/100000]\n",
      "Training loss: 0.282035, train accuracy: 86.94%  [46080/100000]\n",
      "Training loss: 0.298037, train accuracy: 86.89%  [51200/100000]\n",
      "Training loss: 0.364219, train accuracy: 86.77%  [56320/100000]\n",
      "Training loss: 0.284759, train accuracy: 86.80%  [61440/100000]\n",
      "Training loss: 0.269503, train accuracy: 86.79%  [66560/100000]\n",
      "Training loss: 0.401581, train accuracy: 86.76%  [71680/100000]\n",
      "Training loss: 0.288610, train accuracy: 86.75%  [76800/100000]\n",
      "Training loss: 0.242044, train accuracy: 86.76%  [81920/100000]\n",
      "Training loss: 0.337038, train accuracy: 86.75%  [87040/100000]\n",
      "Training loss: 0.289097, train accuracy: 86.74%  [92160/100000]\n",
      "Training loss: 0.419422, train accuracy: 86.76%  [97280/100000]\n",
      "Validation Error:\n",
      "Accuracy: 85.4%, Avg loss: 0.334017\n",
      "New best model found! (based on lowest loss)\n",
      "...and saved.\n",
      "\n",
      "\n",
      "Epoch 9/10\n",
      "-------------------------------\n",
      "Training loss: 0.410954, train accuracy: 86.43%  [ 5120/100000]\n",
      "Training loss: 0.339374, train accuracy: 86.82%  [10240/100000]\n",
      "Training loss: 0.296784, train accuracy: 86.97%  [15360/100000]\n",
      "Training loss: 0.309137, train accuracy: 86.96%  [20480/100000]\n",
      "Training loss: 0.251190, train accuracy: 87.12%  [25600/100000]\n",
      "Training loss: 0.232707, train accuracy: 87.16%  [30720/100000]\n",
      "Training loss: 0.208047, train accuracy: 87.10%  [35840/100000]\n",
      "Training loss: 0.269476, train accuracy: 87.30%  [40960/100000]\n",
      "Training loss: 0.288480, train accuracy: 87.28%  [46080/100000]\n",
      "Training loss: 0.281314, train accuracy: 87.27%  [51200/100000]\n",
      "Training loss: 0.241734, train accuracy: 87.25%  [56320/100000]\n",
      "Training loss: 0.312554, train accuracy: 87.15%  [61440/100000]\n",
      "Training loss: 0.390714, train accuracy: 87.07%  [66560/100000]\n",
      "Training loss: 0.230912, train accuracy: 87.06%  [71680/100000]\n",
      "Training loss: 0.391734, train accuracy: 87.04%  [76800/100000]\n",
      "Training loss: 0.314628, train accuracy: 87.05%  [81920/100000]\n",
      "Training loss: 0.198820, train accuracy: 87.07%  [87040/100000]\n",
      "Training loss: 0.297518, train accuracy: 87.07%  [92160/100000]\n",
      "Training loss: 0.307992, train accuracy: 87.07%  [97280/100000]\n",
      "Validation Error:\n",
      "Accuracy: 85.6%, Avg loss: 0.338224\n",
      "\n",
      "\n",
      "Epoch 10/10\n",
      "-------------------------------\n",
      "Training loss: 0.296943, train accuracy: 88.38%  [ 5120/100000]\n",
      "Training loss: 0.280489, train accuracy: 87.91%  [10240/100000]\n",
      "Training loss: 0.338701, train accuracy: 88.00%  [15360/100000]\n",
      "Training loss: 0.341055, train accuracy: 87.77%  [20480/100000]\n",
      "Training loss: 0.254497, train accuracy: 87.75%  [25600/100000]\n",
      "Training loss: 0.271557, train accuracy: 87.79%  [30720/100000]\n",
      "Training loss: 0.279796, train accuracy: 87.92%  [35840/100000]\n",
      "Training loss: 0.257071, train accuracy: 87.86%  [40960/100000]\n",
      "Training loss: 0.302747, train accuracy: 87.84%  [46080/100000]\n",
      "Training loss: 0.271810, train accuracy: 87.79%  [51200/100000]\n",
      "Training loss: 0.257027, train accuracy: 87.71%  [56320/100000]\n",
      "Training loss: 0.328014, train accuracy: 87.58%  [61440/100000]\n",
      "Training loss: 0.334288, train accuracy: 87.58%  [66560/100000]\n",
      "Training loss: 0.263084, train accuracy: 87.56%  [71680/100000]\n",
      "Training loss: 0.346038, train accuracy: 87.55%  [76800/100000]\n",
      "Training loss: 0.328853, train accuracy: 87.54%  [81920/100000]\n",
      "Training loss: 0.304978, train accuracy: 87.57%  [87040/100000]\n",
      "Training loss: 0.269653, train accuracy: 87.54%  [92160/100000]\n",
      "Training loss: 0.245737, train accuracy: 87.54%  [97280/100000]\n",
      "Validation Error:\n",
      "Accuracy: 85.8%, Avg loss: 0.330044\n",
      "New best model found! (based on lowest loss)\n",
      "...and saved.\n",
      "\n",
      "\n"
     ]
    },
    {
     "name": "stderr",
     "output_type": "stream",
     "text": [
      "c:\\Users\\tekke\\Desktop\\ethics_project2\\model_utils.py:161: FutureWarning: You are using `torch.load` with `weights_only=False` (the current default value), which uses the default pickle module implicitly. It is possible to construct malicious pickle data which will execute arbitrary code during unpickling (See https://github.com/pytorch/pytorch/blob/main/SECURITY.md#untrusted-models for more details). In a future release, the default value for `weights_only` will be flipped to `True`. This limits the functions that could be executed during unpickling. Arbitrary objects will no longer be allowed to be loaded via this mode unless they are explicitly allowlisted by the user via `torch.serialization.add_safe_globals`. We recommend you start setting `weights_only=True` for any use case where you don't have full control of the loaded file. Please open an issue on GitHub for any issues related to this experimental feature.\n",
      "  model.load_state_dict(torch.load(weight_path))\n"
     ]
    }
   ],
   "source": [
    "artifacts = model_utils.train(dataloaders, loss_fn, optimizer, dp_mod_resnet50, model_name, BATCH_SIZE, EPOCHS, loss_thresh=2.5, force_train=TRAINING_MODE)"
   ]
  },
  {
   "cell_type": "code",
   "execution_count": null,
   "metadata": {},
   "outputs": [
    {
     "name": "stdout",
     "output_type": "stream",
     "text": [
      "Test Error:\n",
      "Accuracy: 85.8%, Avg loss: 0.330044\n",
      "Confusion matrix report, tp: 4235, fp: 759, fn: 661, tn:4345\n"
     ]
    },
    {
     "data": {
      "image/png": "[encoded data removed]",
      "text/plain": [
       "<Figure size 640x480 with 2 Axes>"
      ]
     },
     "metadata": {},
     "output_type": "display_data"
    },
    {
     "name": "stdout",
     "output_type": "stream",
     "text": [
      "Precision: 0.85, Recall: 0.86, F1-Score: 0.86\n"
     ]
    },
    {
     "data": {
      "text/plain": [
       "(0.3300439460745341, tensor(0.8580, device='cuda:0'))"
      ]
     },
     "execution_count": 30,
     "metadata": {},
     "output_type": "execute_result"
    }
   ],
   "source": [
    "model_utils.test(test_dataloader, dp_mod_resnet50, loss_fn, device,\n",
    "                 model_name=model_name)"
   ]
  },
  {
   "cell_type": "code",
   "execution_count": null,
   "metadata": {},
   "outputs": [
    {
     "data": {
      "image/png": "[encoded data removed]",
      "text/plain": [
       "<Figure size 640x480 with 1 Axes>"
      ]
     },
     "metadata": {},
     "output_type": "display_data"
    },
    {
     "data": {
      "image/png": "[encoded data removed]",
      "text/plain": [
       "<Figure size 1000x600 with 1 Axes>"
      ]
     },
     "metadata": {},
     "output_type": "display_data"
    },
    {
     "data": {
      "image/png": "[encoded data removed]",
      "text/plain": [
       "<Figure size 640x480 with 1 Axes>"
      ]
     },
     "metadata": {},
     "output_type": "display_data"
    }
   ],
   "source": [
    "if artifacts != None:\n",
    "    losses, train_accs, test_accs, precisions, recalls = artifacts\n",
    "    plotter.plot_generic_metrics((train_accs, test_accs), \"accuracy\", model_name)\n",
    "    plotter.plot_precision_recall_curve(precisions, recalls, model_name)"
   ]
  },
  {
   "cell_type": "markdown",
   "metadata": {},
   "source": [
    "#### FT2 with dropout experiment"
   ]
  },
  {
   "cell_type": "code",
   "execution_count": null,
   "metadata": {},
   "outputs": [],
   "source": [
    "for param in dp_mod_resnet50.parameters():\n",
    "    param.requires_grad = True\n",
    "\n",
    "optimizer = torch.optim.AdamW(dp_mod_resnet50.parameters(), lr=0.001)\n",
    "\n",
    "model_name = \"CIFAKE_ModResNet50_dropout_beefy\""
   ]
  },
  {
   "cell_type": "code",
   "execution_count": null,
   "metadata": {},
   "outputs": [
    {
     "name": "stdout",
     "output_type": "stream",
     "text": [
      "Epoch 1/10\n",
      "-------------------------------\n",
      "Training loss: 0.269506, train accuracy: 84.82%  [ 5120/100000]\n",
      "Training loss: 0.188949, train accuracy: 88.00%  [10240/100000]\n",
      "Training loss: 0.188751, train accuracy: 89.50%  [15360/100000]\n",
      "Training loss: 0.200153, train accuracy: 90.32%  [20480/100000]\n",
      "Training loss: 0.084579, train accuracy: 90.93%  [25600/100000]\n",
      "Training loss: 0.098530, train accuracy: 91.42%  [30720/100000]\n",
      "Training loss: 0.200508, train accuracy: 91.82%  [35840/100000]\n",
      "Training loss: 0.146602, train accuracy: 92.10%  [40960/100000]\n",
      "Training loss: 0.194661, train accuracy: 92.26%  [46080/100000]\n",
      "Training loss: 0.179730, train accuracy: 92.46%  [51200/100000]\n",
      "Training loss: 0.102400, train accuracy: 92.66%  [56320/100000]\n",
      "Training loss: 0.157261, train accuracy: 92.84%  [61440/100000]\n",
      "Training loss: 0.149876, train accuracy: 92.99%  [66560/100000]\n",
      "Training loss: 0.112903, train accuracy: 93.10%  [71680/100000]\n",
      "Training loss: 0.141675, train accuracy: 93.19%  [76800/100000]\n",
      "Training loss: 0.148474, train accuracy: 93.30%  [81920/100000]\n",
      "Training loss: 0.107650, train accuracy: 93.43%  [87040/100000]\n",
      "Training loss: 0.112738, train accuracy: 93.53%  [92160/100000]\n",
      "Training loss: 0.115169, train accuracy: 93.62%  [97280/100000]\n",
      "Validation Error:\n",
      "Accuracy: 95.5%, Avg loss: 0.120551\n",
      "New best model found! (based on lowest loss)\n",
      "...and saved.\n",
      "\n",
      "\n",
      "Epoch 2/10\n",
      "-------------------------------\n",
      "Training loss: 0.144242, train accuracy: 95.96%  [ 5120/100000]\n",
      "Training loss: 0.218112, train accuracy: 96.04%  [10240/100000]\n",
      "Training loss: 0.119656, train accuracy: 95.94%  [15360/100000]\n",
      "Training loss: 0.065108, train accuracy: 96.10%  [20480/100000]\n",
      "Training loss: 0.069867, train accuracy: 96.19%  [25600/100000]\n",
      "Training loss: 0.090862, train accuracy: 96.18%  [30720/100000]\n",
      "Training loss: 0.131709, train accuracy: 96.20%  [35840/100000]\n",
      "Training loss: 0.066939, train accuracy: 96.21%  [40960/100000]\n",
      "Training loss: 0.068385, train accuracy: 96.14%  [46080/100000]\n",
      "Training loss: 0.129741, train accuracy: 96.11%  [51200/100000]\n",
      "Training loss: 0.099144, train accuracy: 96.10%  [56320/100000]\n",
      "Training loss: 0.049836, train accuracy: 96.11%  [61440/100000]\n",
      "Training loss: 0.128461, train accuracy: 96.15%  [66560/100000]\n",
      "Training loss: 0.115947, train accuracy: 96.11%  [71680/100000]\n",
      "Training loss: 0.060212, train accuracy: 96.06%  [76800/100000]\n",
      "Training loss: 0.058142, train accuracy: 96.07%  [81920/100000]\n",
      "Training loss: 0.140091, train accuracy: 96.04%  [87040/100000]\n",
      "Training loss: 0.172460, train accuracy: 96.02%  [92160/100000]\n",
      "Training loss: 0.088093, train accuracy: 95.99%  [97280/100000]\n",
      "Validation Error:\n",
      "Accuracy: 95.6%, Avg loss: 0.115581\n",
      "New best model found! (based on lowest loss)\n",
      "...and saved.\n",
      "\n",
      "\n",
      "Epoch 3/10\n",
      "-------------------------------\n",
      "Training loss: 0.174461, train accuracy: 97.11%  [ 5120/100000]\n",
      "Training loss: 0.058961, train accuracy: 96.73%  [10240/100000]\n",
      "Training loss: 0.060653, train accuracy: 96.63%  [15360/100000]\n",
      "Training loss: 0.155552, train accuracy: 96.64%  [20480/100000]\n",
      "Training loss: 0.054003, train accuracy: 96.61%  [25600/100000]\n",
      "Training loss: 0.044548, train accuracy: 96.60%  [30720/100000]\n",
      "Training loss: 0.066046, train accuracy: 96.62%  [35840/100000]\n",
      "Training loss: 0.115214, train accuracy: 96.67%  [40960/100000]\n",
      "Training loss: 0.165756, train accuracy: 96.69%  [46080/100000]\n",
      "Training loss: 0.072843, train accuracy: 96.70%  [51200/100000]\n",
      "Training loss: 0.084986, train accuracy: 96.64%  [56320/100000]\n",
      "Training loss: 0.110298, train accuracy: 96.62%  [61440/100000]\n",
      "Training loss: 0.032124, train accuracy: 96.62%  [66560/100000]\n",
      "Training loss: 0.104813, train accuracy: 96.64%  [71680/100000]\n",
      "Training loss: 0.117094, train accuracy: 96.60%  [76800/100000]\n",
      "Training loss: 0.056599, train accuracy: 96.59%  [81920/100000]\n",
      "Training loss: 0.117386, train accuracy: 96.59%  [87040/100000]\n",
      "Training loss: 0.069370, train accuracy: 96.60%  [92160/100000]\n",
      "Training loss: 0.090311, train accuracy: 96.60%  [97280/100000]\n",
      "Validation Error:\n",
      "Accuracy: 96.4%, Avg loss: 0.094446\n",
      "New best model found! (based on lowest loss)\n",
      "...and saved.\n",
      "\n",
      "\n",
      "Epoch 4/10\n",
      "-------------------------------\n",
      "Training loss: 0.076025, train accuracy: 97.60%  [ 5120/100000]\n",
      "Training loss: 0.082889, train accuracy: 97.31%  [10240/100000]\n",
      "Training loss: 0.032017, train accuracy: 97.42%  [15360/100000]\n",
      "Training loss: 0.081657, train accuracy: 97.40%  [20480/100000]\n",
      "Training loss: 0.168146, train accuracy: 97.24%  [25600/100000]\n",
      "Training loss: 0.219217, train accuracy: 97.17%  [30720/100000]\n",
      "Training loss: 0.069791, train accuracy: 97.18%  [35840/100000]\n",
      "Training loss: 0.068774, train accuracy: 97.14%  [40960/100000]\n",
      "Training loss: 0.046844, train accuracy: 97.17%  [46080/100000]\n",
      "Training loss: 0.029612, train accuracy: 97.11%  [51200/100000]\n",
      "Training loss: 0.051840, train accuracy: 97.11%  [56320/100000]\n",
      "Training loss: 0.040434, train accuracy: 97.12%  [61440/100000]\n",
      "Training loss: 0.119885, train accuracy: 97.07%  [66560/100000]\n",
      "Training loss: 0.092813, train accuracy: 97.06%  [71680/100000]\n",
      "Training loss: 0.077936, train accuracy: 97.07%  [76800/100000]\n",
      "Training loss: 0.024375, train accuracy: 97.04%  [81920/100000]\n",
      "Training loss: 0.071749, train accuracy: 97.03%  [87040/100000]\n",
      "Training loss: 0.132324, train accuracy: 97.04%  [92160/100000]\n",
      "Training loss: 0.137796, train accuracy: 97.05%  [97280/100000]\n",
      "Validation Error:\n",
      "Accuracy: 96.5%, Avg loss: 0.099309\n",
      "\n",
      "\n",
      "Epoch 5/10\n",
      "-------------------------------\n",
      "Training loss: 0.033374, train accuracy: 97.62%  [ 5120/100000]\n",
      "Training loss: 0.058423, train accuracy: 97.63%  [10240/100000]\n",
      "Training loss: 0.056729, train accuracy: 97.57%  [15360/100000]\n",
      "Training loss: 0.036312, train accuracy: 97.51%  [20480/100000]\n",
      "Training loss: 0.019194, train accuracy: 97.55%  [25600/100000]\n",
      "Training loss: 0.105685, train accuracy: 97.50%  [30720/100000]\n",
      "Training loss: 0.125814, train accuracy: 97.45%  [35840/100000]\n",
      "Training loss: 0.041231, train accuracy: 97.48%  [40960/100000]\n",
      "Training loss: 0.091145, train accuracy: 97.50%  [46080/100000]\n",
      "Training loss: 0.073559, train accuracy: 97.51%  [51200/100000]\n",
      "Training loss: 0.050011, train accuracy: 97.49%  [56320/100000]\n",
      "Training loss: 0.068937, train accuracy: 97.48%  [61440/100000]\n",
      "Training loss: 0.057664, train accuracy: 97.46%  [66560/100000]\n",
      "Training loss: 0.043410, train accuracy: 97.44%  [71680/100000]\n",
      "Training loss: 0.049573, train accuracy: 97.44%  [76800/100000]\n",
      "Training loss: 0.172910, train accuracy: 97.41%  [81920/100000]\n",
      "Training loss: 0.066367, train accuracy: 97.38%  [87040/100000]\n",
      "Training loss: 0.080625, train accuracy: 97.36%  [92160/100000]\n",
      "Training loss: 0.090858, train accuracy: 97.32%  [97280/100000]\n",
      "Validation Error:\n",
      "Accuracy: 95.5%, Avg loss: 0.116820\n",
      "\n",
      "\n",
      "Epoch 6/10\n",
      "-------------------------------\n",
      "Training loss: 0.067817, train accuracy: 97.64%  [ 5120/100000]\n",
      "Training loss: 0.019558, train accuracy: 97.75%  [10240/100000]\n",
      "Training loss: 0.076349, train accuracy: 97.76%  [15360/100000]\n",
      "Training loss: 0.012390, train accuracy: 97.84%  [20480/100000]\n",
      "Training loss: 0.065524, train accuracy: 97.81%  [25600/100000]\n",
      "Training loss: 0.046770, train accuracy: 97.85%  [30720/100000]\n",
      "Training loss: 0.092209, train accuracy: 97.84%  [35840/100000]\n",
      "Training loss: 0.068665, train accuracy: 97.74%  [40960/100000]\n",
      "Training loss: 0.065839, train accuracy: 97.73%  [46080/100000]\n",
      "Training loss: 0.125066, train accuracy: 97.69%  [51200/100000]\n",
      "Training loss: 0.064900, train accuracy: 97.71%  [56320/100000]\n",
      "Training loss: 0.080251, train accuracy: 97.70%  [61440/100000]\n",
      "Training loss: 0.039620, train accuracy: 97.66%  [66560/100000]\n",
      "Training loss: 0.039987, train accuracy: 97.68%  [71680/100000]\n",
      "Training loss: 0.072336, train accuracy: 97.68%  [76800/100000]\n",
      "Training loss: 0.049850, train accuracy: 97.68%  [81920/100000]\n",
      "Training loss: 0.111805, train accuracy: 97.69%  [87040/100000]\n",
      "Training loss: 0.035842, train accuracy: 97.68%  [92160/100000]\n",
      "Training loss: 0.064132, train accuracy: 97.68%  [97280/100000]\n",
      "Validation Error:\n",
      "Accuracy: 96.1%, Avg loss: 0.110886\n",
      "\n",
      "\n",
      "Epoch 7/10\n",
      "-------------------------------\n",
      "Training loss: 0.009664, train accuracy: 98.28%  [ 5120/100000]\n",
      "Training loss: 0.023790, train accuracy: 98.24%  [10240/100000]\n",
      "Training loss: 0.042576, train accuracy: 98.25%  [15360/100000]\n",
      "Training loss: 0.048882, train accuracy: 98.11%  [20480/100000]\n",
      "Training loss: 0.017192, train accuracy: 98.11%  [25600/100000]\n",
      "Training loss: 0.019805, train accuracy: 98.10%  [30720/100000]\n",
      "Training loss: 0.040184, train accuracy: 98.09%  [35840/100000]\n",
      "Training loss: 0.018593, train accuracy: 98.11%  [40960/100000]\n",
      "Training loss: 0.078900, train accuracy: 98.06%  [46080/100000]\n",
      "Training loss: 0.066519, train accuracy: 98.04%  [51200/100000]\n",
      "Training loss: 0.081950, train accuracy: 97.98%  [56320/100000]\n",
      "Training loss: 0.062615, train accuracy: 97.96%  [61440/100000]\n",
      "Training loss: 0.052794, train accuracy: 97.96%  [66560/100000]\n",
      "Training loss: 0.062045, train accuracy: 97.95%  [71680/100000]\n",
      "Training loss: 0.099760, train accuracy: 97.96%  [76800/100000]\n",
      "Training loss: 0.024513, train accuracy: 97.94%  [81920/100000]\n",
      "Training loss: 0.033877, train accuracy: 97.94%  [87040/100000]\n",
      "Training loss: 0.101237, train accuracy: 97.92%  [92160/100000]\n",
      "Training loss: 0.058458, train accuracy: 97.91%  [97280/100000]\n",
      "Validation Error:\n",
      "Accuracy: 95.4%, Avg loss: 0.143083\n",
      "\n",
      "\n",
      "Epoch 8/10\n",
      "-------------------------------\n",
      "Training loss: 0.025928, train accuracy: 98.52%  [ 5120/100000]\n",
      "Training loss: 0.015052, train accuracy: 98.38%  [10240/100000]\n",
      "Training loss: 0.033197, train accuracy: 98.22%  [15360/100000]\n",
      "Training loss: 0.081817, train accuracy: 98.23%  [20480/100000]\n",
      "Training loss: 0.043479, train accuracy: 98.21%  [25600/100000]\n",
      "Training loss: 0.046935, train accuracy: 98.18%  [30720/100000]\n",
      "Training loss: 0.035167, train accuracy: 98.18%  [35840/100000]\n",
      "Training loss: 0.141234, train accuracy: 98.15%  [40960/100000]\n",
      "Training loss: 0.058274, train accuracy: 97.68%  [46080/100000]\n",
      "Training loss: 0.147228, train accuracy: 97.41%  [51200/100000]\n",
      "Training loss: 0.109801, train accuracy: 97.28%  [56320/100000]\n",
      "Training loss: 0.139377, train accuracy: 97.19%  [61440/100000]\n",
      "Training loss: 0.034318, train accuracy: 97.18%  [66560/100000]\n",
      "Training loss: 0.117264, train accuracy: 97.13%  [71680/100000]\n",
      "Training loss: 0.056436, train accuracy: 97.08%  [76800/100000]\n",
      "Training loss: 0.077930, train accuracy: 97.06%  [81920/100000]\n",
      "Training loss: 0.053775, train accuracy: 97.09%  [87040/100000]\n",
      "Training loss: 0.060624, train accuracy: 97.08%  [92160/100000]\n",
      "Training loss: 0.055165, train accuracy: 97.11%  [97280/100000]\n",
      "Validation Error:\n",
      "Accuracy: 96.1%, Avg loss: 0.110091\n",
      "\n",
      "\n",
      "Epoch 9/10\n",
      "-------------------------------\n",
      "Training loss: 0.020898, train accuracy: 97.95%  [ 5120/100000]\n",
      "Training loss: 0.025064, train accuracy: 98.21%  [10240/100000]\n",
      "Training loss: 0.025582, train accuracy: 98.09%  [15360/100000]\n",
      "Training loss: 0.101641, train accuracy: 97.94%  [20480/100000]\n",
      "Training loss: 0.084324, train accuracy: 97.98%  [25600/100000]\n",
      "Training loss: 0.055751, train accuracy: 97.95%  [30720/100000]\n",
      "Training loss: 0.050242, train accuracy: 98.00%  [35840/100000]\n",
      "Training loss: 0.127778, train accuracy: 98.03%  [40960/100000]\n",
      "Training loss: 0.084126, train accuracy: 98.04%  [46080/100000]\n",
      "Training loss: 0.044814, train accuracy: 98.04%  [51200/100000]\n",
      "Training loss: 0.049759, train accuracy: 98.03%  [56320/100000]\n",
      "Training loss: 0.047773, train accuracy: 98.04%  [61440/100000]\n",
      "Training loss: 0.095441, train accuracy: 98.02%  [66560/100000]\n",
      "Training loss: 0.028238, train accuracy: 98.05%  [71680/100000]\n",
      "Training loss: 0.018722, train accuracy: 98.08%  [76800/100000]\n",
      "Training loss: 0.009099, train accuracy: 98.09%  [81920/100000]\n",
      "Training loss: 0.046116, train accuracy: 98.10%  [87040/100000]\n",
      "Training loss: 0.094483, train accuracy: 98.12%  [92160/100000]\n",
      "Training loss: 0.060636, train accuracy: 98.11%  [97280/100000]\n",
      "Validation Error:\n",
      "Accuracy: 96.7%, Avg loss: 0.098275\n",
      "\n",
      "\n",
      "Epoch 10/10\n",
      "-------------------------------\n",
      "Training loss: 0.068938, train accuracy: 98.61%  [ 5120/100000]\n",
      "Training loss: 0.007237, train accuracy: 98.75%  [10240/100000]\n",
      "Training loss: 0.051311, train accuracy: 98.75%  [15360/100000]\n",
      "Training loss: 0.063501, train accuracy: 98.65%  [20480/100000]\n",
      "Training loss: 0.022962, train accuracy: 98.63%  [25600/100000]\n",
      "Training loss: 0.014133, train accuracy: 98.59%  [30720/100000]\n",
      "Training loss: 0.010949, train accuracy: 98.57%  [35840/100000]\n",
      "Training loss: 0.105829, train accuracy: 98.50%  [40960/100000]\n",
      "Training loss: 0.067397, train accuracy: 98.47%  [46080/100000]\n",
      "Training loss: 0.074869, train accuracy: 98.48%  [51200/100000]\n",
      "Training loss: 0.048123, train accuracy: 98.47%  [56320/100000]\n",
      "Training loss: 0.031695, train accuracy: 98.44%  [61440/100000]\n",
      "Training loss: 0.103633, train accuracy: 98.43%  [66560/100000]\n",
      "Training loss: 0.019181, train accuracy: 98.44%  [71680/100000]\n",
      "Training loss: 0.019470, train accuracy: 98.44%  [76800/100000]\n",
      "Training loss: 0.015947, train accuracy: 98.43%  [81920/100000]\n",
      "Training loss: 0.038885, train accuracy: 98.41%  [87040/100000]\n",
      "Training loss: 0.052398, train accuracy: 98.42%  [92160/100000]\n",
      "Training loss: 0.058587, train accuracy: 98.42%  [97280/100000]\n",
      "Validation Error:\n",
      "Accuracy: 96.9%, Avg loss: 0.099427\n",
      "\n",
      "\n"
     ]
    },
    {
     "name": "stderr",
     "output_type": "stream",
     "text": [
      "c:\\Users\\tekke\\Desktop\\ethics_project2\\model_utils.py:161: FutureWarning: You are using `torch.load` with `weights_only=False` (the current default value), which uses the default pickle module implicitly. It is possible to construct malicious pickle data which will execute arbitrary code during unpickling (See https://github.com/pytorch/pytorch/blob/main/SECURITY.md#untrusted-models for more details). In a future release, the default value for `weights_only` will be flipped to `True`. This limits the functions that could be executed during unpickling. Arbitrary objects will no longer be allowed to be loaded via this mode unless they are explicitly allowlisted by the user via `torch.serialization.add_safe_globals`. We recommend you start setting `weights_only=True` for any use case where you don't have full control of the loaded file. Please open an issue on GitHub for any issues related to this experimental feature.\n",
      "  model.load_state_dict(torch.load(weight_path))\n"
     ]
    }
   ],
   "source": [
    "artifacts = model_utils.train(dataloaders, loss_fn, optimizer, dp_mod_resnet50, model_name, BATCH_SIZE, EPOCHS, loss_thresh=2.5, force_train=TRAINING_MODE)"
   ]
  },
  {
   "cell_type": "code",
   "execution_count": null,
   "metadata": {},
   "outputs": [
    {
     "name": "stdout",
     "output_type": "stream",
     "text": [
      "Test Error:\n",
      "Accuracy: 96.4%, Avg loss: 0.094446\n",
      "Confusion matrix report, tp: 4754, fp: 240, fn: 118, tn:4888\n"
     ]
    },
    {
     "data": {
      "image/png": "[encoded data removed]",
      "text/plain": [
       "<Figure size 640x480 with 2 Axes>"
      ]
     },
     "metadata": {},
     "output_type": "display_data"
    },
    {
     "name": "stdout",
     "output_type": "stream",
     "text": [
      "Precision: 0.95, Recall: 0.98, F1-Score: 0.96\n"
     ]
    },
    {
     "data": {
      "text/plain": [
       "(0.0944462557665155, tensor(0.9642, device='cuda:0'))"
      ]
     },
     "execution_count": 34,
     "metadata": {},
     "output_type": "execute_result"
    }
   ],
   "source": [
    "model_utils.test(test_dataloader, dp_mod_resnet50, loss_fn, device,\n",
    "                 model_name=model_name)"
   ]
  },
  {
   "cell_type": "code",
   "execution_count": null,
   "metadata": {},
   "outputs": [
    {
     "data": {
      "image/png": "[encoded data removed]",
      "text/plain": [
       "<Figure size 640x480 with 1 Axes>"
      ]
     },
     "metadata": {},
     "output_type": "display_data"
    },
    {
     "data": {
      "image/png": "[encoded data removed]",
      "text/plain": [
       "<Figure size 1000x600 with 1 Axes>"
      ]
     },
     "metadata": {},
     "output_type": "display_data"
    },
    {
     "data": {
      "image/png": "[encoded data removed]",
      "text/plain": [
       "<Figure size 640x480 with 1 Axes>"
      ]
     },
     "metadata": {},
     "output_type": "display_data"
    }
   ],
   "source": [
    "if artifacts != None:\n",
    "    losses, train_accs, test_accs, precisions, recalls = artifacts\n",
    "    plotter.plot_generic_metrics((train_accs, test_accs), \"accuracy\", model_name)\n",
    "    plotter.plot_precision_recall_curve(precisions, recalls, model_name)"
   ]
  }
 ],
 "metadata": {
  "kernelspec": {
   "display_name": ".venv",
   "language": "python",
   "name": "python3"
  },
  "language_info": {
   "codemirror_mode": {
    "name": "ipython",
    "version": 3
   },
   "file_extension": ".py",
   "mimetype": "text/x-python",
   "name": "python",
   "nbconvert_exporter": "python",
   "pygments_lexer": "ipython3",
   "version": "3.12.7"
  }
 },
 "nbformat": 4,
 "nbformat_minor": 2
}
