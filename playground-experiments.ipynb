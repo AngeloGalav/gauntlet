{
 "cells": [
  {
   "cell_type": "markdown",
   "metadata": {},
   "source": [
    "# Experimental/mixed approach\n",
    "In this notebook, we will be testing a network which will use the data from dataset to train itself."
   ]
  },
  {
   "cell_type": "code",
   "execution_count": 1,
   "metadata": {},
   "outputs": [],
   "source": [
    "import torch\n",
    "from torchvision.models import resnet18, resnet50\n",
    "import model_utils\n",
    "import plotter\n",
    "import data_utils\n",
    "import matplotlib.pyplot as plt\n",
    "import torch.nn as nn\n",
    "from torch.utils.data import DataLoader, ConcatDataset, Subset\n",
    "import importlib\n",
    "import torchvision.transforms as transforms\n",
    "\n",
    "model_utils.fix_random(42)"
   ]
  },
  {
   "cell_type": "markdown",
   "metadata": {},
   "source": [
    "## Preparing the data\n",
    "\n",
    "As we're using a mixed approach, we would need to upscale the CIFAKE images to match the size of the other, more complicated ones. Obviously, we will apply all the other transformations needed to the RVAA dataset.\n",
    "\n",
    "As the CIFAKE dataset is much more oversampled than the RVAA dataset (120'000 vs 1'000 samples) we need to take in consideration a very small subset of CIFAKE in order to create a properly balanced mixed dataset. In particular, we take about 1200 samples from CIFAKE."
   ]
  },
  {
   "cell_type": "code",
   "execution_count": 12,
   "metadata": {},
   "outputs": [],
   "source": [
    "IMG_SIZE = 224\n",
    "\n",
    "transform_cifake = transforms.Compose([\n",
    "    transforms.Lambda(lambda image: image.convert('RGB')),  # Convert to RGB\n",
    "    transforms.Resize((IMG_SIZE, IMG_SIZE)),                # Resize to IMG_SIZE\n",
    "    transforms.ToTensor(),\n",
    "    transforms.Normalize(mean=[0.485, 0.456, 0.406], std=[0.229, 0.224, 0.225])\n",
    "])\n",
    "\n",
    "\n",
    "d1 = data_utils.CIFAKEDataset(root_dir=\"data/CIFAKE\", split=\"train\", transform=transform_cifake)\n",
    "d2 = data_utils.CIFAKEDataset(root_dir=\"data/CIFAKE\", split=\"test\", transform=transform_cifake)\n",
    "cifake_dataset = ConcatDataset([d1, d2])\n",
    "\n",
    "\n",
    "# Selecting a subset of the CIFAKE datasets\n",
    "portion_size = int(0.01 * len(cifake_dataset))  # Select 20% of the dataset\n",
    "indices = list(range(portion_size))\n",
    "cifake_dataset = Subset(cifake_dataset, indices)\n",
    "\n",
    "transform_rvaa = transforms.Compose([\n",
    "    transforms.Lambda(lambda image: image.convert('RGB')), # Convert to RGB\n",
    "    transforms.Resize(IMG_SIZE),                 # Resize to IMG_SIZE while keeping aspect ratio\n",
    "    transforms.Lambda(data_utils.pad_to_square), # Apply the dynamic padding to make the image square\n",
    "    transforms.Resize((IMG_SIZE, IMG_SIZE)),     # Ensure the final image is IMG_SIZExIMG_SIZE\n",
    "    transforms.ToTensor(),\n",
    "    transforms.Normalize(mean=[0.485, 0.456, 0.406], std=[0.229, 0.224, 0.225])  # Normalizing \"should\" help with Pretrained nets\n",
    "])\n",
    "\n",
    "rvaa_dataset = data_utils.RVAADataset(root_dir=\"data/RealVsAiArt\", transform=transform_rvaa)\n",
    "\n",
    "# the final dataset that's going to be used\n",
    "merged_dataset = ConcatDataset([cifake_dataset, rvaa_dataset])"
   ]
  },
  {
   "cell_type": "code",
   "execution_count": 3,
   "metadata": {},
   "outputs": [],
   "source": [
    "LEARNING_RATE = 3e-4\n",
    "EPOCHS = 20\n",
    "BATCH_SIZE = 64"
   ]
  },
  {
   "cell_type": "code",
   "execution_count": 13,
   "metadata": {},
   "outputs": [],
   "source": [
    "train_dataset, val_dataset, test_dataset = data_utils.train_test_split((0.7, 0.15), dataset=merged_dataset)\n",
    "\n",
    "train_dataloader = DataLoader(train_dataset, batch_size=BATCH_SIZE, pin_memory=True, shuffle=True)\n",
    "test_dataloader = DataLoader(test_dataset, batch_size=BATCH_SIZE, pin_memory=True)\n",
    "val_dataloader = DataLoader(val_dataset, batch_size=BATCH_SIZE, pin_memory=True)"
   ]
  },
  {
   "cell_type": "markdown",
   "metadata": {},
   "source": [
    "## Model\n",
    "Since the model that has been giving us great results so far is a ResNet50, we can try and use it again to see if it manages to capture the patterns learned from CIFAKE with the patterns learned from RealVsAiArt."
   ]
  },
  {
   "cell_type": "code",
   "execution_count": 14,
   "metadata": {},
   "outputs": [
    {
     "name": "stdout",
     "output_type": "stream",
     "text": [
      "using cuda device\n"
     ]
    }
   ],
   "source": [
    "ft_resnet50 = resnet50(weights='IMAGENET1K_V1')\n",
    "model_utils.prepare_for_ft(ft_resnet50, num_classes=1)\n",
    "device = model_utils.get_device()\n",
    "print(f\"using {device} device\")\n",
    "ft_resnet50.to(device)\n",
    "\n",
    "\n",
    "loss_fn = nn.BCEWithLogitsLoss()\n",
    "optimizer = torch.optim.AdamW(ft_resnet50.fc.parameters(), lr=LEARNING_RATE)\n",
    "\n",
    "dataloaders = (train_dataloader, val_dataloader)"
   ]
  },
  {
   "cell_type": "markdown",
   "metadata": {},
   "source": [
    "## Training setup\n",
    "The training is done using 10 epochs and a batch size of 64.\n",
    "As before, we use a 2-step training method which allows us to train the classification head first and then the feature extractor. As shown in the CIFAKE model, this usually deals pretty good results."
   ]
  },
  {
   "cell_type": "code",
   "execution_count": 15,
   "metadata": {},
   "outputs": [
    {
     "name": "stdout",
     "output_type": "stream",
     "text": [
      "Epoch 1/10\n",
      "-------------------------------\n"
     ]
    },
    {
     "name": "stderr",
     "output_type": "stream",
     "text": [
      "c:\\Users\\tekke\\AppData\\Local\\Programs\\Python\\Python312\\Lib\\site-packages\\PIL\\Image.py:981: UserWarning: Palette images with Transparency expressed in bytes should be converted to RGBA images\n",
      "  warnings.warn(\n"
     ]
    },
    {
     "name": "stdout",
     "output_type": "stream",
     "text": [
      "Validation Error:\n",
      "Accuracy: 78.5%, Avg loss: 0.473389\n",
      "New best model found! (based on lowest loss)\n",
      "...and saved.\n",
      "\n",
      "\n",
      "Epoch 2/10\n",
      "-------------------------------\n",
      "Validation Error:\n",
      "Accuracy: 81.5%, Avg loss: 0.396274\n",
      "New best model found! (based on lowest loss)\n",
      "...and saved.\n",
      "\n",
      "\n",
      "Epoch 3/10\n",
      "-------------------------------\n",
      "Validation Error:\n",
      "Accuracy: 82.8%, Avg loss: 0.364768\n",
      "New best model found! (based on lowest loss)\n",
      "...and saved.\n",
      "\n",
      "\n",
      "Epoch 4/10\n",
      "-------------------------------\n",
      "Validation Error:\n",
      "Accuracy: 82.5%, Avg loss: 0.349185\n",
      "New best model found! (based on lowest loss)\n",
      "...and saved.\n",
      "\n",
      "\n",
      "Epoch 5/10\n",
      "-------------------------------\n",
      "Validation Error:\n",
      "Accuracy: 82.2%, Avg loss: 0.339242\n",
      "New best model found! (based on lowest loss)\n",
      "...and saved.\n",
      "\n",
      "\n",
      "Epoch 6/10\n",
      "-------------------------------\n",
      "Validation Error:\n",
      "Accuracy: 83.7%, Avg loss: 0.329120\n",
      "New best model found! (based on lowest loss)\n",
      "...and saved.\n",
      "\n",
      "\n",
      "Epoch 7/10\n",
      "-------------------------------\n",
      "Validation Error:\n",
      "Accuracy: 85.2%, Avg loss: 0.321406\n",
      "New best model found! (based on lowest loss)\n",
      "...and saved.\n",
      "\n",
      "\n",
      "Epoch 8/10\n",
      "-------------------------------\n",
      "Validation Error:\n",
      "Accuracy: 85.5%, Avg loss: 0.312456\n",
      "New best model found! (based on lowest loss)\n",
      "...and saved.\n",
      "\n",
      "\n",
      "Epoch 9/10\n",
      "-------------------------------\n",
      "Validation Error:\n",
      "Accuracy: 86.2%, Avg loss: 0.306293\n",
      "New best model found! (based on lowest loss)\n",
      "...and saved.\n",
      "\n",
      "\n",
      "Epoch 10/10\n",
      "-------------------------------\n",
      "Validation Error:\n",
      "Accuracy: 86.5%, Avg loss: 0.303230\n",
      "New best model found! (based on lowest loss)\n",
      "...and saved.\n",
      "\n",
      "\n"
     ]
    },
    {
     "name": "stderr",
     "output_type": "stream",
     "text": [
      "c:\\Users\\tekke\\Desktop\\ethics_project2\\model_utils.py:152: FutureWarning: You are using `torch.load` with `weights_only=False` (the current default value), which uses the default pickle module implicitly. It is possible to construct malicious pickle data which will execute arbitrary code during unpickling (See https://github.com/pytorch/pytorch/blob/main/SECURITY.md#untrusted-models for more details). In a future release, the default value for `weights_only` will be flipped to `True`. This limits the functions that could be executed during unpickling. Arbitrary objects will no longer be allowed to be loaded via this mode unless they are explicitly allowlisted by the user via `torch.serialization.add_safe_globals`. We recommend you start setting `weights_only=True` for any use case where you don't have full control of the loaded file. Please open an issue on GitHub for any issues related to this experimental feature.\n",
      "  model.load_state_dict(torch.load(weight_filename))\n"
     ]
    }
   ],
   "source": [
    "artifacts = model_utils.train(dataloaders, loss_fn, optimizer, ft_resnet50, \"MixResNet\", BATCH_SIZE, EPOCHS, loss_thresh=2.5, force_train=True)"
   ]
  },
  {
   "cell_type": "code",
   "execution_count": 16,
   "metadata": {},
   "outputs": [
    {
     "name": "stdout",
     "output_type": "stream",
     "text": [
      "Test Error:\n",
      "Accuracy: 86.2%, Avg loss: 0.298269\n"
     ]
    },
    {
     "data": {
      "text/plain": [
       "(0.2982693463563919, tensor(0.8620, device='cuda:0'))"
      ]
     },
     "execution_count": 16,
     "metadata": {},
     "output_type": "execute_result"
    }
   ],
   "source": [
    "model_utils.test(test_dataloader, ft_resnet50, loss_fn, device)"
   ]
  },
  {
   "cell_type": "code",
   "execution_count": 17,
   "metadata": {},
   "outputs": [
    {
     "data": {
      "image/png": "[encoded data removed]",
      "text/plain": [
       "<Figure size 640x480 with 1 Axes>"
      ]
     },
     "metadata": {},
     "output_type": "display_data"
    }
   ],
   "source": [
    "if artifacts != None:\n",
    "    losses, train_accs, test_accs = artifacts\n",
    "    plotter.plot_metrics((train_accs, test_accs), \"accuracy\")"
   ]
  },
  {
   "cell_type": "markdown",
   "metadata": {},
   "source": [
    "### Fine-tuning step 2\n",
    "Using a 2-step fine-tuning, we are able to achieve much better performance."
   ]
  },
  {
   "cell_type": "code",
   "execution_count": 19,
   "metadata": {},
   "outputs": [],
   "source": [
    "for param in ft_resnet50.parameters():\n",
    "    param.requires_grad = True\n",
    "\n",
    "\n",
    "optimizer = torch.optim.AdamW(ft_resnet50.parameters(), lr=LEARNING_RATE)"
   ]
  },
  {
   "cell_type": "code",
   "execution_count": 20,
   "metadata": {},
   "outputs": [
    {
     "name": "stdout",
     "output_type": "stream",
     "text": [
      "Epoch 1/10\n",
      "-------------------------------\n",
      "Validation Error:\n",
      "Accuracy: 84.9%, Avg loss: 0.417047\n",
      "New best model found! (based on lowest loss)\n",
      "...and saved.\n",
      "\n",
      "\n",
      "Epoch 2/10\n",
      "-------------------------------\n",
      "Validation Error:\n",
      "Accuracy: 91.1%, Avg loss: 0.224599\n",
      "New best model found! (based on lowest loss)\n",
      "...and saved.\n",
      "\n",
      "\n",
      "Epoch 3/10\n",
      "-------------------------------\n",
      "Validation Error:\n",
      "Accuracy: 87.4%, Avg loss: 0.638192\n",
      "\n",
      "\n",
      "Epoch 4/10\n",
      "-------------------------------\n",
      "Validation Error:\n",
      "Accuracy: 85.8%, Avg loss: 0.498619\n",
      "\n",
      "\n",
      "Epoch 5/10\n",
      "-------------------------------\n",
      "Validation Error:\n",
      "Accuracy: 90.2%, Avg loss: 0.611076\n",
      "\n",
      "\n",
      "Epoch 6/10\n",
      "-------------------------------\n",
      "Validation Error:\n",
      "Accuracy: 88.3%, Avg loss: 0.463037\n",
      "\n",
      "\n",
      "Epoch 7/10\n",
      "-------------------------------\n",
      "Validation Error:\n",
      "Accuracy: 84.3%, Avg loss: 0.851145\n",
      "\n",
      "\n",
      "Epoch 8/10\n",
      "-------------------------------\n",
      "Validation Error:\n",
      "Accuracy: 89.2%, Avg loss: 0.772052\n",
      "\n",
      "\n",
      "Epoch 9/10\n",
      "-------------------------------\n",
      "Validation Error:\n",
      "Accuracy: 92.3%, Avg loss: 0.277773\n",
      "\n",
      "\n",
      "Epoch 10/10\n",
      "-------------------------------\n",
      "Validation Error:\n",
      "Accuracy: 92.0%, Avg loss: 0.301121\n",
      "\n",
      "\n"
     ]
    }
   ],
   "source": [
    "artifacts = model_utils.train(dataloaders, loss_fn, optimizer, ft_resnet50, \"MixResNet_beefy\", BATCH_SIZE, EPOCHS, loss_thresh=2.5, force_train=True)"
   ]
  },
  {
   "cell_type": "code",
   "execution_count": 21,
   "metadata": {},
   "outputs": [
    {
     "name": "stdout",
     "output_type": "stream",
     "text": [
      "Test Error:\n",
      "Accuracy: 88.7%, Avg loss: 0.218408\n"
     ]
    },
    {
     "data": {
      "text/plain": [
       "(0.21840820709864298, tensor(0.8865, device='cuda:0'))"
      ]
     },
     "execution_count": 21,
     "metadata": {},
     "output_type": "execute_result"
    }
   ],
   "source": [
    "model_utils.test(test_dataloader, ft_resnet50, loss_fn, device)"
   ]
  },
  {
   "cell_type": "code",
   "execution_count": 22,
   "metadata": {},
   "outputs": [
    {
     "data": {
      "image/png": "[encoded data removed]",
      "text/plain": [
       "<Figure size 640x480 with 1 Axes>"
      ]
     },
     "metadata": {},
     "output_type": "display_data"
    }
   ],
   "source": [
    "if artifacts != None:\n",
    "    losses, train_accs, test_accs = artifacts\n",
    "    plotter.plot_metrics((train_accs, test_accs), \"accuracy\")"
   ]
  }
 ],
 "metadata": {
  "kernelspec": {
   "display_name": "Python 3",
   "language": "python",
   "name": "python3"
  },
  "language_info": {
   "codemirror_mode": {
    "name": "ipython",
    "version": 3
   },
   "file_extension": ".py",
   "mimetype": "text/x-python",
   "name": "python",
   "nbconvert_exporter": "python",
   "pygments_lexer": "ipython3",
   "version": "3.12.7"
  }
 },
 "nbformat": 4,
 "nbformat_minor": 2
}
